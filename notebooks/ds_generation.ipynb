{
 "cells": [
  {
   "cell_type": "code",
   "execution_count": 1,
   "metadata": {
    "collapsed": true
   },
   "outputs": [],
   "source": [
    "import sys\n",
    "sys.path.insert(0, '..')"
   ]
  },
  {
   "cell_type": "code",
   "execution_count": 2,
   "metadata": {
    "collapsed": true
   },
   "outputs": [],
   "source": [
    "import pandas as pd\n",
    "from pyphoon.db.pd_manager import PDManager\n",
    "from pyphoon.io.h5 import read_source_image"
   ]
  },
  {
   "cell_type": "code",
   "execution_count": 3,
   "metadata": {
    "collapsed": true
   },
   "outputs": [],
   "source": [
    "man = PDManager()\n",
    "orig_images_dir = '../../../../datasets/typhoon/wnp/image/'\n",
    "corrected_dir = '../../../database/corrected'\n",
    "db_dir = '../../../database/'\n",
    "from os.path import exists, join\n",
    "images = join(db_dir, 'images.pkl')\n",
    "corrected = join(db_dir, 'corrected.pkl')"
   ]
  },
  {
   "cell_type": "code",
   "execution_count": 4,
   "metadata": {
    "collapsed": true
   },
   "outputs": [],
   "source": [
    "man.load_original_images(images)\n",
    "man.load_corrected_images(corrected)\n",
    "man.load_besttrack(join(db_dir, 'besttrack.pkl'))\n",
    "man.load_missing_images_info(join(db_dir, 'missing.pkl'))"
   ]
  },
  {
   "cell_type": "code",
   "execution_count": 5,
   "metadata": {
    "collapsed": true
   },
   "outputs": [],
   "source": [
    "images = man.images\n",
    "besttrack = man.besttrack\n",
    "corrected = man.corrected\n",
    "missing = man.missing"
   ]
  },
  {
   "cell_type": "code",
   "execution_count": 6,
   "metadata": {},
   "outputs": [
    {
     "data": {
      "text/html": [
       "<div>\n",
       "<style scoped>\n",
       "    .dataframe tbody tr th:only-of-type {\n",
       "        vertical-align: middle;\n",
       "    }\n",
       "\n",
       "    .dataframe tbody tr th {\n",
       "        vertical-align: top;\n",
       "    }\n",
       "\n",
       "    .dataframe thead th {\n",
       "        text-align: right;\n",
       "    }\n",
       "</style>\n",
       "<table border=\"1\" class=\"dataframe\">\n",
       "  <thead>\n",
       "    <tr style=\"text-align: right;\">\n",
       "      <th></th>\n",
       "      <th>start_time</th>\n",
       "      <th>time_step</th>\n",
       "      <th>frames_num</th>\n",
       "      <th>missing_num</th>\n",
       "      <th>completeness</th>\n",
       "      <th>missing_frames</th>\n",
       "      <th>have_good_neighbours</th>\n",
       "    </tr>\n",
       "    <tr>\n",
       "      <th>seq_no</th>\n",
       "      <th></th>\n",
       "      <th></th>\n",
       "      <th></th>\n",
       "      <th></th>\n",
       "      <th></th>\n",
       "      <th></th>\n",
       "      <th></th>\n",
       "    </tr>\n",
       "  </thead>\n",
       "  <tbody>\n",
       "    <tr>\n",
       "      <th>197830</th>\n",
       "      <td>1978-12-01 00:00:00</td>\n",
       "      <td>03:00:00</td>\n",
       "      <td>3</td>\n",
       "      <td>0</td>\n",
       "      <td>1.000000</td>\n",
       "      <td>[]</td>\n",
       "      <td>[]</td>\n",
       "    </tr>\n",
       "    <tr>\n",
       "      <th>197901</th>\n",
       "      <td>1978-12-31 12:00:00</td>\n",
       "      <td>03:00:00</td>\n",
       "      <td>147</td>\n",
       "      <td>34</td>\n",
       "      <td>0.768707</td>\n",
       "      <td>[1, 2, 9, 10, 17, 18, 25, 26, 31, 32, 33, 36, ...</td>\n",
       "      <td>[36, 42, 81]</td>\n",
       "    </tr>\n",
       "    <tr>\n",
       "      <th>197902</th>\n",
       "      <td>1979-03-19 00:00:00</td>\n",
       "      <td>03:00:00</td>\n",
       "      <td>51</td>\n",
       "      <td>6</td>\n",
       "      <td>0.882353</td>\n",
       "      <td>[5, 12, 19, 26, 33, 40]</td>\n",
       "      <td>[5, 12, 19, 26, 33, 40]</td>\n",
       "    </tr>\n",
       "    <tr>\n",
       "      <th>197903</th>\n",
       "      <td>1979-04-11 00:00:00</td>\n",
       "      <td>03:00:00</td>\n",
       "      <td>101</td>\n",
       "      <td>18</td>\n",
       "      <td>0.821782</td>\n",
       "      <td>[5, 12, 19, 20, 27, 28, 35, 36, 43, 44, 51, 52...</td>\n",
       "      <td>[5, 12]</td>\n",
       "    </tr>\n",
       "    <tr>\n",
       "      <th>197904</th>\n",
       "      <td>1979-05-09 00:00:00</td>\n",
       "      <td>03:00:00</td>\n",
       "      <td>85</td>\n",
       "      <td>18</td>\n",
       "      <td>0.788235</td>\n",
       "      <td>[1, 4, 5, 8, 11, 12, 19, 20, 27, 28, 35, 36, 4...</td>\n",
       "      <td>[1, 8]</td>\n",
       "    </tr>\n",
       "  </tbody>\n",
       "</table>\n",
       "</div>"
      ],
      "text/plain": [
       "                start_time time_step frames_num missing_num  completeness  \\\n",
       "seq_no                                                                      \n",
       "197830 1978-12-01 00:00:00  03:00:00          3           0      1.000000   \n",
       "197901 1978-12-31 12:00:00  03:00:00        147          34      0.768707   \n",
       "197902 1979-03-19 00:00:00  03:00:00         51           6      0.882353   \n",
       "197903 1979-04-11 00:00:00  03:00:00        101          18      0.821782   \n",
       "197904 1979-05-09 00:00:00  03:00:00         85          18      0.788235   \n",
       "\n",
       "                                           missing_frames  \\\n",
       "seq_no                                                      \n",
       "197830                                                 []   \n",
       "197901  [1, 2, 9, 10, 17, 18, 25, 26, 31, 32, 33, 36, ...   \n",
       "197902                            [5, 12, 19, 26, 33, 40]   \n",
       "197903  [5, 12, 19, 20, 27, 28, 35, 36, 43, 44, 51, 52...   \n",
       "197904  [1, 4, 5, 8, 11, 12, 19, 20, 27, 28, 35, 36, 4...   \n",
       "\n",
       "           have_good_neighbours  \n",
       "seq_no                           \n",
       "197830                       []  \n",
       "197901             [36, 42, 81]  \n",
       "197902  [5, 12, 19, 26, 33, 40]  \n",
       "197903                  [5, 12]  \n",
       "197904                   [1, 8]  "
      ]
     },
     "execution_count": 6,
     "metadata": {},
     "output_type": "execute_result"
    }
   ],
   "source": [
    "man.missing.head()"
   ]
  },
  {
   "cell_type": "code",
   "execution_count": 7,
   "metadata": {
    "collapsed": true
   },
   "outputs": [],
   "source": [
    "one_hour_seqs = missing[missing.time_step == pd.Timedelta(hours=1)]"
   ]
  },
  {
   "cell_type": "code",
   "execution_count": 8,
   "metadata": {},
   "outputs": [
    {
     "data": {
      "text/plain": [
       "200115"
      ]
     },
     "execution_count": 8,
     "metadata": {},
     "output_type": "execute_result"
    }
   ],
   "source": [
    "# getting triplets\n",
    "seq_no = one_hour_seqs.sample(n=1, random_state=5).index[0]\n",
    "seq_no"
   ]
  },
  {
   "cell_type": "code",
   "execution_count": 9,
   "metadata": {},
   "outputs": [
    {
     "data": {
      "text/plain": [
       "[[0, 1, 2],\n",
       " [1, 2, 3],\n",
       " [2, 3, 4],\n",
       " [3, 4, 5],\n",
       " [4, 5, 6],\n",
       " [5, 6, 7],\n",
       " [6, 7, 8],\n",
       " [7, 8, 9],\n",
       " [8, 9, 10],\n",
       " [9, 10, 11],\n",
       " [10, 11, 12],\n",
       " [11, 12, 13],\n",
       " [15, 16, 17],\n",
       " [16, 17, 18],\n",
       " [17, 18, 19],\n",
       " [18, 19, 20],\n",
       " [19, 20, 21],\n",
       " [20, 21, 22],\n",
       " [21, 22, 23],\n",
       " [22, 23, 24],\n",
       " [23, 24, 25],\n",
       " [27, 28, 29],\n",
       " [28, 29, 30],\n",
       " [29, 30, 31],\n",
       " [30, 31, 32],\n",
       " [31, 32, 33],\n",
       " [32, 33, 34],\n",
       " [36, 37, 38],\n",
       " [37, 38, 39],\n",
       " [38, 39, 40],\n",
       " [39, 40, 41],\n",
       " [40, 41, 42],\n",
       " [41, 42, 43],\n",
       " [42, 43, 44],\n",
       " [47, 48, 49],\n",
       " [48, 49, 50],\n",
       " [49, 50, 51],\n",
       " [50, 51, 52],\n",
       " [51, 52, 53],\n",
       " [52, 53, 54],\n",
       " [56, 57, 58],\n",
       " [57, 58, 59],\n",
       " [58, 59, 60],\n",
       " [59, 60, 61],\n",
       " [60, 61, 62],\n",
       " [61, 62, 63],\n",
       " [62, 63, 64],\n",
       " [67, 68, 69],\n",
       " [68, 69, 70],\n",
       " [69, 70, 71],\n",
       " [70, 71, 72],\n",
       " [71, 72, 73],\n",
       " [72, 73, 74],\n",
       " [76, 77, 78],\n",
       " [77, 78, 79],\n",
       " [78, 79, 80],\n",
       " [79, 80, 81],\n",
       " [80, 81, 82],\n",
       " [81, 82, 83],\n",
       " [82, 83, 84],\n",
       " [83, 84, 85],\n",
       " [84, 85, 86],\n",
       " [88, 89, 90],\n",
       " [89, 90, 91],\n",
       " [90, 91, 92],\n",
       " [91, 92, 93],\n",
       " [92, 93, 94],\n",
       " [93, 94, 95],\n",
       " [97, 98, 99],\n",
       " [98, 99, 100],\n",
       " [99, 100, 101],\n",
       " [100, 101, 102],\n",
       " [101, 102, 103],\n",
       " [102, 103, 104],\n",
       " [103, 104, 105],\n",
       " [104, 105, 106],\n",
       " [105, 106, 107],\n",
       " [109, 110, 111],\n",
       " [110, 111, 112],\n",
       " [111, 112, 113],\n",
       " [112, 113, 114],\n",
       " [113, 114, 115],\n",
       " [114, 115, 116],\n",
       " [118, 119, 120],\n",
       " [119, 120, 121],\n",
       " [120, 121, 122],\n",
       " [121, 122, 123],\n",
       " [122, 123, 124],\n",
       " [123, 124, 125],\n",
       " [124, 125, 126],\n",
       " [125, 126, 127],\n",
       " [126, 127, 128],\n",
       " [130, 131, 132],\n",
       " [131, 132, 133],\n",
       " [132, 133, 134],\n",
       " [133, 134, 135],\n",
       " [134, 135, 136],\n",
       " [135, 136, 137],\n",
       " [139, 140, 141],\n",
       " [140, 141, 142],\n",
       " [141, 142, 143],\n",
       " [142, 143, 144],\n",
       " [143, 144, 145],\n",
       " [144, 145, 146],\n",
       " [145, 146, 147],\n",
       " [146, 147, 148],\n",
       " [147, 148, 149],\n",
       " [151, 152, 153],\n",
       " [152, 153, 154],\n",
       " [153, 154, 155],\n",
       " [154, 155, 156],\n",
       " [155, 156, 157],\n",
       " [156, 157, 158],\n",
       " [160, 161, 162],\n",
       " [161, 162, 163],\n",
       " [162, 163, 164],\n",
       " [163, 164, 165],\n",
       " [164, 165, 166],\n",
       " [165, 166, 167],\n",
       " [166, 167, 168],\n",
       " [167, 168, 169],\n",
       " [168, 169, 170],\n",
       " [172, 173, 174],\n",
       " [173, 174, 175],\n",
       " [174, 175, 176],\n",
       " [175, 176, 177],\n",
       " [176, 177, 178],\n",
       " [177, 178, 179],\n",
       " [181, 182, 183],\n",
       " [182, 183, 184],\n",
       " [183, 184, 185],\n",
       " [184, 185, 186],\n",
       " [185, 186, 187],\n",
       " [186, 187, 188],\n",
       " [187, 188, 189],\n",
       " [188, 189, 190],\n",
       " [189, 190, 191],\n",
       " [193, 194, 195],\n",
       " [194, 195, 196],\n",
       " [195, 196, 197],\n",
       " [196, 197, 198],\n",
       " [197, 198, 199],\n",
       " [198, 199, 200],\n",
       " [202, 203, 204],\n",
       " [203, 204, 205],\n",
       " [204, 205, 206],\n",
       " [205, 206, 207],\n",
       " [206, 207, 208],\n",
       " [207, 208, 209],\n",
       " [208, 209, 210],\n",
       " [209, 210, 211],\n",
       " [210, 211, 212],\n",
       " [211, 212, 213],\n",
       " [212, 213, 214],\n",
       " [213, 214, 215],\n",
       " [214, 215, 216],\n",
       " [215, 216, 217],\n",
       " [216, 217, 218],\n",
       " [217, 218, 219],\n",
       " [218, 219, 220],\n",
       " [219, 220, 221],\n",
       " [220, 221, 222],\n",
       " [221, 222, 223],\n",
       " [222, 223, 224]]"
      ]
     },
     "execution_count": 9,
     "metadata": {},
     "output_type": "execute_result"
    }
   ],
   "source": [
    "seq = one_hour_seqs.loc[seq_no]\n",
    "triplets = []\n",
    "for frame in range(1, seq.frames_num - 1):\n",
    "    triplet = [frame - 1, frame, frame + 1]\n",
    "    if len(set(seq.missing_frames).intersection(triplet)) == 0:\n",
    "        triplets.append(triplet)\n",
    "triplets"
   ]
  },
  {
   "cell_type": "code",
   "execution_count": 10,
   "metadata": {},
   "outputs": [
    {
     "data": {
      "text/plain": [
       "Index(['directory', 'filename', 'size', 'frame'], dtype='object')"
      ]
     },
     "execution_count": 10,
     "metadata": {},
     "output_type": "execute_result"
    }
   ],
   "source": [
    "images.columns"
   ]
  },
  {
   "cell_type": "code",
   "execution_count": 11,
   "metadata": {
    "collapsed": true
   },
   "outputs": [],
   "source": [
    "#use following to generate triplets"
   ]
  },
  {
   "cell_type": "code",
   "execution_count": 75,
   "metadata": {},
   "outputs": [
    {
     "name": "stdout",
     "output_type": "stream",
     "text": [
      "164 triplets selected\n"
     ]
    }
   ],
   "source": [
    "rel_paths = []\n",
    "seq = images.loc[seq_no]\n",
    "for triplet in triplets:\n",
    "    files = []\n",
    "    for num in triplet:\n",
    "        f, d =seq.loc[seq['frame']==num, ['directory' , 'filename']].iloc[0, :]\n",
    "        files.append(join(f, d))\n",
    "    rel_paths.append(files)\n",
    "print(\"{0} triplets selected\".format(len(rel_paths)))"
   ]
  },
  {
   "cell_type": "code",
   "execution_count": 195,
   "metadata": {},
   "outputs": [],
   "source": [
    "import cv2\n",
    "import numpy as np\n",
    "from cv2 import calcOpticalFlowFarneback as sw_farneback_optical_flow\n"
   ]
  },
  {
   "cell_type": "code",
   "execution_count": 196,
   "metadata": {
    "collapsed": true
   },
   "outputs": [],
   "source": [
    "def write_triplet(paths):\n",
    "    for i in range(len(paths)):\n",
    "        im.append(read_source_image(join(orig_images_dir, paths[i])))\n",
    "#     scaling to 0 --> 255\n",
    "    scaled_ims = im-(np.min(im))\n",
    "    scaled_ims /= np.max(scaled_ims) / 255.0\n",
    "    scaled_ims = 255 - scaled_ims.astype(np.uint8)\n",
    "    for i in range(len(scaled_ims)):\n",
    "        cv2.imwrite('{0}_orig.png'.format(i), scaled_ims[i])\n",
    "    "
   ]
  },
  {
   "cell_type": "code",
   "execution_count": 226,
   "metadata": {
    "collapsed": true
   },
   "outputs": [],
   "source": [
    "def warp_flow(img, flow):\n",
    "    h, w = flow.shape[:2]\n",
    "    flow = -flow\n",
    "    flow[:,:,0] /=2.0\n",
    "    flow[:,:,1] /=2.0\n",
    "    flow[:,:,0] += np.arange(w)\n",
    "    flow[:,:,1] += np.arange(h)[:,np.newaxis]\n",
    "    res = cv2.remap(img, flow, None, cv2.INTER_CUBIC, borderMode =cv2.BORDER_REPLICATE )\n",
    "    return res"
   ]
  },
  {
   "cell_type": "code",
   "execution_count": null,
   "metadata": {
    "collapsed": true
   },
   "outputs": [],
   "source": []
  },
  {
   "cell_type": "code",
   "execution_count": 228,
   "metadata": {},
   "outputs": [],
   "source": [
    "for path in rel_paths[-2:-1]:\n",
    "    write_triplet(path)"
   ]
  },
  {
   "cell_type": "code",
   "execution_count": 170,
   "metadata": {},
   "outputs": [],
   "source": []
  },
  {
   "cell_type": "code",
   "execution_count": 231,
   "metadata": {},
   "outputs": [],
   "source": [
    "fr_1_gr = cv2.imread('0_orig.png')\n",
    "fr_1_gr_ = cv2.cvtColor(fr_1_gr, cv2.COLOR_RGB2GRAY)\n",
    "fr_2_gr = cv2.imread('2_orig.png')\n",
    "fr_2_gr_ = cv2.cvtColor(fr_2_gr, cv2.COLOR_RGB2GRAY)\n",
    "sw_flow = cv2.calcOpticalFlowFarneback(fr_1_gr_, fr_2_gr_, flow=None,\n",
    "                                        pyr_scale=0.5, levels=1, winsize=15,\n",
    "                                        iterations=2,\n",
    "                                        poly_n=5, poly_sigma=1.1, flags=0)"
   ]
  },
  {
   "cell_type": "code",
   "execution_count": 186,
   "metadata": {
    "collapsed": true
   },
   "outputs": [],
   "source": []
  },
  {
   "cell_type": "code",
   "execution_count": 241,
   "metadata": {
    "collapsed": true
   },
   "outputs": [],
   "source": [
    "def draw_flow(img, flow, step=22):\n",
    "    h, w = img.shape[:2]\n",
    "    y, x = np.mgrid[step/2:h:step, step/2:w:step].reshape(2,-1)\n",
    "    x = x.astype(int)\n",
    "    y = y.astype(int)\n",
    "    fx, fy = flow[y,x].T\n",
    "    lines = np.vstack([x, y, x+fx, y+fy]).T.reshape(-1, 2, 2)\n",
    "    lines = np.int32(lines + 0.5)\n",
    "    vis = cv2.cvtColor(img, cv2.COLOR_RGB2GRAY)\n",
    "    cv2.polylines(vis, lines, 0, (0, 255, 0))\n",
    "    for (x1, y1), (x2, y2) in lines:\n",
    "        cv2.circle(vis, (x1, y1), 1, (0, 255, 0), -1)\n",
    "    return vis"
   ]
  },
  {
   "cell_type": "code",
   "execution_count": 243,
   "metadata": {},
   "outputs": [
    {
     "data": {
      "text/plain": [
       "True"
      ]
     },
     "execution_count": 243,
     "metadata": {},
     "output_type": "execute_result"
    }
   ],
   "source": [
    "cv2.imwrite('1_flow.png',warp_flow(fr_1_gr, sw_flow))\n"
   ]
  },
  {
   "cell_type": "code",
   "execution_count": 242,
   "metadata": {},
   "outputs": [],
   "source": [
    "draw_flow_ = draw_flow(fr_1_gr, sw_flow)"
   ]
  },
  {
   "cell_type": "code",
   "execution_count": 220,
   "metadata": {},
   "outputs": [
    {
     "data": {
      "text/plain": [
       "True"
      ]
     },
     "execution_count": 220,
     "metadata": {},
     "output_type": "execute_result"
    }
   ],
   "source": [
    "cv2.imwrite('draw_flow.png',draw_flow)"
   ]
  },
  {
   "cell_type": "code",
   "execution_count": null,
   "metadata": {
    "collapsed": true
   },
   "outputs": [],
   "source": []
  }
 ],
 "metadata": {
  "kernelspec": {
   "display_name": "Python 3",
   "language": "python",
   "name": "python3"
  },
  "language_info": {
   "codemirror_mode": {
    "name": "ipython",
    "version": 3
   },
   "file_extension": ".py",
   "mimetype": "text/x-python",
   "name": "python",
   "nbconvert_exporter": "python",
   "pygments_lexer": "ipython3",
   "version": "3.6.3"
  }
 },
 "nbformat": 4,
 "nbformat_minor": 2
}
