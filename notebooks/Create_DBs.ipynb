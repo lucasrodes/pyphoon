{
 "cells": [
  {
   "cell_type": "markdown",
   "metadata": {},
   "source": [
    "In this notebook we will guide you on how to generate a pandas database using the source data given by Prof. Kitamoto. To this end, we will be using the class `PDManager` from `pyphoon.db.pd_manager`."
   ]
  },
  {
   "cell_type": "code",
   "execution_count": 1,
   "metadata": {},
   "outputs": [],
   "source": [
    "import sys\n",
    "sys.path.insert(0, '..')\n",
    "from os.path import exists, join\n",
    "from os import makedirs\n",
    "from pyphoon.db import pd_manager"
   ]
  },
  {
   "cell_type": "markdown",
   "metadata": {},
   "source": [
    "Let us first define a batch of paths, used to retrieve the original data and store the new data."
   ]
  },
  {
   "cell_type": "code",
   "execution_count": 2,
   "metadata": {},
   "outputs": [],
   "source": [
    "# Paths to source data\n",
    "orig_images_dir = '../original_data/image/'\n",
    "besttrack_dir = '../original_data/jma/'\n",
    "# Path to new database files\n",
    "db_dir = '../data/database'\n",
    "# Create database directory if does not exist\n",
    "if not exists(db_dir):\n",
    "    makedirs(db_dir)\n",
    "# Path where corrected images are to be stored\n",
    "corrected_dir = '../data/database/corrected'\n",
    "# Path where generated images are to be stored\n",
    "generated_dir = '../data/database/generated'\n",
    "# Pickle files (used to store dataframes)\n",
    "images_pkl_path = join(db_dir, 'images.pkl')\n",
    "corrupted_pkl_path = join(db_dir, 'corrupted.pkl')\n",
    "besttrack_pkl_path = join(db_dir, 'besttrack.pkl')\n",
    "missing_pkl_path = join(db_dir, 'missing.pkl')"
   ]
  },
  {
   "cell_type": "markdown",
   "metadata": {},
   "source": [
    "## Original images database"
   ]
  },
  {
   "cell_type": "markdown",
   "metadata": {},
   "source": [
    "Let us first create an instance of `PDManager` and load the original image data using its method `add_orig_images`. This method creates a table in `PDManager` with information from the original images. We then use the method `save_orig_images` to store the generated table. In subsequent calls, we might want to directly use the method `load_orig_images` to load the table from a previously stored pickle file."
   ]
  },
  {
   "cell_type": "code",
   "execution_count": 3,
   "metadata": {},
   "outputs": [],
   "source": [
    "# Instance of PDManager\n",
    "pd_man = pd_manager.PDManager()\n",
    "\n",
    "# Load original image data\n",
    "if not exists(images_pkl_path):\n",
    "    print('Images database file not found, creating new...')\n",
    "    pd_man.add_orig_images(orig_images_dir)\n",
    "    pd_man.save_images(images_pkl_path)\n",
    "    print('Done.')\n",
    "else:\n",
    "    pd_man.load_images(images_pkl_path)"
   ]
  },
  {
   "cell_type": "code",
   "execution_count": 4,
   "metadata": {},
   "outputs": [
    {
     "name": "stdout",
     "output_type": "stream",
     "text": [
      "<class 'pandas.core.frame.DataFrame'>\n",
      "MultiIndex: 164627 entries, (197830, 1978-12-01 00:00:00) to (201727, 2017-12-26 06:00:00)\n",
      "Data columns (total 3 columns):\n",
      "directory    164627 non-null object\n",
      "filename     164627 non-null object\n",
      "size         164627 non-null int64\n",
      "dtypes: int64(1), object(2)\n",
      "memory usage: 26.2 MB\n"
     ]
    }
   ],
   "source": [
    "pd_man.images.info(memory_usage='deep')"
   ]
  },
  {
   "cell_type": "markdown",
   "metadata": {},
   "source": [
    "## Besttrack database"
   ]
  },
  {
   "cell_type": "code",
   "execution_count": 5,
   "metadata": {},
   "outputs": [],
   "source": [
    "if not exists(besttrack_pkl_path):\n",
    "    print('Besttrack database file not found, creating new...')\n",
    "    pd_man.add_besttrack(besttrack_dir)\n",
    "    pd_man.save_besttrack(besttrack_pkl_path)\n",
    "    print('Done.')\n",
    "else:\n",
    "    pd_man.load_besttrack(besttrack_pkl_path)"
   ]
  },
  {
   "cell_type": "code",
   "execution_count": 6,
   "metadata": {},
   "outputs": [
    {
     "name": "stdout",
     "output_type": "stream",
     "text": [
      "<class 'pandas.core.frame.DataFrame'>\n",
      "MultiIndex: 361579 entries, (195101, 1951-02-19 06:00:00) to (201726, 2017-12-23 18:00:00)\n",
      "Data columns (total 16 columns):\n",
      "class                 361579 non-null int64\n",
      "latitude              361579 non-null float64\n",
      "longitude             361579 non-null float64\n",
      "pressure              361579 non-null float64\n",
      "wind                  361579 non-null float64\n",
      "gust                  361579 non-null float64\n",
      "storm_direc           361579 non-null int64\n",
      "storm_radius_major    361579 non-null int64\n",
      "storm_radius_minor    361579 non-null int64\n",
      "gale_direc            361579 non-null int64\n",
      "gale_radius_major     361579 non-null int64\n",
      "gale_radius_minor     361579 non-null int64\n",
      "landfall              361579 non-null int64\n",
      "speed                 361579 non-null int64\n",
      "direction             361579 non-null int64\n",
      "interpolated          361579 non-null int64\n",
      "dtypes: float64(5), int64(11)\n",
      "memory usage: 48.1 MB\n"
     ]
    }
   ],
   "source": [
    "pd_man.besttrack.info(memory_usage='deep')"
   ]
  },
  {
   "cell_type": "markdown",
   "metadata": {},
   "source": [
    "## Generate new datasets"
   ]
  },
  {
   "cell_type": "code",
   "execution_count": 7,
   "metadata": {},
   "outputs": [],
   "source": [
    "from pyphoon.clean_satellite.correction import correct_corrupted_pixels_1\n",
    "from pyphoon.clean_satellite.detection import detect_corrupted_pixels_1\n",
    "from pyphoon.clean_satellite.generation import generate_new_frames_1\n",
    "from pyphoon.clean_satellite.fix import TyphoonListImageFixAlgorithm"
   ]
  },
  {
   "cell_type": "code",
   "execution_count": 8,
   "metadata": {},
   "outputs": [],
   "source": [
    "# Define Fixing algorithm\n",
    "fix_algorithm = TyphoonListImageFixAlgorithm(\n",
    "    detect_fct=detect_corrupted_pixels_1,\n",
    "    correct_fct=correct_corrupted_pixels_1,\n",
    "    generate_fct=generate_new_frames_1,\n",
    "    detect_params={'min_th': 160, 'max_th': 310},\n",
    "    n_frames_th=3\n",
    ")"
   ]
  },
  {
   "cell_type": "code",
   "execution_count": null,
   "metadata": {},
   "outputs": [
    {
     "name": "stdout",
     "output_type": "stream",
     "text": [
      "197830\n",
      "197901\n",
      "197902\n",
      "197903\n",
      "197904\n",
      "197905\n",
      "197906\n",
      "197907\n",
      "197908\n",
      "197909\n",
      "197910\n",
      "197911\n",
      "197912\n",
      "197913\n",
      "197914\n",
      "197915\n",
      "197916\n",
      "197917\n",
      "197918\n",
      "197919\n",
      "197920\n",
      "197921\n",
      "197922\n",
      "197923\n",
      "198101\n",
      "198102\n",
      "198103\n",
      "198104\n",
      "198105\n",
      "198106\n",
      "198107\n",
      "198108\n",
      "198109\n",
      "198110\n",
      "198111\n",
      "198112\n",
      "198113\n",
      "198114\n",
      "198115\n",
      "198116\n",
      "198117\n",
      "198118\n",
      "198119\n",
      "198120\n",
      "198121\n",
      "198122\n",
      "198123\n",
      "198124\n",
      "198125\n",
      "198126\n",
      "198127\n",
      "198128\n",
      "198129\n",
      "198201\n",
      "198202\n",
      "198203\n",
      "198204\n",
      "198205\n",
      "198206\n",
      "198207\n",
      "198208\n",
      "198209\n",
      "198210\n",
      "198211\n",
      "198212\n",
      "198213\n",
      "198214\n",
      "198215\n",
      "198216\n",
      "198217\n",
      "198218\n",
      "198219\n",
      "198220\n",
      "198221\n",
      "198222\n",
      "198223\n",
      "198224\n",
      "198225\n",
      "198301\n",
      "198302\n",
      "198303\n",
      "198304\n",
      "198305\n",
      "198306\n",
      "198307\n",
      "198308\n",
      "198309\n",
      "198310\n",
      "198311\n",
      "198312\n",
      "198313\n",
      "198314\n",
      "198315\n",
      "198316\n"
     ]
    }
   ],
   "source": [
    "from pyphoon.clean_satellite.fix import generate_new_image_dataset\n",
    "generate_new_image_dataset(\n",
    "    orig_images_dir,\n",
    "    fix_algorithm,\n",
    "    images_corrected_dir=corrected_dir,\n",
    "    images_generated_dir=generated_dir,\n",
    "    display=True\n",
    ")"
   ]
  },
  {
   "cell_type": "code",
   "execution_count": null,
   "metadata": {},
   "outputs": [],
   "source": [
    "if not exists(corrupted_pkl_path):\n",
    "    print('Corrupted database file not found, creating new...')\n",
    "    pd_man.add_corrupted(images_dir=corrected_dir)\n",
    "    pd_man.save_corrupted(corrupted_pkl_path)\n",
    "    print('Done.')\n",
    "else:\n",
    "    pd_man.load_corrupted(corrupted_pkl_path)"
   ]
  },
  {
   "cell_type": "code",
   "execution_count": 18,
   "metadata": {},
   "outputs": [
    {
     "name": "stdout",
     "output_type": "stream",
     "text": [
      "<class 'pandas.core.frame.DataFrame'>\n",
      "MultiIndex: 4788 entries, (197901, 1979-01-03 16:00:00) to (201717, 2017-09-04 15:00:00)\n",
      "Data columns (total 3 columns):\n",
      "directory    4788 non-null object\n",
      "filename     4788 non-null object\n",
      "size         4788 non-null int64\n",
      "dtypes: int64(1), object(2)\n",
      "memory usage: 814.1 KB\n"
     ]
    }
   ],
   "source": [
    "pd_man.corrupted.info(memory_usage='deep')"
   ]
  },
  {
   "cell_type": "code",
   "execution_count": null,
   "metadata": {},
   "outputs": [],
   "source": [
    "pd_man.add_corarected_info(corrected_dir=corrected_dir, orig_images_dir=orig_images_dir)"
   ]
  },
  {
   "cell_type": "code",
   "execution_count": 16,
   "metadata": {},
   "outputs": [
    {
     "data": {
      "text/html": [
       "<div>\n",
       "<style>\n",
       "    .dataframe thead tr:only-child th {\n",
       "        text-align: right;\n",
       "    }\n",
       "\n",
       "    .dataframe thead th {\n",
       "        text-align: left;\n",
       "    }\n",
       "\n",
       "    .dataframe tbody tr th {\n",
       "        vertical-align: top;\n",
       "    }\n",
       "</style>\n",
       "<table border=\"1\" class=\"dataframe\">\n",
       "  <thead>\n",
       "    <tr style=\"text-align: right;\">\n",
       "      <th></th>\n",
       "      <th></th>\n",
       "      <th>corrupted</th>\n",
       "      <th>corruption</th>\n",
       "    </tr>\n",
       "    <tr>\n",
       "      <th>seq_no</th>\n",
       "      <th>obs_time</th>\n",
       "      <th></th>\n",
       "      <th></th>\n",
       "    </tr>\n",
       "  </thead>\n",
       "  <tbody>\n",
       "    <tr>\n",
       "      <th rowspan=\"3\" valign=\"top\">197901</th>\n",
       "      <th>1979-01-03 16:00:00</th>\n",
       "      <td>197901_1979010316</td>\n",
       "      <td>0.004311</td>\n",
       "    </tr>\n",
       "    <tr>\n",
       "      <th>1979-01-06 21:00:00</th>\n",
       "      <td>197901_1979010621</td>\n",
       "      <td>0.002281</td>\n",
       "    </tr>\n",
       "    <tr>\n",
       "      <th>1979-01-07 06:00:00</th>\n",
       "      <td>197901_1979010706</td>\n",
       "      <td>0.000004</td>\n",
       "    </tr>\n",
       "    <tr>\n",
       "      <th rowspan=\"2\" valign=\"top\">197902</th>\n",
       "      <th>1979-03-22 03:00:00</th>\n",
       "      <td>197902_1979032203</td>\n",
       "      <td>0.000328</td>\n",
       "    </tr>\n",
       "    <tr>\n",
       "      <th>1979-03-22 06:00:00</th>\n",
       "      <td>197902_1979032206</td>\n",
       "      <td>0.000103</td>\n",
       "    </tr>\n",
       "  </tbody>\n",
       "</table>\n",
       "</div>"
      ],
      "text/plain": [
       "                                    corrupted  corruption\n",
       "seq_no obs_time                                          \n",
       "197901 1979-01-03 16:00:00  197901_1979010316    0.004311\n",
       "       1979-01-06 21:00:00  197901_1979010621    0.002281\n",
       "       1979-01-07 06:00:00  197901_1979010706    0.000004\n",
       "197902 1979-03-22 03:00:00  197902_1979032203    0.000328\n",
       "       1979-03-22 06:00:00  197902_1979032206    0.000103"
      ]
     },
     "execution_count": 16,
     "metadata": {},
     "output_type": "execute_result"
    }
   ],
   "source": [
    "pd_man.corrupted.head()"
   ]
  },
  {
   "cell_type": "code",
   "execution_count": 17,
   "metadata": {
    "collapsed": true
   },
   "outputs": [],
   "source": [
    "pd_man.save_corrupted(corrupted)"
   ]
  }
 ],
 "metadata": {
  "kernelspec": {
   "display_name": "Python 3",
   "language": "python",
   "name": "python3"
  },
  "language_info": {
   "codemirror_mode": {
    "name": "ipython",
    "version": 3
   },
   "file_extension": ".py",
   "mimetype": "text/x-python",
   "name": "python",
   "nbconvert_exporter": "python",
   "pygments_lexer": "ipython3",
   "version": "3.6.3"
  }
 },
 "nbformat": 4,
 "nbformat_minor": 2
}
