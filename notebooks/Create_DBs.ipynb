{
 "cells": [
  {
   "cell_type": "code",
   "execution_count": 2,
   "metadata": {
    "collapsed": true
   },
   "outputs": [],
   "source": [
    "import sys\n",
    "sys.path.insert(0, '..')\n",
    "from os.path import exists, join\n",
    "from os import mkdir\n"
   ]
  },
  {
   "cell_type": "code",
   "execution_count": 3,
   "metadata": {
    "collapsed": true
   },
   "outputs": [],
   "source": [
    "from pyphoon.db import pd_manager"
   ]
  },
  {
   "cell_type": "code",
   "execution_count": 4,
   "metadata": {
    "collapsed": true
   },
   "outputs": [],
   "source": [
    "pd_man = pd_manager.PDManager()"
   ]
  },
  {
   "cell_type": "code",
   "execution_count": 5,
   "metadata": {
    "collapsed": true
   },
   "outputs": [],
   "source": [
    "orig_images_dir = '../../../../datasets/typhoon/wnp/image/'\n",
    "besttrack_dir = '../../../../datasets/typhoon/wnp/jma/'\n",
    "corrected_dir = '../../../database/corrected'"
   ]
  },
  {
   "cell_type": "code",
   "execution_count": 6,
   "metadata": {
    "collapsed": true
   },
   "outputs": [],
   "source": [
    "db_dir = '../../../database/'"
   ]
  },
  {
   "cell_type": "code",
   "execution_count": 7,
   "metadata": {
    "collapsed": true
   },
   "outputs": [],
   "source": [
    "if not exists(db_dir):\n",
    "    mkdir(db_dir)"
   ]
  },
  {
   "cell_type": "code",
   "execution_count": 8,
   "metadata": {
    "collapsed": true
   },
   "outputs": [],
   "source": [
    "images = join(db_dir, 'images.pkl')\n",
    "corrected = join(db_dir, 'corrected.pkl')\n",
    "besttrack = join(db_dir, 'besttrack.pkl')\n",
    "missing = join(db_dir, 'missing.pkl')"
   ]
  },
  {
   "cell_type": "markdown",
   "metadata": {},
   "source": [
    "## Original images database"
   ]
  },
  {
   "cell_type": "code",
   "execution_count": 9,
   "metadata": {
    "collapsed": true
   },
   "outputs": [],
   "source": [
    "if not exists(images):\n",
    "    print('Images database file not found, creating new...')\n",
    "    pd_man.add_original_images(orig_images_dir)\n",
    "    pd_man.save_original_images(images)\n",
    "    print('Done.')\n",
    "else:\n",
    "    pd_man.load_original_images(images)"
   ]
  },
  {
   "cell_type": "code",
   "execution_count": 10,
   "metadata": {},
   "outputs": [
    {
     "name": "stdout",
     "output_type": "stream",
     "text": [
      "<class 'pandas.core.frame.DataFrame'>\n",
      "MultiIndex: 164627 entries, (197830, 1978-12-01 00:00:00) to (201727, 2017-12-26 06:00:00)\n",
      "Data columns (total 3 columns):\n",
      "directory    164627 non-null object\n",
      "filename     164627 non-null object\n",
      "size         164627 non-null int64\n",
      "dtypes: int64(1), object(2)\n",
      "memory usage: 26.2 MB\n"
     ]
    }
   ],
   "source": [
    "pd_man.images.info(memory_usage='deep')"
   ]
  },
  {
   "cell_type": "markdown",
   "metadata": {},
   "source": [
    "## Besttrack database"
   ]
  },
  {
   "cell_type": "code",
   "execution_count": 11,
   "metadata": {
    "collapsed": true
   },
   "outputs": [],
   "source": [
    "if not exists(besttrack):\n",
    "    print('Besttrack database file not found, creating new...')\n",
    "    pd_man.add_besttrack(besttrack_dir)\n",
    "    pd_man.save_besttrack(besttrack)\n",
    "    print('Done.')\n",
    "else:\n",
    "    pd_man.load_besttrack(besttrack)"
   ]
  },
  {
   "cell_type": "code",
   "execution_count": 12,
   "metadata": {},
   "outputs": [
    {
     "name": "stdout",
     "output_type": "stream",
     "text": [
      "<class 'pandas.core.frame.DataFrame'>\n",
      "MultiIndex: 361579 entries, (195101, 1951-02-19 06:00:00) to (201726, 2017-12-23 18:00:00)\n",
      "Data columns (total 16 columns):\n",
      "class                 361579 non-null int64\n",
      "latitude              361579 non-null float64\n",
      "longitude             361579 non-null float64\n",
      "pressure              361579 non-null float64\n",
      "wind                  361579 non-null float64\n",
      "gust                  361579 non-null float64\n",
      "storm_direc           361579 non-null int64\n",
      "storm_radius_major    361579 non-null int64\n",
      "storm_radius_minor    361579 non-null int64\n",
      "gale_direc            361579 non-null int64\n",
      "gale_radius_major     361579 non-null int64\n",
      "gale_radius_minor     361579 non-null int64\n",
      "landfall              361579 non-null int64\n",
      "speed                 361579 non-null int64\n",
      "direction             361579 non-null int64\n",
      "interpolated          361579 non-null int64\n",
      "dtypes: float64(5), int64(11)\n",
      "memory usage: 48.1 MB\n"
     ]
    }
   ],
   "source": [
    "pd_man.besttrack.info(memory_usage='deep')"
   ]
  },
  {
   "cell_type": "markdown",
   "metadata": {},
   "source": [
    "## Corrected"
   ]
  },
  {
   "cell_type": "code",
   "execution_count": 13,
   "metadata": {},
   "outputs": [],
   "source": [
    "if not exists(corrected):\n",
    "    print('Corrected database file not found, creating new...')\n",
    "    pd_man.add_corrected_images(directory=corrected_dir)\n",
    "    pd_man.save_corrected_images(corrected)\n",
    "    print('Done.')\n",
    "else:\n",
    "    pd_man.load_corrected_images(corrected)"
   ]
  },
  {
   "cell_type": "code",
   "execution_count": 14,
   "metadata": {},
   "outputs": [
    {
     "name": "stdout",
     "output_type": "stream",
     "text": [
      "<class 'pandas.core.frame.DataFrame'>\n",
      "MultiIndex: 4788 entries, (197901, 1979-01-03 16:00:00) to (201717, 2017-09-04 15:00:00)\n",
      "Data columns (total 4 columns):\n",
      "directory     4788 non-null object\n",
      "filename      4788 non-null object\n",
      "size          4788 non-null int64\n",
      "corruption    4788 non-null float64\n",
      "dtypes: float64(1), int64(1), object(2)\n",
      "memory usage: 820.4 KB\n"
     ]
    }
   ],
   "source": [
    "pd_man.corrected.info(memory_usage='deep')"
   ]
  },
  {
   "cell_type": "code",
   "execution_count": 15,
   "metadata": {
    "collapsed": true
   },
   "outputs": [],
   "source": [
    "if not pd_man.corrected.columns.contains('corruption'):\n",
    "    # Adding corruption percentage to the dataframe\n",
    "    pd_man.add_corrected_info(corrected_dir=corrected_dir, orig_images_dir=orig_images_dir)\n",
    "    pd_man.save_corrected_images(corrected)"
   ]
  },
  {
   "cell_type": "code",
   "execution_count": 16,
   "metadata": {},
   "outputs": [
    {
     "data": {
      "text/html": [
       "<div>\n",
       "<style scoped>\n",
       "    .dataframe tbody tr th:only-of-type {\n",
       "        vertical-align: middle;\n",
       "    }\n",
       "\n",
       "    .dataframe tbody tr th {\n",
       "        vertical-align: top;\n",
       "    }\n",
       "\n",
       "    .dataframe thead th {\n",
       "        text-align: right;\n",
       "    }\n",
       "</style>\n",
       "<table border=\"1\" class=\"dataframe\">\n",
       "  <thead>\n",
       "    <tr style=\"text-align: right;\">\n",
       "      <th></th>\n",
       "      <th></th>\n",
       "      <th>directory</th>\n",
       "      <th>filename</th>\n",
       "      <th>size</th>\n",
       "      <th>corruption</th>\n",
       "    </tr>\n",
       "    <tr>\n",
       "      <th>seq_no</th>\n",
       "      <th>obs_time</th>\n",
       "      <th></th>\n",
       "      <th></th>\n",
       "      <th></th>\n",
       "      <th></th>\n",
       "    </tr>\n",
       "  </thead>\n",
       "  <tbody>\n",
       "    <tr>\n",
       "      <th rowspan=\"3\" valign=\"top\">197901</th>\n",
       "      <th>1979-01-03 16:00:00</th>\n",
       "      <td>197901</td>\n",
       "      <td>1979010316-197901-GMS1-1.h5</td>\n",
       "      <td>402787</td>\n",
       "      <td>0.004311</td>\n",
       "    </tr>\n",
       "    <tr>\n",
       "      <th>1979-01-06 21:00:00</th>\n",
       "      <td>197901</td>\n",
       "      <td>1979010621-197901-GMS1-1.h5</td>\n",
       "      <td>350307</td>\n",
       "      <td>0.002281</td>\n",
       "    </tr>\n",
       "    <tr>\n",
       "      <th>1979-01-07 06:00:00</th>\n",
       "      <td>197901</td>\n",
       "      <td>1979010706-197901-GMS1-1.h5</td>\n",
       "      <td>349199</td>\n",
       "      <td>0.000004</td>\n",
       "    </tr>\n",
       "    <tr>\n",
       "      <th rowspan=\"2\" valign=\"top\">197902</th>\n",
       "      <th>1979-03-22 03:00:00</th>\n",
       "      <td>197902</td>\n",
       "      <td>1979032203-197902-GMS1-1.h5</td>\n",
       "      <td>328479</td>\n",
       "      <td>0.000328</td>\n",
       "    </tr>\n",
       "    <tr>\n",
       "      <th>1979-03-22 06:00:00</th>\n",
       "      <td>197902</td>\n",
       "      <td>1979032206-197902-GMS1-1.h5</td>\n",
       "      <td>331209</td>\n",
       "      <td>0.000103</td>\n",
       "    </tr>\n",
       "  </tbody>\n",
       "</table>\n",
       "</div>"
      ],
      "text/plain": [
       "                           directory                     filename    size  \\\n",
       "seq_no obs_time                                                             \n",
       "197901 1979-01-03 16:00:00    197901  1979010316-197901-GMS1-1.h5  402787   \n",
       "       1979-01-06 21:00:00    197901  1979010621-197901-GMS1-1.h5  350307   \n",
       "       1979-01-07 06:00:00    197901  1979010706-197901-GMS1-1.h5  349199   \n",
       "197902 1979-03-22 03:00:00    197902  1979032203-197902-GMS1-1.h5  328479   \n",
       "       1979-03-22 06:00:00    197902  1979032206-197902-GMS1-1.h5  331209   \n",
       "\n",
       "                            corruption  \n",
       "seq_no obs_time                         \n",
       "197901 1979-01-03 16:00:00    0.004311  \n",
       "       1979-01-06 21:00:00    0.002281  \n",
       "       1979-01-07 06:00:00    0.000004  \n",
       "197902 1979-03-22 03:00:00    0.000328  \n",
       "       1979-03-22 06:00:00    0.000103  "
      ]
     },
     "execution_count": 16,
     "metadata": {},
     "output_type": "execute_result"
    }
   ],
   "source": [
    "pd_man.corrected.head()"
   ]
  },
  {
   "cell_type": "code",
   "execution_count": 17,
   "metadata": {
    "collapsed": true
   },
   "outputs": [],
   "source": [
    "pd_man.save_corrected_images(corrected)"
   ]
  },
  {
   "cell_type": "markdown",
   "metadata": {},
   "source": [
    "## Missing images"
   ]
  },
  {
   "cell_type": "code",
   "execution_count": 18,
   "metadata": {},
   "outputs": [],
   "source": [
    "if not exists(missing):\n",
    "    print('Missing database file not found, creating new...')\n",
    "    pd_man.add_missing_images_info()\n",
    "    pd_man.save_missing_images_info(missing)\n",
    "    print('Done.')\n",
    "else:\n",
    "    pd_man.load_missing_images_info(missing)"
   ]
  },
  {
   "cell_type": "markdown",
   "metadata": {},
   "source": [
    "Adding information about frames numbers to the original images dataframe"
   ]
  },
  {
   "cell_type": "code",
   "execution_count": 22,
   "metadata": {},
   "outputs": [
    {
     "name": "stdout",
     "output_type": "stream",
     "text": [
      "Adding frames numbers\n"
     ]
    }
   ],
   "source": [
    "if not pd_man.images.columns.contains('frame'):\n",
    "    print('Adding frames numbers')\n",
    "    pd_man.add_frames()\n",
    "    pd_man.save_original_images(images)"
   ]
  },
  {
   "cell_type": "code",
   "execution_count": 20,
   "metadata": {},
   "outputs": [
    {
     "data": {
      "text/plain": [
       "Int64Index([197830, 197901, 197902, 197903, 197904, 197905, 197906, 197907,\n",
       "            197908, 197909,\n",
       "            ...\n",
       "            201718, 201719, 201720, 201721, 201722, 201723, 201724, 201725,\n",
       "            201726, 201727],\n",
       "           dtype='int64', name='seq_no', length=971)"
      ]
     },
     "execution_count": 20,
     "metadata": {},
     "output_type": "execute_result"
    }
   ],
   "source": []
  }
 ],
 "metadata": {
  "kernelspec": {
   "display_name": "Python 3",
   "language": "python",
   "name": "python3"
  }
 },
 "nbformat": 4,
 "nbformat_minor": 2
}
