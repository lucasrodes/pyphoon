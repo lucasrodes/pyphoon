{
 "cells": [
  {
   "cell_type": "code",
   "execution_count": 1,
   "metadata": {
    "collapsed": true
   },
   "outputs": [],
   "source": [
    "import sys\n",
    "sys.path.insert(0, '..')"
   ]
  },
  {
   "cell_type": "code",
   "execution_count": 2,
   "metadata": {
    "collapsed": true
   },
   "outputs": [],
   "source": [
    "from pyphoon.db import pd_manager\n",
    "from pyphoon.clean.correction import correct_corrupted_pixels_1\n",
    "from pyphoon.clean.detection import detect_corrupted_pixels_1\n",
    "from pyphoon.clean.fillgaps import generate_new_frames_1\n",
    "from pyphoon.clean.fix import TyphoonListImageFixAlgorithm\n"
   ]
  },
  {
   "cell_type": "code",
   "execution_count": 3,
   "metadata": {
    "collapsed": true
   },
   "outputs": [],
   "source": [
    "pd_man = pd_manager.PDManager()"
   ]
  },
  {
   "cell_type": "code",
   "execution_count": 4,
   "metadata": {
    "collapsed": true
   },
   "outputs": [],
   "source": [
    "orig_images_dir = '../../../../datasets/typhoon/wnp/image/'\n",
    "besttrack_dir = '../../../../datasets/typhoon/wnp/jma/'\n",
    "corrected_dir = '../../../database/corrected'"
   ]
  },
  {
   "cell_type": "code",
   "execution_count": 5,
   "metadata": {
    "collapsed": true
   },
   "outputs": [],
   "source": [
    "db_dir = '../../../database/'"
   ]
  },
  {
   "cell_type": "code",
   "execution_count": 6,
   "metadata": {
    "collapsed": true
   },
   "outputs": [],
   "source": [
    "from os.path import exists, join\n",
    "from os import mkdir\n",
    "if not exists(db_dir):\n",
    "    mkdir(db_dir)"
   ]
  },
  {
   "cell_type": "code",
   "execution_count": 7,
   "metadata": {
    "collapsed": true
   },
   "outputs": [],
   "source": [
    "images = join(db_dir, 'images.pkl')\n",
    "corrupted = join(db_dir, 'corrupted.pkl')\n",
    "besttrack = join(db_dir, 'besttrack.pkl')\n",
    "missing = join(db_dir, 'missing.pkl')"
   ]
  },
  {
   "cell_type": "markdown",
   "metadata": {},
   "source": [
    "## Original images database"
   ]
  },
  {
   "cell_type": "code",
   "execution_count": 8,
   "metadata": {
    "collapsed": true
   },
   "outputs": [],
   "source": [
    "if not exists(images):\n",
    "    print('Images database file not found, creating new...')\n",
    "    pd_man.add_orig_images(orig_images_dir)\n",
    "    pd_man.save_images(images)\n",
    "    print('Done.')\n",
    "else:\n",
    "    pd_man.load_images(images)"
   ]
  },
  {
   "cell_type": "code",
   "execution_count": 9,
   "metadata": {},
   "outputs": [
    {
     "name": "stdout",
     "output_type": "stream",
     "text": [
      "<class 'pandas.core.frame.DataFrame'>\n",
      "MultiIndex: 164627 entries, (197830, 1978-12-01 00:00:00) to (201727, 2017-12-26 06:00:00)\n",
      "Data columns (total 3 columns):\n",
      "directory    164627 non-null object\n",
      "filename     164627 non-null object\n",
      "size         164627 non-null int64\n",
      "dtypes: int64(1), object(2)\n",
      "memory usage: 26.2 MB\n"
     ]
    }
   ],
   "source": [
    "pd_man.images.info(memory_usage='deep')"
   ]
  },
  {
   "cell_type": "markdown",
   "metadata": {},
   "source": [
    "## Besttrack database"
   ]
  },
  {
   "cell_type": "code",
   "execution_count": 10,
   "metadata": {
    "collapsed": true
   },
   "outputs": [],
   "source": [
    "if not exists(besttrack):\n",
    "    print('Besttrack database file not found, creating new...')\n",
    "    pd_man.add_besttrack(besttrack_dir)\n",
    "    pd_man.save_besttrack(besttrack)\n",
    "    print('Done.')\n",
    "else:\n",
    "    pd_man.load_besttrack(besttrack)"
   ]
  },
  {
   "cell_type": "code",
   "execution_count": 11,
   "metadata": {},
   "outputs": [
    {
     "name": "stdout",
     "output_type": "stream",
     "text": [
      "<class 'pandas.core.frame.DataFrame'>\n",
      "MultiIndex: 361579 entries, (195101, 1951-02-19 06:00:00) to (201726, 2017-12-23 18:00:00)\n",
      "Data columns (total 16 columns):\n",
      "class                 361579 non-null int64\n",
      "latitude              361579 non-null float64\n",
      "longitude             361579 non-null float64\n",
      "pressure              361579 non-null float64\n",
      "wind                  361579 non-null float64\n",
      "gust                  361579 non-null float64\n",
      "storm_direc           361579 non-null int64\n",
      "storm_radius_major    361579 non-null int64\n",
      "storm_radius_minor    361579 non-null int64\n",
      "gale_direc            361579 non-null int64\n",
      "gale_radius_major     361579 non-null int64\n",
      "gale_radius_minor     361579 non-null int64\n",
      "landfall              361579 non-null int64\n",
      "speed                 361579 non-null int64\n",
      "direction             361579 non-null int64\n",
      "interpolated          361579 non-null int64\n",
      "dtypes: float64(5), int64(11)\n",
      "memory usage: 48.1 MB\n"
     ]
    }
   ],
   "source": [
    "pd_man.besttrack.info(memory_usage='deep')"
   ]
  },
  {
   "cell_type": "markdown",
   "metadata": {},
   "source": [
    "## Corrected and corrupted"
   ]
  },
  {
   "cell_type": "code",
   "execution_count": 16,
   "metadata": {
    "collapsed": true
   },
   "outputs": [],
   "source": [
    "# Fix TyphoonList parameters\n",
    "fix_algorithm = TyphoonListImageFixAlgorithm(\n",
    "    detect_fct=detect_corrupted_pixels_1,\n",
    "    correct_fct=correct_corrupted_pixels_1,\n",
    "    fillgaps_fct=generate_new_frames_1,\n",
    "    detect_params={'min_th': 160, 'max_th': 310},\n",
    "    n_frames_th=2\n",
    ")\n"
   ]
  },
  {
   "cell_type": "code",
   "execution_count": 17,
   "metadata": {
    "collapsed": true
   },
   "outputs": [],
   "source": [
    "if not exists(corrupted):\n",
    "    print('Corrupted database file not found, creating new...')\n",
    "    pd_man.add_corrupted(fix_algorithm=fix_algorithm, images_dir=orig_images_dir, save_corrected_to=corrected_dir)\n",
    "    pd_man.save_corrupted(corrupted)\n",
    "    print('Done.')\n",
    "else:\n",
    "    pd_man.load_corrupted(corrupted)"
   ]
  },
  {
   "cell_type": "code",
   "execution_count": 18,
   "metadata": {},
   "outputs": [
    {
     "name": "stdout",
     "output_type": "stream",
     "text": [
      "<class 'pandas.core.frame.DataFrame'>\n",
      "MultiIndex: 4788 entries, (197901, 1979-01-03 16:00:00) to (201717, 2017-09-04 15:00:00)\n",
      "Data columns (total 2 columns):\n",
      "corrupted     4788 non-null object\n",
      "corruption    4788 non-null float64\n",
      "dtypes: float64(1), object(1)\n",
      "memory usage: 441.6 KB\n"
     ]
    }
   ],
   "source": [
    "pd_man.corrupted.info(memory_usage='deep')"
   ]
  },
  {
   "cell_type": "code",
   "execution_count": 19,
   "metadata": {},
   "outputs": [],
   "source": [
    "pd_man.add_corrected_info(corrected_dir=corrected_dir, orig_images_dir=orig_images_dir)"
   ]
  },
  {
   "cell_type": "code",
   "execution_count": 16,
   "metadata": {},
   "outputs": [
    {
     "data": {
      "text/html": [
       "<div>\n",
       "<style>\n",
       "    .dataframe thead tr:only-child th {\n",
       "        text-align: right;\n",
       "    }\n",
       "\n",
       "    .dataframe thead th {\n",
       "        text-align: left;\n",
       "    }\n",
       "\n",
       "    .dataframe tbody tr th {\n",
       "        vertical-align: top;\n",
       "    }\n",
       "</style>\n",
       "<table border=\"1\" class=\"dataframe\">\n",
       "  <thead>\n",
       "    <tr style=\"text-align: right;\">\n",
       "      <th></th>\n",
       "      <th></th>\n",
       "      <th>corrupted</th>\n",
       "      <th>corruption</th>\n",
       "    </tr>\n",
       "    <tr>\n",
       "      <th>seq_no</th>\n",
       "      <th>obs_time</th>\n",
       "      <th></th>\n",
       "      <th></th>\n",
       "    </tr>\n",
       "  </thead>\n",
       "  <tbody>\n",
       "    <tr>\n",
       "      <th rowspan=\"3\" valign=\"top\">197901</th>\n",
       "      <th>1979-01-03 16:00:00</th>\n",
       "      <td>197901_1979010316</td>\n",
       "      <td>0.004311</td>\n",
       "    </tr>\n",
       "    <tr>\n",
       "      <th>1979-01-06 21:00:00</th>\n",
       "      <td>197901_1979010621</td>\n",
       "      <td>0.002281</td>\n",
       "    </tr>\n",
       "    <tr>\n",
       "      <th>1979-01-07 06:00:00</th>\n",
       "      <td>197901_1979010706</td>\n",
       "      <td>0.000004</td>\n",
       "    </tr>\n",
       "    <tr>\n",
       "      <th rowspan=\"2\" valign=\"top\">197902</th>\n",
       "      <th>1979-03-22 03:00:00</th>\n",
       "      <td>197902_1979032203</td>\n",
       "      <td>0.000328</td>\n",
       "    </tr>\n",
       "    <tr>\n",
       "      <th>1979-03-22 06:00:00</th>\n",
       "      <td>197902_1979032206</td>\n",
       "      <td>0.000103</td>\n",
       "    </tr>\n",
       "  </tbody>\n",
       "</table>\n",
       "</div>"
      ],
      "text/plain": [
       "                                    corrupted  corruption\n",
       "seq_no obs_time                                          \n",
       "197901 1979-01-03 16:00:00  197901_1979010316    0.004311\n",
       "       1979-01-06 21:00:00  197901_1979010621    0.002281\n",
       "       1979-01-07 06:00:00  197901_1979010706    0.000004\n",
       "197902 1979-03-22 03:00:00  197902_1979032203    0.000328\n",
       "       1979-03-22 06:00:00  197902_1979032206    0.000103"
      ]
     },
     "execution_count": 16,
     "metadata": {},
     "output_type": "execute_result"
    }
   ],
   "source": [
    "pd_man.corrupted.head()"
   ]
  },
  {
   "cell_type": "code",
   "execution_count": 17,
   "metadata": {
    "collapsed": true
   },
   "outputs": [],
   "source": [
    "pd_man.save_corrupted(corrupted)"
   ]
  }
 ],
 "metadata": {
  "kernelspec": {
   "display_name": "Python 3",
   "language": "python",
   "name": "python3"
  },
  "language_info": {
   "codemirror_mode": {
    "name": "ipython",
    "version": 3
   },
   "file_extension": ".py",
   "mimetype": "text/x-python",
   "name": "python",
   "nbconvert_exporter": "python",
   "pygments_lexer": "ipython3",
   "version": "3.6.3"
  }
 },
 "nbformat": 4,
 "nbformat_minor": 2
}
