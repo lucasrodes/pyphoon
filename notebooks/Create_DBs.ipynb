{
 "cells": [
  {
   "cell_type": "code",
   "execution_count": 2,
   "metadata": {
    "collapsed": true
   },
   "outputs": [],
   "source": [
    "import sys\n",
    "sys.path.insert(0, '..')"
   ]
  },
  {
   "cell_type": "code",
   "execution_count": 3,
   "metadata": {
    "collapsed": true
   },
   "outputs": [],
   "source": [
    "from pyphoon.db import pd_manager"
   ]
  },
  {
   "cell_type": "code",
   "execution_count": 4,
   "metadata": {
    "collapsed": true
   },
   "outputs": [],
   "source": [
    "pd_man = pd_manager.PDManager()"
   ]
  },
  {
   "cell_type": "code",
   "execution_count": 5,
   "metadata": {
    "collapsed": true
   },
   "outputs": [],
   "source": [
    "orig_images_dir = '../../../../datasets/typhoon/wnp/image/'\n",
    "besttrack_dir = '../../../../datasets/typhoon/wnp/jma/'\n",
    "corrected_dir = '../../../database/corrected'"
   ]
  },
  {
   "cell_type": "code",
   "execution_count": 6,
   "metadata": {
    "collapsed": true
   },
   "outputs": [],
   "source": [
    "db_dir = '../../../database/'"
   ]
  },
  {
   "cell_type": "code",
   "execution_count": 7,
   "metadata": {
    "collapsed": true
   },
   "outputs": [],
   "source": [
    "from os.path import exists, join\n",
    "from os import mkdir\n",
    "if not exists(db_dir):\n",
    "    mkdir(db_dir)"
   ]
  },
  {
   "cell_type": "code",
   "execution_count": 8,
   "metadata": {
    "collapsed": true
   },
   "outputs": [],
   "source": [
    "images = join(db_dir, 'images.pkl')\n",
    "corrupted = join(db_dir, 'corrupted.pkl')\n",
    "besttrack = join(db_dir, 'besttrack.pkl')\n",
    "missing = join(db_dir, 'missing.pkl')"
   ]
  },
  {
   "cell_type": "markdown",
   "metadata": {},
   "source": [
    "## Original images database"
   ]
  },
  {
   "cell_type": "code",
   "execution_count": 9,
   "metadata": {
    "collapsed": true
   },
   "outputs": [],
   "source": [
    "if not exists(images):\n",
    "    print('Images database file not found, creating new...')\n",
    "    pd_man.add_orig_images(orig_images_dir)\n",
    "    pd_man.save_images(images)\n",
    "    print('Done.')\n",
    "else:\n",
    "    pd_man.load_images(images)"
   ]
  },
  {
   "cell_type": "code",
   "execution_count": 10,
   "metadata": {},
   "outputs": [
    {
     "name": "stdout",
     "output_type": "stream",
     "text": [
      "<class 'pandas.core.frame.DataFrame'>\n",
      "MultiIndex: 164627 entries, (197830, 1978-12-01 00:00:00) to (201727, 2017-12-26 06:00:00)\n",
      "Data columns (total 3 columns):\n",
      "directory    164627 non-null object\n",
      "filename     164627 non-null object\n",
      "size         164627 non-null int64\n",
      "dtypes: int64(1), object(2)\n",
      "memory usage: 26.2 MB\n"
     ]
    }
   ],
   "source": [
    "pd_man.images.info(memory_usage='deep')"
   ]
  },
  {
   "cell_type": "markdown",
   "metadata": {},
   "source": [
    "## Besttrack database"
   ]
  },
  {
   "cell_type": "code",
   "execution_count": 11,
   "metadata": {
    "collapsed": true
   },
   "outputs": [],
   "source": [
    "if not exists(besttrack):\n",
    "    print('Besttrack database file not found, creating new...')\n",
    "    pd_man.add_besttrack(besttrack_dir)\n",
    "    pd_man.save_besttrack(besttrack)\n",
    "    print('Done.')\n",
    "else:\n",
    "    pd_man.load_besttrack(besttrack)"
   ]
  },
  {
   "cell_type": "code",
   "execution_count": 12,
   "metadata": {},
   "outputs": [
    {
     "name": "stdout",
     "output_type": "stream",
     "text": [
      "<class 'pandas.core.frame.DataFrame'>\n",
      "MultiIndex: 361579 entries, (195101, 1951-02-19 06:00:00) to (201726, 2017-12-23 18:00:00)\n",
      "Data columns (total 16 columns):\n",
      "class                 361579 non-null int64\n",
      "latitude              361579 non-null float64\n",
      "longitude             361579 non-null float64\n",
      "pressure              361579 non-null float64\n",
      "wind                  361579 non-null float64\n",
      "gust                  361579 non-null float64\n",
      "storm_direc           361579 non-null int64\n",
      "storm_radius_major    361579 non-null int64\n",
      "storm_radius_minor    361579 non-null int64\n",
      "gale_direc            361579 non-null int64\n",
      "gale_radius_major     361579 non-null int64\n",
      "gale_radius_minor     361579 non-null int64\n",
      "landfall              361579 non-null int64\n",
      "speed                 361579 non-null int64\n",
      "direction             361579 non-null int64\n",
      "interpolated          361579 non-null int64\n",
      "dtypes: float64(5), int64(11)\n",
      "memory usage: 48.1 MB\n"
     ]
    }
   ],
   "source": [
    "pd_man.besttrack.info(memory_usage='deep')"
   ]
  },
  {
   "cell_type": "markdown",
   "metadata": {},
   "source": [
    "## Corrected and corrupted"
   ]
  },
  {
   "cell_type": "code",
   "execution_count": 13,
   "metadata": {},
   "outputs": [
    {
     "name": "stdout",
     "output_type": "stream",
     "text": [
      "Corrupted database file not found, creating new...\n",
      "Done.\n"
     ]
    }
   ],
   "source": [
    "if not exists(corrupted):\n",
    "    print('Corrupted database file not found, creating new...')\n",
    "    pd_man.add_corrupted(images_dir=orig_images_dir, save_corrected_to=corrected_dir)\n",
    "    pd_man.save_corrupted(corrupted)\n",
    "    print('Done.')\n",
    "else:\n",
    "    pd_man.load_corrupted(corrupted)"
   ]
  },
  {
   "cell_type": "code",
   "execution_count": 14,
   "metadata": {},
   "outputs": [
    {
     "name": "stdout",
     "output_type": "stream",
     "text": [
      "<class 'pandas.core.frame.DataFrame'>\n",
      "MultiIndex: 4788 entries, (197901, 1979-01-03 16:00:00) to (201717, 2017-09-04 15:00:00)\n",
      "Data columns (total 1 columns):\n",
      "corrupted    4788 non-null object\n",
      "dtypes: object(1)\n",
      "memory usage: 404.2 KB\n"
     ]
    }
   ],
   "source": [
    "pd_man.corrupted.info(memory_usage='deep')"
   ]
  },
  {
   "cell_type": "code",
   "execution_count": null,
   "metadata": {
    "collapsed": true
   },
   "outputs": [],
   "source": []
  },
  {
   "cell_type": "code",
   "execution_count": null,
   "metadata": {
    "collapsed": true
   },
   "outputs": [],
   "source": []
  }
 ],
 "metadata": {
  "kernelspec": {
   "display_name": "Python 3",
   "language": "python",
   "name": "python3"
  },
  "language_info": {
   "codemirror_mode": {
    "name": "ipython",
    "version": 3
   },
   "file_extension": ".py",
   "mimetype": "text/x-python",
   "name": "python",
   "nbconvert_exporter": "python",
   "pygments_lexer": "ipython3",
   "version": "3.6.3"
  }
 },
 "nbformat": 4,
 "nbformat_minor": 2
}
