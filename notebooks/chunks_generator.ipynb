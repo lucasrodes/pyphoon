{
 "cells": [
  {
   "cell_type": "code",
   "execution_count": 1,
   "metadata": {
    "collapsed": true
   },
   "outputs": [],
   "source": [
    "import sys\n",
    "sys.path.insert(0, '..')"
   ]
  },
  {
   "cell_type": "code",
   "execution_count": 5,
   "metadata": {
    "collapsed": true
   },
   "outputs": [],
   "source": [
    "import pandas as pd\n",
    "from pyphoon.db.pd_manager import PDManager\n",
    "from pyphoon.db.data_extractor import DataExtractor\n",
    "from pyphoon.io.h5 import read_source_image\n",
    "from os.path import exists, join\n",
    "import h5py"
   ]
  },
  {
   "cell_type": "code",
   "execution_count": 3,
   "metadata": {
    "collapsed": true
   },
   "outputs": [],
   "source": [
    "man = PDManager()\n",
    "orig_images_dir = '../../pyphoon/sampledata/datasets/image/'\n",
    "corrected_dir = '../../pyphoon/sampledata/datasets/corrected/'\n",
    "besttrack_dir = '../../pyphoon/sampledata/datasets/jma/'"
   ]
  },
  {
   "cell_type": "code",
   "execution_count": 4,
   "metadata": {},
   "outputs": [
    {
     "name": "stderr",
     "output_type": "stream",
     "text": [
      "/fs9/grishin/anaconda3/lib/python3.6/site-packages/ipykernel_launcher.py:8: PerformanceWarning: \n",
      "your performance may suffer as PyTables will pickle object types that it cannot\n",
      "map directly to c-types [inferred_type->mixed,key->values] [items->None]\n",
      "\n",
      "  \n",
      "/fs9/grishin/anaconda3/lib/python3.6/site-packages/tables/path.py:118: NaturalNameWarning: object name is a Python keyword: 'class'; you will not be able to use natural naming to access this object; using ``getattr()`` will still work, though\n",
      "  % (name, _warnInfo), NaturalNameWarning)\n"
     ]
    }
   ],
   "source": [
    "man.add_original_images(orig_images_dir)\n",
    "man.add_besttrack(besttrack_dir)\n",
    "man.add_corrected_images(corrected_dir)\n",
    "de = DataExtractor(original_images_dir=orig_images_dir, corrected_images_dir=corrected_dir, pd_manager=man)\n",
    "output_dir = 'output'\n",
    "seq_list = [(198702, 'train'), (200717, 'train'), (200718, 'test')]\n",
    "de.generate_images_besttrack_chunks(seq_list, chunk_size=1024 ** 2,\n",
    "                                    output_dir=output_dir)\n"
   ]
  },
  {
   "cell_type": "code",
   "execution_count": 12,
   "metadata": {},
   "outputs": [],
   "source": [
    "f = h5py.File(join(output_dir, 'test_0.h5'), 'r')\n",
    "keys = f.keys()\n",
    "assert('seq_no' in keys)\n",
    "assert('data' in keys)\n",
    "assert('pressure' in keys)\n",
    "assert(len(f.get('seq_no')) == len(f.get('pressure')))\n"
   ]
  },
  {
   "cell_type": "code",
   "execution_count": 15,
   "metadata": {},
   "outputs": [
    {
     "data": {
      "text/plain": [
       "h5py._hl.dataset.Dataset"
      ]
     },
     "execution_count": 15,
     "metadata": {},
     "output_type": "execute_result"
    }
   ],
   "source": [
    "list(f.get('seq_no')['values'])"
   ]
  },
  {
   "cell_type": "code",
   "execution_count": 17,
   "metadata": {},
   "outputs": [
    {
     "data": {
      "text/plain": [
       "[array([128,   4, 149, ..., 148,  98,  46], dtype=uint8)]"
      ]
     },
     "execution_count": 17,
     "metadata": {},
     "output_type": "execute_result"
    }
   ],
   "source": [
    "list(f.get('data')['values'])"
   ]
  }
 ],
 "metadata": {
  "kernelspec": {
   "display_name": "Python 3",
   "language": "python",
   "name": "python3"
  },
  "language_info": {
   "codemirror_mode": {
    "name": "ipython",
    "version": 3
   },
   "file_extension": ".py",
   "mimetype": "text/x-python",
   "name": "python",
   "nbconvert_exporter": "python",
   "pygments_lexer": "ipython3",
   "version": "3.6.3"
  }
 },
 "nbformat": 4,
 "nbformat_minor": 2
}
