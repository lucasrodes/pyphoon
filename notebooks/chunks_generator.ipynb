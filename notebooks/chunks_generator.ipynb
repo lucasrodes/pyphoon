{
 "cells": [
  {
   "cell_type": "code",
   "execution_count": 1,
   "metadata": {
    "collapsed": true
   },
   "outputs": [],
   "source": [
    "import sys\n",
    "sys.path.insert(0, '..')"
   ]
  },
  {
   "cell_type": "code",
   "execution_count": 2,
   "metadata": {
    "collapsed": true
   },
   "outputs": [],
   "source": [
    "import pandas as pd\n",
    "from pyphoon.db.pd_manager import PDManager\n",
    "from pyphoon.db.data_extractor import DataExtractor\n",
    "from pyphoon.io.h5 import read_source_image\n",
    "from os.path import exists, join\n",
    "import h5py\n",
    "import shutil"
   ]
  },
  {
   "cell_type": "code",
   "execution_count": 3,
   "metadata": {
    "collapsed": true
   },
   "outputs": [],
   "source": [
    "man = PDManager()\n",
    "orig_images_dir = '../../pyphoon/sampledata/datasets/image/'\n",
    "corrected_dir = '../../pyphoon/sampledata/datasets/corrected/'\n",
    "besttrack_dir = '../../pyphoon/sampledata/datasets/jma/'"
   ]
  },
  {
   "cell_type": "code",
   "execution_count": 4,
   "metadata": {},
   "outputs": [],
   "source": [
    "man.add_original_images(orig_images_dir)\n",
    "man.add_besttrack(besttrack_dir)\n",
    "man.add_corrected_images(corrected_dir)\n",
    "de = DataExtractor(original_images_dir=orig_images_dir, corrected_images_dir=corrected_dir, pd_manager=man)\n",
    "output_dir = 'output'\n",
    "seq_list = [(198702, 'train'), (200717, 'train'), (200718, 'test')]\n",
    "de.generate_images_besttrack_chunks(seq_list, chunk_size=1024 ** 2,\n",
    "                                    output_dir=output_dir)\n"
   ]
  },
  {
   "cell_type": "code",
   "execution_count": 6,
   "metadata": {},
   "outputs": [],
   "source": [
    "f = h5py.File(join(output_dir, 'test_0.h5'), 'r')\n",
    "keys = f.keys()\n",
    "assert('seq_no' in keys)\n",
    "assert('data' in keys)\n",
    "assert('pressure' in keys)\n",
    "assert(len(f.get('seq_no')) == len(f.get('pressure')))\n"
   ]
  },
  {
   "cell_type": "code",
   "execution_count": 8,
   "metadata": {},
   "outputs": [
    {
     "data": {
      "text/plain": [
       "[200718,\n",
       " 200718,\n",
       " 200718,\n",
       " 200718,\n",
       " 200718,\n",
       " 200718,\n",
       " 200718,\n",
       " 200718,\n",
       " 200718,\n",
       " 200718,\n",
       " 200718,\n",
       " 200718,\n",
       " 200718,\n",
       " 200718,\n",
       " 200718,\n",
       " 200718,\n",
       " 200718,\n",
       " 200718,\n",
       " 200718,\n",
       " 200718,\n",
       " 200718,\n",
       " 200718,\n",
       " 200718,\n",
       " 200718,\n",
       " 200718,\n",
       " 200718,\n",
       " 200718,\n",
       " 200718,\n",
       " 200718,\n",
       " 200718,\n",
       " 200718,\n",
       " 200718,\n",
       " 200718,\n",
       " 200718,\n",
       " 200718,\n",
       " 200718,\n",
       " 200718,\n",
       " 200718,\n",
       " 200718,\n",
       " 200718,\n",
       " 200718,\n",
       " 200718,\n",
       " 200718,\n",
       " 200718,\n",
       " 200718,\n",
       " 200718,\n",
       " 200718,\n",
       " 200718,\n",
       " 200718,\n",
       " 200718,\n",
       " 200718,\n",
       " 200718,\n",
       " 200718,\n",
       " 200718,\n",
       " 200718,\n",
       " 200718,\n",
       " 200718,\n",
       " 200718,\n",
       " 200718,\n",
       " 200718,\n",
       " 200718,\n",
       " 200718,\n",
       " 200718,\n",
       " 200718,\n",
       " 200718,\n",
       " 200718,\n",
       " 200718,\n",
       " 200718,\n",
       " 200718,\n",
       " 200718,\n",
       " 200718,\n",
       " 200718,\n",
       " 200718,\n",
       " 200718,\n",
       " 200718,\n",
       " 200718,\n",
       " 200718,\n",
       " 200718,\n",
       " 200718,\n",
       " 200718,\n",
       " 200718,\n",
       " 200718,\n",
       " 200718,\n",
       " 200718,\n",
       " 200718,\n",
       " 200718,\n",
       " 200718,\n",
       " 200718,\n",
       " 200718,\n",
       " 200718,\n",
       " 200718,\n",
       " 200718,\n",
       " 200718,\n",
       " 200718,\n",
       " 200718,\n",
       " 200718,\n",
       " 200718,\n",
       " 200718,\n",
       " 200718,\n",
       " 200718,\n",
       " 200718,\n",
       " 200718,\n",
       " 200718,\n",
       " 200718,\n",
       " 200718,\n",
       " 200718,\n",
       " 200718,\n",
       " 200718,\n",
       " 200718,\n",
       " 200718,\n",
       " 200718,\n",
       " 200718,\n",
       " 200718,\n",
       " 200718,\n",
       " 200718,\n",
       " 200718,\n",
       " 200718,\n",
       " 200718,\n",
       " 200718,\n",
       " 200718,\n",
       " 200718]"
      ]
     },
     "execution_count": 8,
     "metadata": {},
     "output_type": "execute_result"
    }
   ],
   "source": [
    "list(f.get('seq_no'))"
   ]
  },
  {
   "cell_type": "code",
   "execution_count": null,
   "metadata": {},
   "outputs": [],
   "source": [
    "list(f.get('data')['values'])"
   ]
  },
  {
   "cell_type": "code",
   "execution_count": null,
   "metadata": {},
   "outputs": [],
   "source": [
    "if exists(output_dir):\n",
    "    shutil.rmtree(output_dir, ignore_errors=True)\n"
   ]
  },
  {
   "cell_type": "code",
   "execution_count": null,
   "metadata": {},
   "outputs": [],
   "source": [
    "pd.__version__"
   ]
  },
  {
   "cell_type": "code",
   "execution_count": null,
   "metadata": {},
   "outputs": [],
   "source": [
    "h5py.__version__"
   ]
  }
 ],
 "metadata": {
  "kernelspec": {
   "display_name": "Python 3",
   "language": "python",
   "name": "python3"
  },
  "language_info": {
   "codemirror_mode": {
    "name": "ipython",
    "version": 3
   },
   "file_extension": ".py",
   "mimetype": "text/x-python",
   "name": "python",
   "nbconvert_exporter": "python",
   "pygments_lexer": "ipython3",
   "version": "3.6.3"
  }
 },
 "nbformat": 4,
 "nbformat_minor": 2
}
