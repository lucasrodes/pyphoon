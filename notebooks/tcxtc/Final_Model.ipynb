{
 "cells": [
  {
   "cell_type": "markdown",
   "metadata": {},
   "source": [
    "# Final Model\n",
    "In this notebook we will create our Deep Learning model for the TC-xTC binary classifier. We will be using the framework `keras` and the library `pyphoon`. For this task we assume previous generation of the dataset, this can be generated using (TODO)."
   ]
  },
  {
   "cell_type": "markdown",
   "metadata": {},
   "source": [
    "## 0. Load libraries"
   ]
  },
  {
   "cell_type": "code",
   "execution_count": 1,
   "metadata": {},
   "outputs": [],
   "source": [
    "import sys\n",
    "sys.path.insert(0, '../..')\n",
    "from os.path import join\n",
    "\n",
    "import numpy as np\n",
    "from pyphoon.app.utils import read_h5datachunk"
   ]
  },
  {
   "cell_type": "markdown",
   "metadata": {},
   "source": [
    "## 1. Load data\n",
    "For this task, we assume to have 10 chunks of data (each accounting for nearly 10% of all data), labeled as '0.h5', '1.h5', ..., '9.h5'. The data split is as follows:\n",
    "\n",
    "- **Train**: '0', '2', '3', '4', '5', '6'\n",
    "- **Validation**: '1', '7'\n",
    "- **Test**: '8', '9'\n",
    "\n",
    "In the following, we load all the data and store them under the variable `chunks`. Make sure to replace the variable `path`. It should point to the directory containing the generated chunks."
   ]
  },
  {
   "cell_type": "code",
   "execution_count": 2,
   "metadata": {},
   "outputs": [
    {
     "name": "stdout",
     "output_type": "stream",
     "text": [
      "reading...\n",
      " file 0 read\n",
      " file 1 read\n",
      " file 2 read\n",
      " file 3 read\n",
      " file 4 read\n",
      " file 5 read\n",
      " file 6 read\n",
      " file 7 read\n"
     ]
    }
   ],
   "source": [
    "# Directory of the data\n",
    "train_val_chunks_ids = ['0', '1', '2', '3', '4', '5', '6', '7']\n",
    "test_chunks_ids = ['8', '9']\n",
    "path = '../../../../fs9/lucas/data/datasets/task_1/final_version_4/'  # Replace\n",
    "\n",
    "# Read data chunks\n",
    "datachunks = {}\n",
    "print(\"reading...\")\n",
    "for idx in train_val_chunks_ids:\n",
    "    X, Y, ids, others = read_h5datachunk(join(path, idx + '.h5'))\n",
    "    datachunks[idx] = [X, Y, ids, others]\n",
    "    print(\" file\", idx, \"read\")"
   ]
  },
  {
   "cell_type": "markdown",
   "metadata": {},
   "source": [
    "If memory allows, which is our case, we merge all the chunks into one big training matrix `X`."
   ]
  },
  {
   "cell_type": "code",
   "execution_count": 3,
   "metadata": {},
   "outputs": [],
   "source": [
    "def merge_data(datachunks, datachunks_ids):\n",
    "    \"\"\" Merge datachunks with keys contained in ``datachunks_ids``.\n",
    "    \n",
    "    :param datachunks: Dictionary with data chunk data. Keys are filenames (without extension).\n",
    "    :type datachunks: dict\n",
    "    :param datachunks_ids: List with ids of chunks to concatenate.\n",
    "    :type datachunks_ids: list\n",
    "    :return: Merged datachunk as an array. It returns two objects:\n",
    "        *    images: image data as an array.\n",
    "        *    best: best data as a list.\n",
    "    :rtype: tuple\n",
    "    \"\"\"\n",
    "    X = [chunk[0] for idx, chunk in datachunks.items() if idx in datachunks_ids]\n",
    "    Y = [chunk[1] for idx, chunk in datachunks.items() if idx in datachunks_ids]\n",
    "    ids = [chunk[2] for idx, chunk in datachunks.items() if idx in datachunks_ids]\n",
    "    return np.concatenate(X), np.concatenate(Y), np.concatenate(ids)"
   ]
  },
  {
   "cell_type": "code",
   "execution_count": 4,
   "metadata": {},
   "outputs": [],
   "source": [
    "# Merge train and validation chunks\n",
    "train_datachunks_ids = ['0', '2', '3', '4', '5', '6']\n",
    "X_train, Y_train, ids_train = merge_data(datachunks, train_datachunks_ids)\n",
    "\n",
    "valid_datachunks_ids = ['1', '7']\n",
    "X_valid, Y_valid, ids_valid = merge_data(datachunks, valid_datachunks_ids)"
   ]
  },
  {
   "cell_type": "markdown",
   "metadata": {},
   "source": [
    "## 2. Build model\n",
    "Now, time to define our model. We directally implement the final architecture, with the hyper-parameters that provided best result during the grid search."
   ]
  },
  {
   "cell_type": "code",
   "execution_count": 5,
   "metadata": {},
   "outputs": [
    {
     "name": "stderr",
     "output_type": "stream",
     "text": [
      "Using TensorFlow backend.\n",
      "/usr/lib/python3.6/importlib/_bootstrap.py:219: RuntimeWarning: compiletime version 3.5 of module 'tensorflow.python.framework.fast_tensor_util' does not match runtime version 3.6\n",
      "  return f(*args, **kwds)\n"
     ]
    }
   ],
   "source": [
    "# Import keras libraries\n",
    "from keras.models import Sequential\n",
    "from keras.layers import Conv2D, MaxPooling2D, Flatten, Dense, Dropout, Activation\n",
    "from keras.layers.normalization import BatchNormalization\n",
    "from keras.optimizers import SGD"
   ]
  },
  {
   "cell_type": "code",
   "execution_count": 6,
   "metadata": {},
   "outputs": [],
   "source": [
    "# Hyperparameters\n",
    "lr = 0.01\n",
    "decay_rate = 0.01\n",
    "momentum = 0.9\n",
    "p_drop = 0.2\n",
    "batch_size = 32"
   ]
  },
  {
   "cell_type": "code",
   "execution_count": 7,
   "metadata": {},
   "outputs": [],
   "source": [
    "model = Sequential()\n",
    "############################################################################\n",
    "# Convolutional Layers\n",
    "############################################################################\n",
    "model.add(Conv2D(filters=8, kernel_size=(3, 3), input_shape=(256, 256, 1), use_bias=False))\n",
    "model.add(Activation('relu'))\n",
    "model.add(BatchNormalization())\n",
    "model.add(MaxPooling2D(pool_size=(2, 2)))\n",
    "\n",
    "model.add(Conv2D(filters=16, kernel_size=(3, 3), use_bias=False))\n",
    "model.add(Activation('relu'))\n",
    "model.add(BatchNormalization())\n",
    "model.add(MaxPooling2D(pool_size=(2, 2)))\n",
    "\n",
    "model.add(Conv2D(filters=32, kernel_size=(3, 3), use_bias=False))\n",
    "model.add(Activation('relu'))\n",
    "model.add(BatchNormalization())\n",
    "model.add(MaxPooling2D(pool_size=(2, 2)))\n",
    "############################################################################\n",
    "# Dense Layers\n",
    "############################################################################\n",
    "model.add(Flatten())\n",
    "\n",
    "model.add(Dense(100, use_bias=False))\n",
    "model.add(Activation('relu'))\n",
    "model.add(BatchNormalization())\n",
    "model.add(Dropout(p_drop))\n",
    "\n",
    "model.add(Dense(50, use_bias=False))\n",
    "model.add(Activation('relu'))\n",
    "model.add(BatchNormalization())\n",
    "\n",
    "############################################################################\n",
    "# Output Layer\n",
    "############################################################################\n",
    "model.add(Dense(units=1, activation='sigmoid'))"
   ]
  },
  {
   "cell_type": "code",
   "execution_count": 8,
   "metadata": {},
   "outputs": [],
   "source": [
    "# Define optimizer\n",
    "optimizer = SGD(lr=lr, momentum=momentum, nesterov=False, decay=decay_rate)\n",
    "# Load and compile model architecture\n",
    "model.compile(optimizer=optimizer, loss='binary_crossentropy', metrics=['accuracy'])"
   ]
  },
  {
   "cell_type": "markdown",
   "metadata": {},
   "source": [
    "## 3. Train\n",
    "We will now proceed to train the model. While training it may come in hand to visualise the loss and accuracy curves. To enable this feature, we use Tensorboard. Set `use_tensorboard` variable below to True and define a path for the logs in `tensorboard_path`. Then, execute the following command in the terminal:\n",
    "```\n",
    "$ tensorboard --logdir=<path/to/log-directory> --port <port>\n",
    "```\n",
    "\n",
    "Once the model is training you may check its performance by navigating to `localhost:<port>`."
   ]
  },
  {
   "cell_type": "code",
   "execution_count": 9,
   "metadata": {},
   "outputs": [],
   "source": [
    "# Tensorboard log dir\n",
    "use_tensorboard = True\n",
    "tensorboard_path = '/tmp/tcxtc_model'\n",
    "\n",
    "callbacks = []\n",
    "if use_tensorboard:\n",
    "    from keras.callbacks import TensorBoard\n",
    "    callbacks.append(TensorBoard(log_dir=tensorboard_path, histogram_freq=0,  \n",
    "          write_graph=True, write_images=True))    "
   ]
  },
  {
   "cell_type": "markdown",
   "metadata": {},
   "source": [
    "Finally, To feed our model with input data we will use a data generator, provided by method `data_generator` from `pyphoon.app.utils`."
   ]
  },
  {
   "cell_type": "code",
   "execution_count": 10,
   "metadata": {},
   "outputs": [
    {
     "name": "stdout",
     "output_type": "stream",
     "text": [
      "Epoch 1/16\n",
      "86/86 [==============================] - 19s 219ms/step - loss: 0.2150 - acc: 0.9110 - val_loss: 0.2113 - val_acc: 0.9475\n",
      "Epoch 2/16\n",
      "86/86 [==============================] - 11s 123ms/step - loss: 0.1515 - acc: 0.9426 - val_loss: 0.1942 - val_acc: 0.9316\n",
      "Epoch 3/16\n",
      "86/86 [==============================] - 13s 146ms/step - loss: 0.1514 - acc: 0.9459 - val_loss: 0.1638 - val_acc: 0.9406\n",
      "Epoch 4/16\n",
      "86/86 [==============================] - 11s 125ms/step - loss: 0.1507 - acc: 0.9422 - val_loss: 0.1302 - val_acc: 0.9500\n",
      "Epoch 5/16\n",
      "86/86 [==============================] - 11s 125ms/step - loss: 0.1396 - acc: 0.9488 - val_loss: 0.1233 - val_acc: 0.9482\n",
      "Epoch 6/16\n",
      "86/86 [==============================] - 11s 123ms/step - loss: 0.1481 - acc: 0.9488 - val_loss: 0.1236 - val_acc: 0.9490\n",
      "Epoch 7/16\n",
      "86/86 [==============================] - 12s 136ms/step - loss: 0.1379 - acc: 0.9451 - val_loss: 0.1166 - val_acc: 0.9527\n",
      "Epoch 8/16\n",
      "86/86 [==============================] - 15s 169ms/step - loss: 0.1322 - acc: 0.9517 - val_loss: 0.1175 - val_acc: 0.9497\n",
      "Epoch 9/16\n",
      "86/86 [==============================] - 15s 173ms/step - loss: 0.1065 - acc: 0.9604 - val_loss: 0.1165 - val_acc: 0.9523\n",
      "Epoch 10/16\n",
      "86/86 [==============================] - 11s 127ms/step - loss: 0.1034 - acc: 0.9626 - val_loss: 0.1186 - val_acc: 0.9499\n",
      "Epoch 11/16\n",
      "86/86 [==============================] - 14s 161ms/step - loss: 0.1060 - acc: 0.9615 - val_loss: 0.1181 - val_acc: 0.9497\n",
      "Epoch 12/16\n",
      "86/86 [==============================] - 12s 142ms/step - loss: 0.1098 - acc: 0.9593 - val_loss: 0.1209 - val_acc: 0.9478\n",
      "Epoch 13/16\n",
      "86/86 [==============================] - 13s 146ms/step - loss: 0.1119 - acc: 0.9575 - val_loss: 0.1230 - val_acc: 0.9470\n",
      "Epoch 14/16\n",
      "86/86 [==============================] - 13s 146ms/step - loss: 0.1097 - acc: 0.9564 - val_loss: 0.1170 - val_acc: 0.9509\n",
      "Epoch 15/16\n",
      "86/86 [==============================] - 12s 140ms/step - loss: 0.1156 - acc: 0.9604 - val_loss: 0.1206 - val_acc: 0.9474\n",
      "Epoch 16/16\n",
      "86/86 [==============================] - 11s 129ms/step - loss: 0.1102 - acc: 0.9615 - val_loss: 0.1179 - val_acc: 0.9488\n"
     ]
    },
    {
     "data": {
      "text/plain": [
       "<keras.callbacks.History at 0x2b21afd04320>"
      ]
     },
     "execution_count": 10,
     "metadata": {},
     "output_type": "execute_result"
    }
   ],
   "source": [
    "from pyphoon.app.utils import data_generator\n",
    "\n",
    "# Number train samples\n",
    "n_train = X_train.shape[0]\n",
    "n_valid = X_valid.shape[0]\n",
    "\n",
    "epochs = 2  # Number of full epochs, i.e. #times algorithm sees all the data\n",
    "subepochs = 8  # Number of times the algorithm evaluates the model's performance per epoch\n",
    "\n",
    "# Train\n",
    "model.fit_generator(\n",
    "    generator=data_generator(X_train, Y_train, batch_sz=batch_size),\n",
    "    steps_per_epoch=n_train//(batch_size*subepochs),\n",
    "    validation_data=(X_valid, Y_valid),\n",
    "    validation_steps=n_valid//batch_size,\n",
    "    epochs=epochs*subepochs,\n",
    "    callbacks=callbacks\n",
    ")"
   ]
  },
  {
   "cell_type": "markdown",
   "metadata": {},
   "source": [
    "## 4. Results\n",
    "First thing to do is check out which is the accuracy that we got. For this, we use keras method `evaluate`."
   ]
  },
  {
   "cell_type": "code",
   "execution_count": 11,
   "metadata": {},
   "outputs": [
    {
     "name": "stdout",
     "output_type": "stream",
     "text": [
      "7339/7339 [==============================] - 6s 793us/step\n",
      "Accuracy on validation set: 0.94876686197\n"
     ]
    }
   ],
   "source": [
    "# Evaluate\n",
    "acc_val = model.evaluate(\n",
    "        x=X_valid,\n",
    "        y=Y_valid\n",
    ")[1]\n",
    "print(\"Accuracy on validation set:\", acc_val)"
   ]
  },
  {
   "cell_type": "markdown",
   "metadata": {},
   "source": [
    "If satisfied with the results, we can store the model. Make sure to change the name if you want to preserve an old saved model...!"
   ]
  },
  {
   "cell_type": "code",
   "execution_count": 12,
   "metadata": {},
   "outputs": [],
   "source": [
    "# Save model\n",
    "# model.save('../../models/model_tcxtc_2.h5')"
   ]
  },
  {
   "cell_type": "markdown",
   "metadata": {},
   "source": [
    "### Accuracy/Loss curves\n",
    "We now obtain the loss and accuracy curves on the training and validation sets. First, find which is the log file generated from your training. To see all log events stored so far you can run the following code"
   ]
  },
  {
   "cell_type": "code",
   "execution_count": 13,
   "metadata": {
    "scrolled": true
   },
   "outputs": [
    {
     "data": {
      "text/plain": [
       "['events.out.tfevents.1521129821.00bb8498a1ca']"
      ]
     },
     "execution_count": 13,
     "metadata": {},
     "output_type": "execute_result"
    }
   ],
   "source": [
    "from os import listdir\n",
    "listdir(tensorboard_path)"
   ]
  },
  {
   "cell_type": "markdown",
   "metadata": {},
   "source": [
    "Next,we retrieve the training information from the log generated by Tensorboard, hence, make sure that you have used Tensorboard! Also, check the name of the file, since there might be several logs under the folder `tensorboard_path`."
   ]
  },
  {
   "cell_type": "code",
   "execution_count": 14,
   "metadata": {},
   "outputs": [
    {
     "name": "stdout",
     "output_type": "stream",
     "text": [
      "{'images': [], 'audio': [], 'histograms': [], 'scalars': ['val_loss', 'val_acc', 'loss', 'acc'], 'distributions': [], 'tensors': [], 'graph': True, 'meta_graph': True, 'run_metadata': []}\n"
     ]
    }
   ],
   "source": [
    "from tensorboard.backend.event_processing.event_accumulator import EventAccumulator\n",
    "event_acc = EventAccumulator('/tmp/tcxtc_model/events.out.tfevents.1521129821.00bb8498a1ca')\n",
    "event_acc.Reload()\n",
    "# Show all tags in the log file\n",
    "print(event_acc.Tags())\n",
    "\n",
    "# loss\n",
    "_, subepochs, val_loss = zip(*event_acc.Scalars('val_loss'))\n",
    "_, subepochs, train_loss = zip(*event_acc.Scalars('loss'))\n",
    "# accuracy\n",
    "_, subepochs, val_acc = zip(*event_acc.Scalars('val_acc'))\n",
    "_, subepochs, train_acc = zip(*event_acc.Scalars('acc'))"
   ]
  },
  {
   "cell_type": "code",
   "execution_count": 16,
   "metadata": {},
   "outputs": [
    {
     "data": {
      "image/png": "[encoded data removed]",
      "text/plain": [
       "<matplotlib.figure.Figure at 0x2b21fc844b38>"
      ]
     },
     "metadata": {},
     "output_type": "display_data"
    },
    {
     "data": {
      "image/png": "[encoded data removed]",
      "text/plain": [
       "<matplotlib.figure.Figure at 0x2b21ff669cc0>"
      ]
     },
     "metadata": {},
     "output_type": "display_data"
    }
   ],
   "source": [
    "import matplotlib.pyplot as plt\n",
    "\n",
    "# Loss\n",
    "plt.plot(subepochs, train_loss, 'k')\n",
    "plt.plot(subepochs, val_loss, 'k--')\n",
    "plt.legend(['Train loss', 'Validation loss'])\n",
    "plt.title('Loss')\n",
    "plt.xlabel('epoch')\n",
    "plt.show()\n",
    "# plt.savefig('../_assets/loss_tcxtc.eps', format='eps', dpi=1000)\n",
    "\n",
    "# Accuracy\n",
    "plt.plot(subepochs, train_acc, 'k')\n",
    "plt.plot(subepochs, val_acc, 'k--')\n",
    "plt.legend(['Train accuracy', 'Validation accuracy'])\n",
    "plt.title('Accuracy curve')\n",
    "plt.xlabel('epoch')\n",
    "plt.show()\n",
    "# plt.savefig('../_assets/accuracy_tcxtc.eps', format='eps', dpi=1000)"
   ]
  }
 ],
 "metadata": {
  "kernelspec": {
   "display_name": "Python 3",
   "language": "python",
   "name": "python3"
  },
  "language_info": {
   "codemirror_mode": {
    "name": "ipython",
    "version": 3
   },
   "file_extension": ".py",
   "mimetype": "text/x-python",
   "name": "python",
   "nbconvert_exporter": "python",
   "pygments_lexer": "ipython3",
   "version": "3.6.3"
  }
 },
 "nbformat": 4,
 "nbformat_minor": 2
}
