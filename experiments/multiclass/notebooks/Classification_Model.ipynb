{
 "cells": [
  {
   "cell_type": "markdown",
   "metadata": {},
   "source": [
    "# Tropical Cyclone Intensity classification\n",
    "In this notebook we attempt to present a model that classifies typhoon imagery in four categories:\n",
    "\n",
    "- Tropical Depression (TD)\n",
    "- Tropical Storm (TS)\n",
    "- Severe Tropical Storm (STS)\n",
    "- Typhoon\n",
    "\n",
    "Note that in this task, we ignore Extratropical cyclones as they represent a totally different natural phenomenon."
   ]
  },
  {
   "cell_type": "code",
   "execution_count": 2,
   "metadata": {},
   "outputs": [],
   "source": [
    "%load_ext autoreload\n",
    "%autoreload 2\n",
    "\n",
    "import sys\n",
    "sys.path.insert(0, '../../..')"
   ]
  },
  {
   "cell_type": "markdown",
   "metadata": {},
   "source": [
    "We will use GPU with identifier \"1\", after agreeing with other users with access to the same machine. If you are not using GPU or don't have any restriction on GPU usage skip this step."
   ]
  },
  {
   "cell_type": "code",
   "execution_count": 3,
   "metadata": {},
   "outputs": [],
   "source": [
    "from os import environ\n",
    "environ[\"CUDA_VISIBLE_DEVICES\"]=\"1\""
   ]
  },
  {
   "cell_type": "markdown",
   "metadata": {},
   "source": [
    "## 1. Load data\n",
    "Time to load the data. The data is stored in chunk HDF5 files, which have been previously been generated using script [generate_dataset.py](../../../scripts/generate_dataset.py). We will use chunks 0-26 for training, 27-24 for validation and 35-47 for testing. Note that loading the chunks might take a while. Grab yourself a tee."
   ]
  },
  {
   "cell_type": "code",
   "execution_count": 8,
   "metadata": {},
   "outputs": [],
   "source": [
    "from os import listdir\n",
    "# Paths where data is stored\n",
    "dataset_dir = '/root/fs9/lucas/data/datasets/year_256/'\n",
    "chunk_filenames = listdir(dataset_dir)\n",
    "train_chunk_filenames = chunk_filenames[:27]\n",
    "valid_chunk_filenames = chunk_filenames[27:35]\n",
    "test_chunk_filenames = chunk_filenames[35:]"
   ]
  },
  {
   "cell_type": "markdown",
   "metadata": {},
   "source": [
    "For this task, we will ignore classes 6 and 7 and only focus on Tropical Cyclones."
   ]
  },
  {
   "cell_type": "code",
   "execution_count": 6,
   "metadata": {},
   "outputs": [
    {
     "name": "stdout",
     "output_type": "stream",
     "text": [
      " file chunk_0.h5 read\n",
      " file chunk_1.h5 read\n",
      " file chunk_2.h5 read\n",
      " file chunk_3.h5 read\n",
      " file chunk_4.h5 read\n",
      " file chunk_5.h5 read\n",
      " file chunk_6.h5 read\n",
      " file chunk_7.h5 read\n",
      " file chunk_8.h5 read\n",
      " file chunk_9.h5 read\n",
      " file chunk_10.h5 read\n",
      " file chunk_11.h5 read\n",
      " file chunk_12.h5 read\n",
      " file chunk_13.h5 read\n",
      " file chunk_14.h5 read\n",
      " file chunk_15.h5 read\n",
      " file chunk_16.h5 read\n",
      " file chunk_17.h5 read\n",
      " file chunk_18.h5 read\n",
      " file chunk_19.h5 read\n",
      " file chunk_20.h5 read\n",
      " file chunk_21.h5 read\n",
      " file chunk_22.h5 read\n",
      " file chunk_23.h5 read\n",
      " file chunk_24.h5 read\n",
      " file chunk_25.h5 read\n",
      " file chunk_26.h5 read\n",
      " file chunk_27.h5 read\n",
      " file chunk_28.h5 read\n",
      " file chunk_29.h5 read\n",
      " file chunk_30.h5 read\n",
      " file chunk_31.h5 read\n",
      " file chunk_32.h5 read\n",
      " file chunk_33.h5 read\n",
      " file chunk_34.h5 read\n",
      " file chunk_35.h5 read\n",
      " file chunk_36.h5 read\n",
      " file chunk_37.h5 read\n",
      " file chunk_38.h5 read\n",
      " file chunk_39.h5 read\n",
      " file chunk_40.h5 read\n",
      " file chunk_41.h5 read\n",
      " file chunk_42.h5 read\n",
      " file chunk_43.h5 read\n",
      " file chunk_44.h5 read\n",
      " file chunk_45.h5 read\n",
      " file chunk_46.h5 read\n"
     ]
    }
   ],
   "source": [
    "from pyphoon.app.utils import load_h5datachunks\n",
    "\n",
    "X_train, Y_train, idx_train, seqno_train = load_h5datachunks(dataset_dir,\n",
    "                                                             train_chunk_filenames, \n",
    "                                                             features=['data', 'class', 'idx', 'seq_no'],\n",
    "                                                             ignore_classes=[6, 7],\n",
    "                                                             verbose=True\n",
    "                                                             )\n",
    "\n",
    "X_valid, Y_valid, idx_valid, seqno_valid = load_h5datachunks(dataset_dir,\n",
    "                                                             valid_chunk_filenames, \n",
    "                                                             features=['data', 'class', 'idx', 'seq_no'],\n",
    "                                                             ignore_classes=[6, 7],\n",
    "                                                             verbose=True\n",
    "                                                            )\n",
    "\n",
    "X_test, Y_test, idx_test, seqno_test = load_h5datachunks(dataset_dir, \n",
    "                                                         test_chunk_filenames, \n",
    "                                                         features=['data', 'class', 'idx', 'seq_no'],\n",
    "                                                         ignore_classes=[6, 7],\n",
    "                                                         verbose=True\n",
    "                                                         )"
   ]
  },
  {
   "cell_type": "markdown",
   "metadata": {},
   "source": [
    "### 1.1 Balance data\n",
    "The distribution of the classes is not balanced. Hence, we proceed to balance it which gives our model equal chances to perform good on all classes."
   ]
  },
  {
   "cell_type": "code",
   "execution_count": 34,
   "metadata": {},
   "outputs": [
    {
     "name": "stdout",
     "output_type": "stream",
     "text": [
      "test...\n",
      "valid...\n",
      "train...\n"
     ]
    }
   ],
   "source": [
    "from pyphoon.app.utils import balance_dataset\n",
    "\n",
    "# test\n",
    "print(\"test...\")\n",
    "for i in range(len(Y_test)):\n",
    "    # Get labels and valid positions\n",
    "    pos = balance_dataset(Y_test[i], [2,3,4,5])\n",
    "    # Retrieve corresponding samples\n",
    "    X_test[i] = X_test[i][pos]\n",
    "    Y_test[i] = Y_test[i][pos]\n",
    "    idx_test[i] = idx_test[i][pos]\n",
    "    seqno_test[i] = seqno_test[i][pos]\n",
    "\n",
    "# valid\n",
    "print(\"valid...\")\n",
    "for i in range(len(Y_valid)):\n",
    "    # Get labels and valid positions\n",
    "    pos = balance_dataset(Y_valid[i], [2,3,4,5])\n",
    "    # Retrieve corresponding samples\n",
    "    X_valid[i] = X_valid[i][pos]\n",
    "    Y_valid[i] = Y_valid[i][pos]\n",
    "    idx_valid[i] = idx_valid[i][pos]\n",
    "    seqno_valid[i] = seqno_valid[i][pos]\n",
    "    \n",
    "# train\n",
    "print(\"train...\")\n",
    "for i in range(len(Y_train)):\n",
    "    # Get labels and valid positions\n",
    "    pos = balance_dataset(Y_train[i], [2,3,4,5])\n",
    "    # Retrieve corresponding samples\n",
    "    X_train[i] = X_train[i][pos]\n",
    "    Y_train[i] = Y_train[i][pos]\n",
    "    idx_train[i] = idx_train[i][pos]\n",
    "    seqno_train[i] = seqno_train[i][pos]"
   ]
  },
  {
   "cell_type": "markdown",
   "metadata": {},
   "source": [
    "Let us plot the histograms of the sets to verify that the data is equally balanced now."
   ]
  },
  {
   "cell_type": "code",
   "execution_count": 154,
   "metadata": {},
   "outputs": [
    {
     "data": {
      "image/png": "[encoded data removed]",
      "text/plain": [
       "<matplotlib.figure.Figure at 0x2ae70be85a90>"
      ]
     },
     "metadata": {},
     "output_type": "display_data"
    }
   ],
   "source": [
    "import matplotlib.pyplot as plt\n",
    "import numpy as np\n",
    "\n",
    "plt.figure(figsize=(15,5))\n",
    "y_train = np.concatenate(Y_train)\n",
    "y_valid = np.concatenate(Y_valid)\n",
    "y_test = np.concatenate(Y_test)\n",
    "\n",
    "plt.subplot(1,3,1)\n",
    "plt.hist(y_train)\n",
    "plt.title(\"Train\")\n",
    "plt.subplot(1,3,2)\n",
    "plt.hist(y_valid)\n",
    "plt.title(\"Validation\")\n",
    "plt.subplot(1,3,3)\n",
    "plt.hist(y_test)\n",
    "plt.title(\"Test\")\n",
    "plt.suptitle(\"Class Distribution\", fontsize=20)\n",
    "plt.show()"
   ]
  },
  {
   "cell_type": "markdown",
   "metadata": {},
   "source": [
    "## 2. Data Preprocessing\n",
    "\n",
    "### 2.1. Data overview\n",
    "First of all, let us gain some knowledge of our data by printing the amount of samples in training, validation and test sets."
   ]
  },
  {
   "cell_type": "code",
   "execution_count": 45,
   "metadata": {},
   "outputs": [
    {
     "name": "stdout",
     "output_type": "stream",
     "text": [
      "train: 70672\n",
      "valid: 12836\n",
      "test: 16228\n",
      "total: 99736\n"
     ]
    }
   ],
   "source": [
    "# Number of samples in dataset\n",
    "n1 = sum([len(x) for x in X_train])\n",
    "n2 = sum([len(x) for x in X_valid])\n",
    "n3 = sum([len(x) for x in X_test])\n",
    "print(\"train:\", n1)\n",
    "print(\"valid:\", n2)\n",
    "print(\"test:\", n3)\n",
    "print(\"total:\", n1+n2+n3)"
   ]
  },
  {
   "cell_type": "markdown",
   "metadata": {},
   "source": [
    "Another aspect to explore from the data is the mean images of each category. This can give us an intuition of the complexity of the classifier we aim to implement."
   ]
  },
  {
   "cell_type": "code",
   "execution_count": 144,
   "metadata": {},
   "outputs": [],
   "source": [
    "# Obtain mean image per each class\n",
    "mu = [None,None,None,None]\n",
    "n_samples = [0,0,0,0]\n",
    "\n",
    "for i in range(len(Y_train)):\n",
    "    for j in range(4):\n",
    "        pos = Y_train[i]==j+2\n",
    "        n_samples[j] += pos.sum()\n",
    "        if mu[j] is not None:\n",
    "            mu[j] += pos.sum()*np.mean(X_train[i][pos], axis=0)\n",
    "        else:\n",
    "            mu[j] = pos.sum()*np.mean(X_train[i][pos], axis=0)\n",
    "\n",
    "# Average\n",
    "for j in range(4):\n",
    "    mu[j] /= n_samples[j] "
   ]
  },
  {
   "cell_type": "code",
   "execution_count": 153,
   "metadata": {},
   "outputs": [
    {
     "data": {
      "image/png": "[encoded data removed]",
      "text/plain": [
       "<matplotlib.figure.Figure at 0x2ae70bdff4a8>"
      ]
     },
     "metadata": {},
     "output_type": "display_data"
    },
    {
     "data": {
      "image/png": "[encoded data removed]",
      "text/plain": [
       "<matplotlib.figure.Figure at 0x2ae70be8cf28>"
      ]
     },
     "metadata": {},
     "output_type": "display_data"
    },
    {
     "data": {
      "image/png": "[encoded data removed]",
      "text/plain": [
       "<matplotlib.figure.Figure at 0x2ae70bee2f98>"
      ]
     },
     "metadata": {},
     "output_type": "display_data"
    },
    {
     "data": {
      "image/png": "[encoded data removed]",
      "text/plain": [
       "<matplotlib.figure.Figure at 0x2ae70bf33f28>"
      ]
     },
     "metadata": {},
     "output_type": "display_data"
    }
   ],
   "source": [
    "# Plot obtained mean images\n",
    "for j in range(4):\n",
    "    plt.imshow(mu[j], cmap=\"Greys\", vmin=0, vmax=255)\n",
    "    plt.title(\"Class \" + str(j+2))\n",
    "    plt.axis('off')\n",
    "    plt.savefig('mean_class'+str(j)+'.eps')\n",
    "    plt.show()"
   ]
  },
  {
   "cell_type": "markdown",
   "metadata": {},
   "source": [
    "### 2.2. Load preprocess parameters\n",
    "Note that to preprocess the images (centre and normalise) we require the preprocessing parameters. Hence, these parameters will depend on the dataset being used. In this experiments we use a dataset generated based on the years of the sequences. In particular, the trainig, validation and test datasets have been generated at sequence level. That is, images belonging to the same typhoon sequence find themselves only in one set. In addition, sequences from old typhoons have been used for training, while newer are used for testing. These parameters are found under `'../preprocessing_year.h5'`. \n",
    "\n",
    "We note that for both approaches 256x256 images have been used. These files, contain the following preprocessing parameters:\n",
    "\n",
    "- Mean image: Image containing the mean for each pixel location.\n",
    "- Pixel mean: Overal pixel intensity mean (scalar value).\n",
    "- Pixel standard deviation: Overall pixel standard deviation (scalar value).\n",
    "- Pixel maximum value: Overall maximum pixel intensity value (scalar value).\n",
    "- Pixel minimum value: Overall minimum pixel intensity value (scalar value).\n",
    "\n",
    "Depending on your needs, you may use `MeanImagePreprocessor` or`DefaultImagePreprocessor` to preprocess your data. Generation of these files is easy, and is done by `pyphoon.app.preprocess.generate_preprocess_params`. Set variable `generate_params` below to True to do so, however, the repository already provides precomputed preprocessing parameters."
   ]
  },
  {
   "cell_type": "code",
   "execution_count": 7,
   "metadata": {},
   "outputs": [],
   "source": [
    "generate_params = False\n",
    "if generate_params:\n",
    "    from pyphoon.app.preprocess import generate_preprocess_params\n",
    "    generate_preprocess_params(X_train, \"../preprocessing_year.h5\")"
   ]
  },
  {
   "cell_type": "markdown",
   "metadata": {},
   "source": [
    "For this task, we will use `MeanImagePreprocessor`, which uses the dataset mean image to centre the data and the minimum and maximum pixel values to normalise the images. To this end, we have previously computed these parameters and stored them under file `random.h5`. Note that the next step may take a while..."
   ]
  },
  {
   "cell_type": "code",
   "execution_count": 46,
   "metadata": {},
   "outputs": [],
   "source": [
    "import h5py\n",
    "# Define preprocessor\n",
    "with h5py.File('../preprocessing_year.h5') as f:\n",
    "    mean = f.get('image_mean').value\n",
    "    scale_factor = f.get('max_value').value - f.get('min_value').value"
   ]
  },
  {
   "cell_type": "markdown",
   "metadata": {},
   "source": [
    "### 2.3. Preprocessor\n",
    "We define the preprocessing pipeline here. However, the preprocessing of the data is done in the data generator when training the model. This way, we reduce the memory requirements."
   ]
  },
  {
   "cell_type": "code",
   "execution_count": 47,
   "metadata": {},
   "outputs": [],
   "source": [
    "from pyphoon.app.preprocess import MeanImagePreprocessor\n",
    "\n",
    "preprocessor = MeanImagePreprocessor(mean, scale_factor, add_axis=[3])"
   ]
  },
  {
   "cell_type": "markdown",
   "metadata": {},
   "source": [
    "## 3. Model\n",
    "In this section we will define our models architecture and will train it from scratch. Alternatively, you may refer to section 3.3 to load pretrained weights. However, make sure to define the model architecture first."
   ]
  },
  {
   "cell_type": "code",
   "execution_count": 3,
   "metadata": {},
   "outputs": [
    {
     "name": "stderr",
     "output_type": "stream",
     "text": [
      "Using TensorFlow backend.\n",
      "/usr/lib/python3.6/importlib/_bootstrap.py:219: RuntimeWarning: compiletime version 3.5 of module 'tensorflow.python.framework.fast_tensor_util' does not match runtime version 3.6\n",
      "  return f(*args, **kwds)\n"
     ]
    }
   ],
   "source": [
    "from keras.layers import Input, Dense, Conv2D, MaxPooling2D, \\\n",
    "    Flatten, Activation, Dropout\n",
    "from keras.layers.normalization import BatchNormalization\n",
    "from keras.models import Model\n",
    "from keras.callbacks import TensorBoard, ModelCheckpoint"
   ]
  },
  {
   "cell_type": "markdown",
   "metadata": {},
   "source": [
    "### 3.1. Model architecture\n",
    "Now, time to define our model. We directly implement the final architecture, with the hyper-parameters that provided best result during the grid search."
   ]
  },
  {
   "cell_type": "code",
   "execution_count": null,
   "metadata": {},
   "outputs": [],
   "source": [
    "input_img = Input(shape=(128, 128, 1), name=\"in\")\n",
    "############################################################################\n",
    "# Convolutional Layers\n",
    "############################################################################\n",
    "x = Conv2D(64, (3, 3), strides=(1, 1), padding='same', name='conv2d_1')(\n",
    "    input_img)\n",
    "x = Activation('relu', name='activation_1')(x)\n",
    "x = BatchNormalization(name=\"batch_normalization_1\")(x)\n",
    "x = MaxPooling2D((2, 2), strides=(2, 2), padding='same', name='max_pooling2d_1')(x)\n",
    "\n",
    "x = Conv2D(128, (3, 3), strides=(1, 1), padding='same', name='conv2d_2')(x)\n",
    "x = Activation('relu', name='activation_2')(x)\n",
    "x = BatchNormalization(name=\"batch_normalization_2\")(x)\n",
    "x = MaxPooling2D((2, 2), strides=(2, 2), padding='same', name='max_pooling2d_2')(x)\n",
    "\n",
    "x = Conv2D(128, (3, 3), strides=(1, 1), padding='same', name='conv2d_3')(x)\n",
    "x = Activation('relu', name='activation_3')(x)\n",
    "x = BatchNormalization(name=\"batch_normalization_3\")(x)\n",
    "x = MaxPooling2D((2, 2), strides=(2, 2), padding='same', name='max_pooling2d_3')(x)\n",
    "\n",
    "x = Conv2D(256, (3, 3), strides=(1, 1), padding='same', name='conv2d_4')(x)\n",
    "x = Activation('relu', name='activation_4')(x)\n",
    "x = BatchNormalization(name=\"batch_normalization_4\")(x)\n",
    "x = MaxPooling2D((2, 2), strides=(2, 2), padding='same', name='max_pooling2d_4')(x)\n",
    "############################################################################\n",
    "# Dense Layers\n",
    "############################################################################\n",
    "x = Flatten()(x)\n",
    "\n",
    "x = Dense(512, use_bias=True, name=\"dense_1\")(x)\n",
    "x = Activation('relu', name=\"activation_5\")(x)\n",
    "x = BatchNormalization(name=\"batch_normalization_5\")(x)\n",
    "x = Dropout(0.2, name=\"dropout_1\")(x)\n",
    "\n",
    "x = Dense(256, use_bias=True, name=\"dense_2\")(x)\n",
    "x = Activation('relu', name=\"activation_6\")(x)\n",
    "x = BatchNormalization(name=\"fc_bn2\")(x)\n",
    "\n",
    "############################################################################\n",
    "# Output\n",
    "############################################################################\n",
    "x = Dense(4, use_bias=True, name=\"dense_3\")(x)\n",
    "x = Activation('softmax', name=\"out\")(x)\n",
    "\n",
    "############################################################################\n",
    "# Modelshinjuku to asa\n",
    "############################################################################\n",
    "model = Model(input_img, x)"
   ]
  },
  {
   "cell_type": "code",
   "execution_count": 158,
   "metadata": {},
   "outputs": [],
   "source": [
    "model.compile(loss='categorical_crossentropy', optimizer='adam', metrics=[\n",
    "    'accuracy'])"
   ]
  },
  {
   "cell_type": "markdown",
   "metadata": {},
   "source": [
    "### 3.2 Callbacks\n",
    "Before training, we will define some usefull callbacks to supervise the training process. One of the most usefull callbacks is [Tensorboard](https://www.tensorflow.org/programmers_guide/summaries_and_tensorboard), which enables easy visualisation of loss and accuracy curves.\n",
    "\n",
    "Make sure to use the following command to run the tensorboard client.\n",
    "\n",
    "```\n",
    "$ tensorboard --logdir=<path/to/log-directory> --port <port>\n",
    "```\n",
    "\n",
    "Once the model is training you may check its performance by navigating to `localhost:<port>`."
   ]
  },
  {
   "cell_type": "code",
   "execution_count": 98,
   "metadata": {},
   "outputs": [],
   "source": [
    "from pyphoon.app.callbacks import StoreModelWeights, OurTensorBoard, LossHistory\n",
    "\n",
    "foldername = 'diumenge_year_8'\n",
    "storeweights_callback = StoreModelWeights(foldername, naming=\"val_acc\")\n",
    "tensorboard_callback = OurTensorBoard(foldername)\n",
    "loss_callback = LossHistory()\n",
    "\n",
    "callbacks = [loss_callback, storeweights_callback, tensorboard_callback]"
   ]
  },
  {
   "cell_type": "markdown",
   "metadata": {},
   "source": [
    "### 3.3 Training\n",
    "Finally, To feed our model with input data we will use a data generator, provided by method `data_generator_from_chunklist` from `pyphoon.app.utils`."
   ]
  },
  {
   "cell_type": "code",
   "execution_count": null,
   "metadata": {},
   "outputs": [],
   "source": [
    "from pyphoon.app.utils import DataGeneratorFromChunklist\n",
    "\n",
    "# Generator\n",
    "batch_size = 32\n",
    "generator = DataGeneratorFromChunklist(batch_sz=batch_size, \n",
    "                                       preprocess_algorithm=preprocessor.apply, \n",
    "                                       target_enc='ohe',\n",
    "                                       crop=128\n",
    "    )\n",
    "\n",
    "# Number steps\n",
    "n_steps_train = sum([np.ceil(len(x)/batch_size) for x in Y_train])\n",
    "n_steps_valid = sum([np.ceil(len(x)/batch_size) for x in Y_valid])\n",
    "\n",
    "# Number of full epochs, i.e. #times algorithm sees all the data\n",
    "epochs = 10\n",
    "\n",
    "# Train\n",
    "model.fit_generator(\n",
    "    generator=generator.feed(X_train, Y_train),\n",
    "    steps_per_epoch=n_steps_train,\n",
    "    validation_data=generator.feed(X_valid, Y_valid),\n",
    "    validation_steps=n_steps_valid,\n",
    "    epochs=epochs,\n",
    "    callbacks=callbacks\n",
    ")"
   ]
  },
  {
   "cell_type": "markdown",
   "metadata": {},
   "source": [
    "### 3.4 Load pre-trained weights\n",
    "Here we load the weights that provided the best performance and evaluate the performance on the test data. l."
   ]
  },
  {
   "cell_type": "code",
   "execution_count": 159,
   "metadata": {},
   "outputs": [],
   "source": [
    "model.load_weights('../weights.hdf5')"
   ]
  },
  {
   "cell_type": "markdown",
   "metadata": {},
   "source": [
    "## 4. Results\n",
    "### 4.1 Test accuracy\n",
    "We evaluate the model that performed best on the validation set on the test set. This is the final performance of our model."
   ]
  },
  {
   "cell_type": "code",
   "execution_count": 160,
   "metadata": {},
   "outputs": [
    {
     "name": "stdout",
     "output_type": "stream",
     "text": [
      "Accuracy on test set: 0.57825979788\n"
     ]
    }
   ],
   "source": [
    "# Generator\n",
    "batch_size = 32\n",
    "generator = DataGeneratorFromChunklist(batch_sz=batch_size, \n",
    "                                       preprocess_algorithm=preprocessor.apply, \n",
    "                                       target_enc='ohe',\n",
    "                                       crop=128)\n",
    "# Number steps\n",
    "n_steps = sum([np.ceil(len(x)/batch_size) for x in Y_test])\n",
    "\n",
    "# Get predictions\n",
    "y_pred = model.predict_generator(\n",
    "    generator=generator.feed(X_test, Y_test, shuffle_batches=False, shuffle_samples=False),\n",
    "    steps=n_steps\n",
    ")\n",
    "y_pred = np.argmax(y_pred, axis=1)\n",
    "\n",
    "# Ground truth\n",
    "y_true = (np.concatenate(Y_test) - 2).tolist()\n",
    "\n",
    "# Test accuracy\n",
    "acc_test = (np.array(y_true) == np.array(y_pred)).mean()\n",
    "print(\"Accuracy on test set:\", acc_test)"
   ]
  },
  {
   "cell_type": "markdown",
   "metadata": {},
   "source": [
    "### 4.2 Confusion Matrix, precision, recall\n",
    "Now we take a closer look in an attempt to see if our model is biased towards some category."
   ]
  },
  {
   "cell_type": "code",
   "execution_count": 161,
   "metadata": {},
   "outputs": [
    {
     "data": {
      "text/html": [
       "<div>\n",
       "<style scoped>\n",
       "    .dataframe tbody tr th:only-of-type {\n",
       "        vertical-align: middle;\n",
       "    }\n",
       "\n",
       "    .dataframe tbody tr th {\n",
       "        vertical-align: top;\n",
       "    }\n",
       "\n",
       "    .dataframe thead th {\n",
       "        text-align: right;\n",
       "    }\n",
       "</style>\n",
       "<table border=\"1\" class=\"dataframe\">\n",
       "  <thead>\n",
       "    <tr style=\"text-align: right;\">\n",
       "      <th></th>\n",
       "      <th>predicted 2</th>\n",
       "      <th>predicted 3</th>\n",
       "      <th>predicted 4</th>\n",
       "      <th>predicted 5</th>\n",
       "    </tr>\n",
       "  </thead>\n",
       "  <tbody>\n",
       "    <tr>\n",
       "      <th>2</th>\n",
       "      <td>2876</td>\n",
       "      <td>1012</td>\n",
       "      <td>147</td>\n",
       "      <td>22</td>\n",
       "    </tr>\n",
       "    <tr>\n",
       "      <th>3</th>\n",
       "      <td>1082</td>\n",
       "      <td>1736</td>\n",
       "      <td>1037</td>\n",
       "      <td>202</td>\n",
       "    </tr>\n",
       "    <tr>\n",
       "      <th>4</th>\n",
       "      <td>239</td>\n",
       "      <td>1087</td>\n",
       "      <td>1865</td>\n",
       "      <td>866</td>\n",
       "    </tr>\n",
       "    <tr>\n",
       "      <th>5</th>\n",
       "      <td>37</td>\n",
       "      <td>278</td>\n",
       "      <td>835</td>\n",
       "      <td>2907</td>\n",
       "    </tr>\n",
       "  </tbody>\n",
       "</table>\n",
       "</div>"
      ],
      "text/plain": [
       "   predicted 2  predicted 3  predicted 4  predicted 5\n",
       "2         2876         1012          147           22\n",
       "3         1082         1736         1037          202\n",
       "4          239         1087         1865          866\n",
       "5           37          278          835         2907"
      ]
     },
     "execution_count": 161,
     "metadata": {},
     "output_type": "execute_result"
    }
   ],
   "source": [
    "from sklearn.metrics import confusion_matrix\n",
    "import pandas as pd\n",
    "\n",
    "pd.DataFrame(confusion_matrix(y_true, y_pred), \n",
    "             columns=['predicted 2','predicted 3','predicted 4','predicted 5'], \n",
    "             index=['2', '3', '4', '5']\n",
    "            )"
   ]
  },
  {
   "cell_type": "code",
   "execution_count": 162,
   "metadata": {},
   "outputs": [
    {
     "name": "stdout",
     "output_type": "stream",
     "text": [
      "             precision    recall  f1-score   support\n",
      "\n",
      "        0.0       0.68      0.71      0.69      4057\n",
      "        1.0       0.42      0.43      0.42      4057\n",
      "        2.0       0.48      0.46      0.47      4057\n",
      "        3.0       0.73      0.72      0.72      4057\n",
      "\n",
      "avg / total       0.58      0.58      0.58     16228\n",
      "\n"
     ]
    }
   ],
   "source": [
    "from sklearn.metrics import classification_report\n",
    "\n",
    "# Get complete report\n",
    "print(classification_report(y_true, y_pred))"
   ]
  }
 ],
 "metadata": {
  "kernelspec": {
   "display_name": "Python 3",
   "language": "python",
   "name": "python3"
  },
  "language_info": {
   "codemirror_mode": {
    "name": "ipython",
    "version": 3
   },
   "file_extension": ".py",
   "mimetype": "text/x-python",
   "name": "python",
   "nbconvert_exporter": "python",
   "pygments_lexer": "ipython3",
   "version": "3.6.3"
  }
 },
 "nbformat": 4,
 "nbformat_minor": 2
}
