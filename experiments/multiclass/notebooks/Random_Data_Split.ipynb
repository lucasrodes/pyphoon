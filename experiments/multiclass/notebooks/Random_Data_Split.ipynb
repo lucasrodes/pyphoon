{
 "cells": [
  {
   "cell_type": "markdown",
   "metadata": {},
   "source": [
    "# TC Intensity Classification using Random data split\n",
    "In this notebook we proceed to perform the same experiments as in [Classification_Model](Classification_Model.ipynb) but with a different data split. That is, we proceed to use completely randomised datasets. That is, the training, validation and test datasets have been generated at image level. Meaning that images from same sequences may be found in different sets. \n",
    "\n",
    "Note that this clearly may influence the evaluation process, as now test data contains images from typhoon sequences which have been partially (some images) used to traing the model."
   ]
  },
  {
   "cell_type": "code",
   "execution_count": 4,
   "metadata": {},
   "outputs": [],
   "source": [
    "%load_ext autoreload\n",
    "%autoreload 2\n",
    "\n",
    "import sys\n",
    "sys.path.insert(0, '../../..')"
   ]
  },
  {
   "cell_type": "markdown",
   "metadata": {},
   "source": [
    "We will use GPU with identifier \"1\", after agreeing with other users with access to the same machine. If you are not using GPU or don't have any restriction on GPU usage skip this step."
   ]
  },
  {
   "cell_type": "code",
   "execution_count": 5,
   "metadata": {},
   "outputs": [],
   "source": [
    "from os import environ\n",
    "\n",
    "environ[\"CUDA_VISIBLE_DEVICES\"]=\"1\""
   ]
  },
  {
   "cell_type": "markdown",
   "metadata": {},
   "source": [
    "## 1. Load data\n",
    "Time to load the data. The data is stored in chunk HDF5 files, which have been previously been generated using script [generate_dataset.py](../../../scripts/generate_dataset.py). We will use chunks 0-26 for training, 27-24 for validation and 35-47 for testing. Note that loading the chunks might take a while. Grab yourself a tee."
   ]
  },
  {
   "cell_type": "code",
   "execution_count": 6,
   "metadata": {},
   "outputs": [],
   "source": [
    "from os import listdir\n",
    "\n",
    "# Paths where data is stored\n",
    "dataset_dir = '/root/fs9/lucas/data/datasets/random_256/'\n",
    "chunk_filenames = listdir(dataset_dir)\n",
    "train_chunk_filenames = chunk_filenames[:27]\n",
    "valid_chunk_filenames = chunk_filenames[27:35]\n",
    "test_chunk_filenames = chunk_filenames[35:]"
   ]
  },
  {
   "cell_type": "markdown",
   "metadata": {},
   "source": [
    "For this task, we will ignore classes 6 and 7 and only focus on Tropical Cyclones."
   ]
  },
  {
   "cell_type": "code",
   "execution_count": 7,
   "metadata": {},
   "outputs": [
    {
     "name": "stderr",
     "output_type": "stream",
     "text": [
      "Using TensorFlow backend.\n",
      "/usr/lib/python3.6/importlib/_bootstrap.py:219: RuntimeWarning: compiletime version 3.5 of module 'tensorflow.python.framework.fast_tensor_util' does not match runtime version 3.6\n",
      "  return f(*args, **kwds)\n"
     ]
    },
    {
     "name": "stdout",
     "output_type": "stream",
     "text": [
      " file 0_chunk.h5 read\n",
      " file 1_chunk.h5 read\n",
      " file 2_chunk.h5 read\n",
      " file 3_chunk.h5 read\n",
      " file 4_chunk.h5 read\n",
      " file 5_chunk.h5 read\n",
      " file 6_chunk.h5 read\n",
      " file 7_chunk.h5 read\n",
      " file 8_chunk.h5 read\n",
      " file 9_chunk.h5 read\n",
      " file 10_chunk.h5 read\n",
      " file 11_chunk.h5 read\n",
      " file 12_chunk.h5 read\n",
      " file 13_chunk.h5 read\n",
      " file 14_chunk.h5 read\n",
      " file 15_chunk.h5 read\n",
      " file 16_chunk.h5 read\n",
      " file 17_chunk.h5 read\n",
      " file 18_chunk.h5 read\n",
      " file 19_chunk.h5 read\n",
      " file 20_chunk.h5 read\n",
      " file 21_chunk.h5 read\n",
      " file 22_chunk.h5 read\n",
      " file 23_chunk.h5 read\n",
      " file 24_chunk.h5 read\n",
      " file 25_chunk.h5 read\n",
      " file 26_chunk.h5 read\n",
      " file 27_chunk.h5 read\n",
      " file 28_chunk.h5 read\n",
      " file 29_chunk.h5 read\n",
      " file 30_chunk.h5 read\n",
      " file 31_chunk.h5 read\n",
      " file 32_chunk.h5 read\n",
      " file 33_chunk.h5 read\n",
      " file 34_chunk.h5 read\n",
      " file 35_chunk.h5 read\n",
      " file 36_chunk.h5 read\n",
      " file 37_chunk.h5 read\n",
      " file 38_chunk.h5 read\n",
      " file 39_chunk.h5 read\n",
      " file 40_chunk.h5 read\n",
      " file 41_chunk.h5 read\n",
      " file 42_chunk.h5 read\n",
      " file 43_chunk.h5 read\n",
      " file 44_chunk.h5 read\n",
      " file 45_chunk.h5 read\n",
      " file 46_chunk.h5 read\n",
      " file 47_chunk.h5 read\n"
     ]
    }
   ],
   "source": [
    "from pyphoon.app.utils import load_h5datachunks\n",
    "\n",
    "X_train, Y_train, idx_train, seqno_train = load_h5datachunks(dataset_dir,\n",
    "                                                             train_chunk_filenames, \n",
    "                                                             features=['data', 'class', 'idx', 'seq_no'],\n",
    "                                                             ignore_classes=[6, 7],\n",
    "                                                             verbose=True\n",
    "                                                             )\n",
    "\n",
    "X_valid, Y_valid, idx_valid, seqno_valid = load_h5datachunks(dataset_dir,\n",
    "                                                             valid_chunk_filenames, \n",
    "                                                             features=['data', 'class', 'idx', 'seq_no'],\n",
    "                                                             ignore_classes=[6, 7],\n",
    "                                                             verbose=True\n",
    "                                                            )\n",
    "\n",
    "X_test, Y_test, idx_test, seqno_test = load_h5datachunks(dataset_dir, \n",
    "                                                         test_chunk_filenames, \n",
    "                                                         features=['data', 'class', 'idx', 'seq_no'],\n",
    "                                                         ignore_classes=[6, 7],\n",
    "                                                         verbose=True\n",
    "                                                         )"
   ]
  },
  {
   "cell_type": "markdown",
   "metadata": {},
   "source": [
    "### 1.1 Balance dataset\n",
    "The distribution of the classes is not balanced. Hence, we proceed to balance it which gives our model equal chances to perform good on all classes."
   ]
  },
  {
   "cell_type": "code",
   "execution_count": 8,
   "metadata": {},
   "outputs": [
    {
     "name": "stdout",
     "output_type": "stream",
     "text": [
      "test...\n",
      "valid...\n",
      "train...\n"
     ]
    }
   ],
   "source": [
    "from pyphoon.app.utils import balance_dataset\n",
    "\n",
    "# test\n",
    "print(\"test...\")\n",
    "for i in range(len(Y_test)):\n",
    "    # Get labels and valid positions\n",
    "    pos = balance_dataset(Y_test[i], [2,3,4,5])\n",
    "    # Retrieve corresponding samples\n",
    "    X_test[i] = X_test[i][pos]\n",
    "    Y_test[i] = Y_test[i][pos]\n",
    "    idx_test[i] = idx_test[i][pos]\n",
    "    seqno_test[i] = seqno_test[i][pos]\n",
    "\n",
    "# valid\n",
    "print(\"valid...\")\n",
    "for i in range(len(Y_valid)):\n",
    "    # Get labels and valid positions\n",
    "    pos = balance_dataset(Y_valid[i], [2,3,4,5])\n",
    "    # Retrieve corresponding samples\n",
    "    X_valid[i] = X_valid[i][pos]\n",
    "    Y_valid[i] = Y_valid[i][pos]\n",
    "    idx_valid[i] = idx_valid[i][pos]\n",
    "    seqno_valid[i] = seqno_valid[i][pos]\n",
    "    \n",
    "# train\n",
    "print(\"train...\")\n",
    "for i in range(len(Y_train)):\n",
    "    # Get labels and valid positions\n",
    "    pos = balance_dataset(Y_train[i], [2,3,4,5])\n",
    "    # Retrieve corresponding samples\n",
    "    X_train[i] = X_train[i][pos]\n",
    "    Y_train[i] = Y_train[i][pos]\n",
    "    idx_train[i] = idx_train[i][pos]\n",
    "    seqno_train[i] = seqno_train[i][pos]"
   ]
  },
  {
   "cell_type": "markdown",
   "metadata": {},
   "source": [
    "Let us plot the histograms of the sets to verify that the data is equally balanced now."
   ]
  },
  {
   "cell_type": "code",
   "execution_count": 10,
   "metadata": {},
   "outputs": [
    {
     "data": {
      "image/png": "[encoded data removed]",
      "text/plain": [
       "<matplotlib.figure.Figure at 0x2ba5d193b208>"
      ]
     },
     "metadata": {},
     "output_type": "display_data"
    }
   ],
   "source": [
    "import matplotlib.pyplot as plt\n",
    "import numpy as np\n",
    "\n",
    "plt.figure(figsize=(15,5))\n",
    "y_train = np.concatenate(Y_train)\n",
    "y_valid = np.concatenate(Y_valid)\n",
    "y_test = np.concatenate(Y_test)\n",
    "\n",
    "plt.subplot(1,3,1)\n",
    "plt.hist(y_train)\n",
    "plt.title(\"Train\")\n",
    "plt.subplot(1,3,2)\n",
    "plt.hist(y_valid)\n",
    "plt.title(\"Validation\")\n",
    "plt.subplot(1,3,3)\n",
    "plt.hist(y_test)\n",
    "plt.title(\"Test\")\n",
    "plt.suptitle(\"Class Distribution\", fontsize=20)\n",
    "plt.show()"
   ]
  },
  {
   "cell_type": "markdown",
   "metadata": {},
   "source": [
    "## 2. Data Preprocessing\n",
    "\n",
    "### 2.1 Data overview\n",
    "First of all, let us gain some knowledge of our data by printing the amount of samples in training, validation and test sets."
   ]
  },
  {
   "cell_type": "code",
   "execution_count": 11,
   "metadata": {},
   "outputs": [
    {
     "name": "stdout",
     "output_type": "stream",
     "text": [
      "train: 59708\n",
      "valid: 17536\n",
      "test: 25904\n",
      "total: 103148\n"
     ]
    }
   ],
   "source": [
    "# Number of samples in dataset\n",
    "n1 = sum([len(x) for x in X_train])\n",
    "n2 = sum([len(x) for x in X_valid])\n",
    "n3 = sum([len(x) for x in X_test])\n",
    "print(\"train:\", n1)\n",
    "print(\"valid:\", n2)\n",
    "print(\"test:\", n3)\n",
    "print(\"total:\", n1+n2+n3)"
   ]
  },
  {
   "cell_type": "markdown",
   "metadata": {},
   "source": [
    "### 2.2. Load preprocessing parameters\n",
    "In this experiment, as already highlighted we will be using a different dataset set up. Thus, we will also use different preprocessing parameters. You may find those at `'../preprocessing_random.h5'`. \n",
    "\n",
    "As before, following parameters are found in this file:\n",
    "\n",
    "- Mean image: Image containing the mean for each pixel location.\n",
    "- Pixel mean: Overal pixel intensity mean (scalar value).\n",
    "- Pixel standard deviation: Overall pixel standard deviation (scalar value).\n",
    "- Pixel maximum value: Overall maximum pixel intensity value (scalar value).\n",
    "- Pixel minimum value: Overall minimum pixel intensity value (scalar value).\n",
    "\n",
    "Depending on your needs, you may use `MeanImagePreprocessor` or`DefaultImagePreprocessor` to preprocess your data. Generation of these files is easy, and is done by `pyphoon.app.preprocess.generate_preprocess_params`. Set variable `generate_params` below to True to do so, however, the repository already provides precomputed preprocessing parameters."
   ]
  },
  {
   "cell_type": "code",
   "execution_count": 12,
   "metadata": {},
   "outputs": [],
   "source": [
    "generate_params = False\n",
    "if generate_params:\n",
    "    from pyphoon.app.preprocess import generate_preprocess_params\n",
    "    generate_preprocess_params(X_train, \"../preprocessing_random.h5\")"
   ]
  },
  {
   "cell_type": "markdown",
   "metadata": {},
   "source": [
    "For this task, we will use `MeanImagePreprocessor`, which uses the dataset mean image to centre the data and the minimum and maximum pixel values to normalise the images. To this end, we have previously computed these parameters and stored them under file `random.h5`. Note that the next step may take a while..."
   ]
  },
  {
   "cell_type": "code",
   "execution_count": 14,
   "metadata": {},
   "outputs": [],
   "source": [
    "import h5py\n",
    "\n",
    "# Define preprocessor\n",
    "with h5py.File('../preprocessing_random.h5') as f:\n",
    "    mean = f.get('image_mean').value\n",
    "    scale_factor = f.get('max_value').value - f.get('min_value').value"
   ]
  },
  {
   "cell_type": "markdown",
   "metadata": {},
   "source": [
    "### 2.3. Preprocessor\n",
    "We define the preprocessing pipeline here. However, the preprocessing of the data is done in the data generator when training the model. This way, we reduce the memory requirements."
   ]
  },
  {
   "cell_type": "code",
   "execution_count": 15,
   "metadata": {},
   "outputs": [],
   "source": [
    "from pyphoon.app.preprocess import MeanImagePreprocessor\n",
    "\n",
    "# Define preprocessor\n",
    "preprocessor = MeanImagePreprocessor(mean, scale_factor, add_axis=[3])"
   ]
  },
  {
   "cell_type": "markdown",
   "metadata": {},
   "source": [
    "## 3. Model\n",
    "We use the same architecture and hyper-parameters than in the [Classification_Model](Classification_Model.ipynb) notebook. You may refer to section 3.3 to load pretrained weights instead of training. However, make sure to define the model architecture first."
   ]
  },
  {
   "cell_type": "code",
   "execution_count": 16,
   "metadata": {},
   "outputs": [],
   "source": [
    "from keras.layers import Input, Conv2D, Activation, MaxPooling2D, Flatten, \\\n",
    "    Dense, Dropout\n",
    "from keras.layers.normalization import BatchNormalization\n",
    "from keras.models import Model"
   ]
  },
  {
   "cell_type": "markdown",
   "metadata": {},
   "source": [
    "### 3.1 Model Architecture"
   ]
  },
  {
   "cell_type": "code",
   "execution_count": 19,
   "metadata": {},
   "outputs": [],
   "source": [
    "input_img = Input(shape=(128, 128, 1), name=\"in\")\n",
    "############################################################################\n",
    "# Convolutional Layers\n",
    "############################################################################\n",
    "x = Conv2D(64, (3, 3), strides=(1, 1), padding='same', name='conv2d_1')(\n",
    "    input_img)\n",
    "x = Activation('relu', name='activation_1')(x)\n",
    "x = BatchNormalization(name=\"batch_normalization_1\")(x)\n",
    "x = MaxPooling2D((2, 2), strides=(2, 2), padding='same', name='max_pooling2d_1')(x)\n",
    "\n",
    "x = Conv2D(128, (3, 3), strides=(1, 1), padding='same', name='conv2d_2')(x)\n",
    "x = Activation('relu', name='activation_2')(x)\n",
    "x = BatchNormalization(name=\"batch_normalization_2\")(x)\n",
    "x = MaxPooling2D((2, 2), strides=(2, 2), padding='same', name='max_pooling2d_2')(x)\n",
    "\n",
    "x = Conv2D(128, (3, 3), strides=(1, 1), padding='same', name='conv2d_3')(x)\n",
    "x = Activation('relu', name='activation_3')(x)\n",
    "x = BatchNormalization(name=\"batch_normalization_3\")(x)\n",
    "x = MaxPooling2D((2, 2), strides=(2, 2), padding='same', name='max_pooling2d_3')(x)\n",
    "\n",
    "x = Conv2D(256, (3, 3), strides=(1, 1), padding='same', name='conv2d_4')(x)\n",
    "x = Activation('relu', name='activation_4')(x)\n",
    "x = BatchNormalization(name=\"batch_normalization_4\")(x)\n",
    "x = MaxPooling2D((2, 2), strides=(2, 2), padding='same', name='max_pooling2d_4')(x)\n",
    "############################################################################\n",
    "# Dense Layers\n",
    "############################################################################\n",
    "x = Flatten()(x)\n",
    "\n",
    "x = Dense(512, use_bias=True, name=\"dense_1\")(x)\n",
    "x = Activation('relu', name=\"activation_5\")(x)\n",
    "x = BatchNormalization(name=\"batch_normalization_5\")(x)\n",
    "x = Dropout(0.2, name=\"dropout_1\")(x)\n",
    "\n",
    "x = Dense(256, use_bias=True, name=\"dense_2\")(x)\n",
    "x = Activation('relu', name=\"activation_6\")(x)\n",
    "x = BatchNormalization(name=\"fc_bn2\")(x)\n",
    "\n",
    "############################################################################\n",
    "# Output\n",
    "############################################################################\n",
    "x = Dense(4, use_bias=True, name=\"dense_3\")(x)\n",
    "x = Activation('softmax', name=\"out\")(x)\n",
    "\n",
    "############################################################################\n",
    "# Modelshinjuku to asa\n",
    "############################################################################\n",
    "model = Model(input_img, x)"
   ]
  },
  {
   "cell_type": "code",
   "execution_count": 20,
   "metadata": {},
   "outputs": [],
   "source": [
    "model.compile(loss='categorical_crossentropy', optimizer='adam', metrics=[\n",
    "    'accuracy'])"
   ]
  },
  {
   "cell_type": "markdown",
   "metadata": {},
   "source": [
    "### 3.2 Callbacks\n",
    "Before training, we will define some usefull callbacks to supervise the training process. One of the most usefull callbacks is [Tensorboard](https://www.tensorflow.org/programmers_guide/summaries_and_tensorboard), which enables easy visualisation of loss and accuracy curves.\n",
    "\n",
    "Make sure to use the following command to run the tensorboard client.\n",
    "\n",
    "```\n",
    "$ tensorboard --logdir=<path/to/log-directory> --port <port>\n",
    "```\n",
    "\n",
    "Once the model is training you may check its performance by navigating to `localhost:<port>`."
   ]
  },
  {
   "cell_type": "code",
   "execution_count": 21,
   "metadata": {},
   "outputs": [],
   "source": [
    "from pyphoon.app.callbacks import StoreModelWeights, OurTensorBoard, LossHistory\n",
    "\n",
    "foldername = 'results_random_2'\n",
    "storeweights_callback = StoreModelWeights(foldername, naming=\"val_acc\")\n",
    "tensorboard_callback = OurTensorBoard(foldername)\n",
    "loss_callback = LossHistory()\n",
    "\n",
    "callbacks = [loss_callback, storeweights_callback, tensorboard_callback]"
   ]
  },
  {
   "cell_type": "markdown",
   "metadata": {},
   "source": [
    "### 3.3 Training\n",
    "Finally, To feed our model with input data we will use a data generator, provided by method `data_generator_from_chunklist` from `pyphoon.app.utils`."
   ]
  },
  {
   "cell_type": "code",
   "execution_count": null,
   "metadata": {},
   "outputs": [],
   "source": [
    "from pyphoon.app.utils import DataGeneratorFromChunklist\n",
    "\n",
    "# Generator\n",
    "batch_size = 32\n",
    "generator = DataGeneratorFromChunklist(batch_sz=batch_size,\n",
    "                                       preprocess_algorithm=preprocessor.apply,\n",
    "                                       target_enc='ohe',\n",
    "                                       crop=128\n",
    "                                       )\n",
    "\n",
    "# Number steps\n",
    "n_steps_train = sum([np.ceil(len(x)/batch_size) for x in Y_train])\n",
    "n_steps_valid = sum([np.ceil(len(x)/batch_size) for x in Y_valid])\n",
    "\n",
    "# Number of full epochs, i.e. #times algorithm sees all the data\n",
    "epochs = 10\n",
    "\n",
    "# Train\n",
    "model.fit_generator(\n",
    "    generator=generator.feed(X_train, Y_train),\n",
    "    steps_per_epoch=n_steps_train,\n",
    "    validation_data=generator.feed(X_valid, Y_valid),\n",
    "    validation_steps=n_steps_valid,\n",
    "    epochs=epochs,\n",
    "    callbacks=callbacks\n",
    ")"
   ]
  },
  {
   "cell_type": "markdown",
   "metadata": {},
   "source": [
    "### 3.4 Load pre-trained weights\n",
    "Here we load the weights that provided the best performance and evaluate the performance on the test data. l."
   ]
  },
  {
   "cell_type": "code",
   "execution_count": 25,
   "metadata": {},
   "outputs": [],
   "source": [
    "model.load_weights('../weights_random.hdf5')"
   ]
  },
  {
   "cell_type": "markdown",
   "metadata": {},
   "source": [
    "## 4. Results\n",
    "### 4.1 Test accuracy\n",
    "We evaluate the model that performed best on the validation set on the test set. This is the final performance of our model."
   ]
  },
  {
   "cell_type": "code",
   "execution_count": 26,
   "metadata": {},
   "outputs": [
    {
     "name": "stdout",
     "output_type": "stream",
     "text": [
      "Accuracy on test set: 0.828211859172\n"
     ]
    }
   ],
   "source": [
    "# Generator\n",
    "batch_size = 32\n",
    "generator = DataGeneratorFromChunklist(batch_sz=batch_size, \n",
    "                                       preprocess_algorithm=preprocessor.apply, \n",
    "                                       target_enc='ohe',\n",
    "                                       crop=128)\n",
    "# Number steps\n",
    "n_steps = sum([np.ceil(len(x)/batch_size) for x in Y_test])\n",
    "\n",
    "# Get predictions\n",
    "y_pred = model.predict_generator(\n",
    "    generator=generator.feed(X_test, Y_test, shuffle_batches=False, shuffle_samples=False),\n",
    "    steps=n_steps\n",
    ")\n",
    "y_pred = np.argmax(y_pred, axis=1)\n",
    "\n",
    "# Ground truth\n",
    "y_true = (np.concatenate(Y_test) - 2).tolist()\n",
    "\n",
    "# Test accuracy\n",
    "acc_test = (np.array(y_true) == np.array(y_pred)).mean()\n",
    "print(\"Accuracy on test set:\", acc_test)"
   ]
  },
  {
   "cell_type": "markdown",
   "metadata": {},
   "source": [
    "### 4.2 Confusion Matrix, precision, recall\n",
    "Now we take a closer look in an attempt to see if our model is biased towards some category."
   ]
  },
  {
   "cell_type": "code",
   "execution_count": 27,
   "metadata": {},
   "outputs": [
    {
     "data": {
      "text/html": [
       "<div>\n",
       "<style scoped>\n",
       "    .dataframe tbody tr th:only-of-type {\n",
       "        vertical-align: middle;\n",
       "    }\n",
       "\n",
       "    .dataframe tbody tr th {\n",
       "        vertical-align: top;\n",
       "    }\n",
       "\n",
       "    .dataframe thead th {\n",
       "        text-align: right;\n",
       "    }\n",
       "</style>\n",
       "<table border=\"1\" class=\"dataframe\">\n",
       "  <thead>\n",
       "    <tr style=\"text-align: right;\">\n",
       "      <th></th>\n",
       "      <th>predicted 2</th>\n",
       "      <th>predicted 3</th>\n",
       "      <th>predicted 4</th>\n",
       "      <th>predicted 5</th>\n",
       "    </tr>\n",
       "  </thead>\n",
       "  <tbody>\n",
       "    <tr>\n",
       "      <th>2</th>\n",
       "      <td>5586</td>\n",
       "      <td>769</td>\n",
       "      <td>105</td>\n",
       "      <td>16</td>\n",
       "    </tr>\n",
       "    <tr>\n",
       "      <th>3</th>\n",
       "      <td>809</td>\n",
       "      <td>4893</td>\n",
       "      <td>660</td>\n",
       "      <td>114</td>\n",
       "    </tr>\n",
       "    <tr>\n",
       "      <th>4</th>\n",
       "      <td>147</td>\n",
       "      <td>646</td>\n",
       "      <td>5169</td>\n",
       "      <td>514</td>\n",
       "    </tr>\n",
       "    <tr>\n",
       "      <th>5</th>\n",
       "      <td>26</td>\n",
       "      <td>131</td>\n",
       "      <td>513</td>\n",
       "      <td>5806</td>\n",
       "    </tr>\n",
       "  </tbody>\n",
       "</table>\n",
       "</div>"
      ],
      "text/plain": [
       "   predicted 2  predicted 3  predicted 4  predicted 5\n",
       "2         5586          769          105           16\n",
       "3          809         4893          660          114\n",
       "4          147          646         5169          514\n",
       "5           26          131          513         5806"
      ]
     },
     "execution_count": 27,
     "metadata": {},
     "output_type": "execute_result"
    }
   ],
   "source": [
    "from sklearn.metrics import confusion_matrix\n",
    "import pandas as pd\n",
    "\n",
    "pd.DataFrame(confusion_matrix(y_true, y_pred), \n",
    "             columns=['predicted 2','predicted 3','predicted 4','predicted 5'], \n",
    "             index=['2', '3', '4', '5']\n",
    "            )"
   ]
  },
  {
   "cell_type": "code",
   "execution_count": 28,
   "metadata": {},
   "outputs": [
    {
     "name": "stdout",
     "output_type": "stream",
     "text": [
      "             precision    recall  f1-score   support\n",
      "\n",
      "          0       0.85      0.86      0.86      6476\n",
      "          1       0.76      0.76      0.76      6476\n",
      "          2       0.80      0.80      0.80      6476\n",
      "          3       0.90      0.90      0.90      6476\n",
      "\n",
      "avg / total       0.83      0.83      0.83     25904\n",
      "\n"
     ]
    }
   ],
   "source": [
    "from sklearn.metrics import classification_report\n",
    "\n",
    "# Get complete report\n",
    "print(classification_report(y_true, y_pred))"
   ]
  },
  {
   "cell_type": "markdown",
   "metadata": {},
   "source": [
    "## 5. Conclusions\n",
    "From this short experiment, we can conclude that the way the data is distributed among all datasets (training, validation and test) has a big impact on the final evaluated performance of the model.\n",
    "\n",
    "Performance using random split is high, as expected. This might be due to several reasons:\n",
    "- Images from different sequences might be subject to some measurement biases due to variations in the state of the sensors throughout the years. Also, depending on the period, different satellites were being used.\n",
    "- Images one hour apart from the same sequence are practically identical. Therefore, practically speaking the model is evaluated on data that it has almost \"already seen\" during training.\n",
    "\n",
    "We argue that random split is not a realistic set up. Reasons:\n",
    "- In general, we want to make our predictions using data from the past. That is, from other sequences that we registered and analysed before.\n",
    "- When analysing data from a new sequence, predictions from it are usually not available or might be subject to some errors."
   ]
  }
 ],
 "metadata": {
  "kernelspec": {
   "display_name": "Python 3",
   "language": "python",
   "name": "python3"
  },
  "language_info": {
   "codemirror_mode": {
    "name": "ipython",
    "version": 3
   },
   "file_extension": ".py",
   "mimetype": "text/x-python",
   "name": "python",
   "nbconvert_exporter": "python",
   "pygments_lexer": "ipython3",
   "version": "3.6.3"
  }
 },
 "nbformat": 4,
 "nbformat_minor": 2
}
