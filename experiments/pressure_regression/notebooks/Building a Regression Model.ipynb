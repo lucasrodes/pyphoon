{
 "cells": [
  {
   "cell_type": "markdown",
   "metadata": {},
   "source": [
    "# Regression model\n",
    "In this notebook we present our last experiment. Here, we are interested in the implementation of a regression model to estimate the centre pressure of a typhoon based on its satellite image."
   ]
  },
  {
   "cell_type": "code",
   "execution_count": 1,
   "metadata": {},
   "outputs": [],
   "source": [
    "%load_ext autoreload\n",
    "%autoreload 2\n",
    "\n",
    "import sys\n",
    "sys.path.insert(0, '../../..')"
   ]
  },
  {
   "cell_type": "markdown",
   "metadata": {},
   "source": [
    "We will use GPU with identifier \"1\", after agreeing with other users with access to the same machine."
   ]
  },
  {
   "cell_type": "code",
   "execution_count": 2,
   "metadata": {},
   "outputs": [],
   "source": [
    "from os import environ\n",
    "\n",
    "environ[\"CUDA_VISIBLE_DEVICES\"]=\"1\""
   ]
  },
  {
   "cell_type": "markdown",
   "metadata": {},
   "source": [
    "## 1. Load data\n",
    "Time to load the data. The data is stored in chunk HDF5 files, which have been previously been generated using script [generate_dataset.py](../../../scripts/generate_dataset.py). We will use chunks 0-26 for training, 27-24 for validation and 35-47 for testing. Note that loading the chunks might take a while. Grab yourself a tee."
   ]
  },
  {
   "cell_type": "code",
   "execution_count": 3,
   "metadata": {},
   "outputs": [],
   "source": [
    "from os import listdir\n",
    "# Paths where data is stored\n",
    "dataset_dir = '/root/fs9/lucas/data/datasets/year_256/'\n",
    "chunk_filenames = listdir(dataset_dir)\n",
    "train_chunk_filenames = chunk_filenames[:27]\n",
    "valid_chunk_filenames = chunk_filenames[27:35]\n",
    "test_chunk_filenames = chunk_filenames[35:]"
   ]
  },
  {
   "cell_type": "code",
   "execution_count": 4,
   "metadata": {},
   "outputs": [
    {
     "name": "stderr",
     "output_type": "stream",
     "text": [
      "Using TensorFlow backend.\n",
      "/usr/lib/python3.6/importlib/_bootstrap.py:219: RuntimeWarning: compiletime version 3.5 of module 'tensorflow.python.framework.fast_tensor_util' does not match runtime version 3.6\n",
      "  return f(*args, **kwds)\n"
     ]
    },
    {
     "name": "stdout",
     "output_type": "stream",
     "text": [
      " file chunk_0.h5 read\n",
      " file chunk_1.h5 read\n",
      " file chunk_2.h5 read\n",
      " file chunk_3.h5 read\n",
      " file chunk_4.h5 read\n",
      " file chunk_5.h5 read\n",
      " file chunk_6.h5 read\n",
      " file chunk_7.h5 read\n",
      " file chunk_8.h5 read\n",
      " file chunk_9.h5 read\n",
      " file chunk_10.h5 read\n",
      " file chunk_11.h5 read\n",
      " file chunk_12.h5 read\n",
      " file chunk_13.h5 read\n",
      " file chunk_14.h5 read\n",
      " file chunk_15.h5 read\n",
      " file chunk_16.h5 read\n",
      " file chunk_17.h5 read\n",
      " file chunk_18.h5 read\n",
      " file chunk_19.h5 read\n",
      " file chunk_20.h5 read\n",
      " file chunk_21.h5 read\n",
      " file chunk_22.h5 read\n",
      " file chunk_23.h5 read\n",
      " file chunk_24.h5 read\n",
      " file chunk_25.h5 read\n",
      " file chunk_26.h5 read\n",
      " file chunk_27.h5 read\n",
      " file chunk_28.h5 read\n",
      " file chunk_29.h5 read\n",
      " file chunk_30.h5 read\n",
      " file chunk_31.h5 read\n",
      " file chunk_32.h5 read\n",
      " file chunk_33.h5 read\n",
      " file chunk_34.h5 read\n",
      " file chunk_35.h5 read\n",
      " file chunk_36.h5 read\n",
      " file chunk_37.h5 read\n",
      " file chunk_38.h5 read\n",
      " file chunk_39.h5 read\n",
      " file chunk_40.h5 read\n",
      " file chunk_41.h5 read\n",
      " file chunk_42.h5 read\n",
      " file chunk_43.h5 read\n",
      " file chunk_44.h5 read\n",
      " file chunk_45.h5 read\n",
      " file chunk_46.h5 read\n"
     ]
    }
   ],
   "source": [
    "from pyphoon.app.utils import load_h5datachunks\n",
    "\n",
    "X_train, Y_train, idx_train, seqno_train = load_h5datachunks(dataset_dir,\n",
    "                                                             train_chunk_filenames, \n",
    "                                                             features=['data', 'pressure', 'idx', 'seq_no'],\n",
    "                                                             ignore_classes=[6, 7],\n",
    "                                                             verbose=True\n",
    "                                                             )\n",
    "\n",
    "X_valid, Y_valid, idx_valid, seqno_valid = load_h5datachunks(dataset_dir,\n",
    "                                                             valid_chunk_filenames, \n",
    "                                                             features=['data', 'pressure', 'idx', 'seq_no'],\n",
    "                                                             ignore_classes=[6, 7],\n",
    "                                                             verbose=True\n",
    "                                                            )\n",
    "\n",
    "X_test, Y_test, idx_test, seqno_test = load_h5datachunks(dataset_dir, \n",
    "                                                         test_chunk_filenames, \n",
    "                                                         features=['data', 'pressure', 'idx', 'seq_no'],\n",
    "                                                         ignore_classes=[6, 7],\n",
    "                                                         verbose=True\n",
    "                                                         )"
   ]
  },
  {
   "cell_type": "markdown",
   "metadata": {},
   "source": [
    "### 1.1 Data overview\n",
    "First of all, let us gain some knowledge of our data by printing the amount of samples in training, validation and test sets."
   ]
  },
  {
   "cell_type": "code",
   "execution_count": 5,
   "metadata": {},
   "outputs": [
    {
     "name": "stdout",
     "output_type": "stream",
     "text": [
      "train: 99629\n",
      "valid: 18211\n",
      "test: 28031\n",
      "total: 145871\n"
     ]
    }
   ],
   "source": [
    "# Number of samples in dataset\n",
    "n1 = sum([len(x) for x in X_train])\n",
    "n2 = sum([len(x) for x in X_valid])\n",
    "n3 = sum([len(x) for x in X_test])\n",
    "print(\"train:\", n1)\n",
    "print(\"valid:\", n2)\n",
    "print(\"test:\", n3)\n",
    "print(\"total:\", n1+n2+n3)"
   ]
  },
  {
   "cell_type": "markdown",
   "metadata": {},
   "source": [
    "Let us explore how the pressure behaves. Importantly is to detect if it has a decent balanced distribution, which, well, it does not have."
   ]
  },
  {
   "cell_type": "code",
   "execution_count": 56,
   "metadata": {},
   "outputs": [],
   "source": [
    "import numpy as np\n",
    "\n",
    "h = None\n",
    "bins = [870, 900, 910, 920, 930, 940, 950, 960, 970, 980, 990, 1000, 1005, 1010, 1015, 1020]\n",
    "for y in Y_train:\n",
    "    if h is None:\n",
    "        h = np.histogram(y, bins=bins)[0]\n",
    "    else:\n",
    "        h += np.histogram(y, bins=bins)[0]"
   ]
  },
  {
   "cell_type": "code",
   "execution_count": 57,
   "metadata": {},
   "outputs": [
    {
     "data": {
      "image/png": "[encoded data removed]",
      "text/plain": [
       "<matplotlib.figure.Figure at 0x2ba7616c02b0>"
      ]
     },
     "metadata": {},
     "output_type": "display_data"
    }
   ],
   "source": [
    "import matplotlib.pyplot as plt\n",
    "plt.figure(figsize=(15,5))\n",
    "plt.subplot(121)\n",
    "plt.title(\"Density\")\n",
    "plt.plot(bins[1:], h)\n",
    "plt.grid()\n",
    "plt.subplot(122)\n",
    "plt.title(\"Cummulative\")\n",
    "plt.plot(bins[1:], np.cumsum(h))\n",
    "plt.grid()\n",
    "plt.show()"
   ]
  },
  {
   "cell_type": "markdown",
   "metadata": {},
   "source": [
    "## 2. Data Preprocessing"
   ]
  },
  {
   "cell_type": "markdown",
   "metadata": {},
   "source": [
    "### 2.2. Load preprocess parameters\n",
    "Note that to preprocess the images (centre and normalise) we require the preprocessing parameters. Hence, these parameters will depend on the dataset being used. In this experiments we use a dataset generated based on the years of the sequences. In particular, the trainig, validation and test datasets have been generated at sequence level. That is, images belonging to the same typhoon sequence find themselves only in one set. In addition, sequences from old typhoons have been used for training, while newer are used for testing. These parameters are found under `'../preprocessing_year.h5'`. \n",
    "\n",
    "We note that for both approaches 256x256 images have been used. These files, contain the following preprocessing parameters:\n",
    "\n",
    "- Mean image: Image containing the mean for each pixel location.\n",
    "- Pixel mean: Overal pixel intensity mean (scalar value).\n",
    "- Pixel standard deviation: Overall pixel standard deviation (scalar value).\n",
    "- Pixel maximum value: Overall maximum pixel intensity value (scalar value).\n",
    "- Pixel minimum value: Overall minimum pixel intensity value (scalar value).\n",
    "\n",
    "Depending on your needs, you may use `MeanImagePreprocessor` or`DefaultImagePreprocessor` to preprocess your data. Generation of these files is easy, and is done by `pyphoon.app.preprocess.generate_preprocess_params`. Set variable `generate_params` below to True to do so, however, the repository already provides precomputed preprocessing parameters."
   ]
  },
  {
   "cell_type": "code",
   "execution_count": 10,
   "metadata": {},
   "outputs": [],
   "source": [
    "generate_params = False\n",
    "if generate_params:\n",
    "    from pyphoon.app.preprocess import generate_preprocess_params\n",
    "    generate_preprocess_params(X_train, \"../preprocessing_year.h5\")"
   ]
  },
  {
   "cell_type": "markdown",
   "metadata": {},
   "source": [
    "For this task, we will use `MeanImagePreprocessor`, which uses the dataset mean image to centre the data and the minimum and maximum pixel values to normalise the images. To this end, we have previously computed these parameters and stored them under file `random.h5`. Note that the next step may take a while..."
   ]
  },
  {
   "cell_type": "code",
   "execution_count": 64,
   "metadata": {},
   "outputs": [],
   "source": [
    "import h5py\n",
    "\n",
    "# Define preprocessor\n",
    "with h5py.File('../preprocessing_year.h5') as f:\n",
    "    mean = f.get('image_mean').value\n",
    "    scale_factor = f.get('max_value').value - f.get('min_value').value"
   ]
  },
  {
   "cell_type": "markdown",
   "metadata": {},
   "source": [
    "### 2.3. Preprocessor\n",
    "We define the preprocessing pipeline here. However, the preprocessing of the data is done in the data generator when training the model. This way, we reduce the memory requirements."
   ]
  },
  {
   "cell_type": "code",
   "execution_count": 65,
   "metadata": {},
   "outputs": [],
   "source": [
    "from pyphoon.app.preprocess import MeanImagePreprocessor\n",
    "\n",
    "preprocessor = MeanImagePreprocessor(mean, scale_factor, add_axis=[3])"
   ]
  },
  {
   "cell_type": "markdown",
   "metadata": {},
   "source": [
    "## 3. Model\n",
    "In this section we will define our models architecture and will train it from scratch. Alternatively, you may refer to section 3.3 to load pretrained weights. However, make sure to define the model architecture first."
   ]
  },
  {
   "cell_type": "code",
   "execution_count": 66,
   "metadata": {},
   "outputs": [],
   "source": [
    "from keras.layers import Input, Dense, Conv2D, MaxPooling2D, \\\n",
    "    Flatten, Activation, Dropout\n",
    "from keras.regularizers import l2\n",
    "from keras.layers.normalization import BatchNormalization\n",
    "from keras.models import Model"
   ]
  },
  {
   "cell_type": "markdown",
   "metadata": {},
   "source": [
    "### 3.1. Model architecture\n",
    "Now, time to define our model. We directly implement the final architecture, with the hyper-parameters that provided best result during the grid search."
   ]
  },
  {
   "cell_type": "code",
   "execution_count": 76,
   "metadata": {},
   "outputs": [],
   "source": [
    "input_img = Input(shape=(128, 128, 1), name=\"in\")\n",
    "\n",
    "# Conv layers\n",
    "x = Conv2D(64, (3, 3), strides=(1, 1), padding='same', name='conv1', kernel_regularizer=l2(0.01), use_bias=False)(\n",
    "    input_img)\n",
    "x = Activation('relu', name='act1')(x)\n",
    "x = BatchNormalization(name=\"bn1\")(x)\n",
    "x = MaxPooling2D((2, 2), strides=(2, 2), padding='same', name='pool1')(x)\n",
    "\n",
    "\n",
    "x = Conv2D(128, (3, 3), strides=(1, 1), padding='same', name='conv2', kernel_regularizer=l2(0.1), use_bias=False)(x)\n",
    "x = Activation('relu', name='act2')(x)\n",
    "x = BatchNormalization(name=\"bn2\")(x)\n",
    "x = MaxPooling2D((2, 2), strides=(2, 2), padding='same', name='pool2')(x)\n",
    "\n",
    "\n",
    "x = Conv2D(128, (3, 3), strides=(1, 1), padding='same', name='conv3', kernel_regularizer=l2(0.01), use_bias=False)(x)\n",
    "x = Activation('relu', name='act3')(x)\n",
    "x = BatchNormalization(name=\"bn3\")(x)\n",
    "x = MaxPooling2D((2, 2), strides=(2, 2), padding='same', name='pool3')(x)\n",
    "\n",
    "\n",
    "x = Conv2D(256, (3, 3), strides=(1, 1), padding='same', name='conv4', kernel_regularizer=l2(0.01), use_bias=False)(x)\n",
    "x = Activation('relu', name='act4')(x)\n",
    "x = BatchNormalization(name=\"bn4\")(x)\n",
    "x = MaxPooling2D((2, 2), strides=(2, 2), padding='same', name='pool4')(x)\n",
    "\n",
    "\n",
    "x = Conv2D(256, (3, 3), strides=(1, 1), padding='same', name='conv5', kernel_regularizer=l2(0.01), use_bias=False)(x)\n",
    "x = Activation('relu', name='act5')(x)\n",
    "x = BatchNormalization(name=\"bn5\")(x)\n",
    "x = MaxPooling2D((2, 2), strides=(2, 2), padding='same', name='pool5')(x)\n",
    "\n",
    "\n",
    "# Dense layers\n",
    "x = Flatten()(x)\n",
    "\n",
    "x = Dense(1024, use_bias=False, name=\"fc1\")(x)\n",
    "x = Activation('relu', name=\"fc_act1\")(x)\n",
    "x = BatchNormalization(name=\"fc_bn1\")(x)\n",
    "x = Dropout(0.2, name=\"drop1\")(x)\n",
    "\n",
    "x = Dense(256, use_bias=False, name=\"fc2\")(x)\n",
    "x = Activation('relu', name=\"fc_act2\")(x)\n",
    "x = BatchNormalization(name=\"fc_bn2\")(x)\n",
    "\n",
    "# Out\n",
    "x = Dense(1, use_bias=True, name=\"fc_end\")(x)\n",
    "#x = Activation('tanh', name=\"out\")(x)\n",
    "\n",
    "# Model\n",
    "model = Model(input_img, x)"
   ]
  },
  {
   "cell_type": "code",
   "execution_count": 77,
   "metadata": {},
   "outputs": [],
   "source": [
    "import keras.backend as K\n",
    "\n",
    "def mean_error(y_true, y_pred):\n",
    "    return K.mean(K.abs(y_true-y_pred))\n",
    "\n",
    "model.compile(loss='mean_squared_error', optimizer='adam', metrics=[mean_error])"
   ]
  },
  {
   "cell_type": "markdown",
   "metadata": {},
   "source": [
    "#### 3.1.1 Input pipeline\n",
    "Let us define a generator for the input data."
   ]
  },
  {
   "cell_type": "code",
   "execution_count": 78,
   "metadata": {},
   "outputs": [],
   "source": [
    "from pyphoon.app.utils import DataGeneratorFromChunklist\n",
    "\n",
    "# Generator\n",
    "batch_size = 32\n",
    "generator = DataGeneratorFromChunklist(batch_sz=batch_size, \n",
    "                                       preprocess_algorithm=preprocessor.apply, \n",
    "                                       crop=128\n",
    "    )"
   ]
  },
  {
   "cell_type": "markdown",
   "metadata": {},
   "source": [
    "### 3.2 Callbacks\n",
    "Before training, we will define some usefull callbacks to supervise the training process. One of the most usefull callbacks is [Tensorboard](https://www.tensorflow.org/programmers_guide/summaries_and_tensorboard), which enables easy visualisation of loss and accuracy curves.\n",
    "\n",
    "Make sure to use the following command to run the tensorboard client.\n",
    "\n",
    "```\n",
    "$ tensorboard --logdir=<path/to/log-directory> --port <port>\n",
    "```\n",
    "\n",
    "Once the model is training you may check its performance by navigating to `localhost:<port>`."
   ]
  },
  {
   "cell_type": "code",
   "execution_count": 73,
   "metadata": {},
   "outputs": [],
   "source": [
    "from pyphoon.app.callbacks import StoreModelWeights, PlotRegressionValidation, OurTensorBoard, LossHistory\n",
    "\n",
    "# preprocess validation data to plot regression after each epoch\n",
    "x_valid = [preprocessor.apply(x) for x in X_valid]\n",
    "n_steps_valid = sum([np.ceil(len(x)/batch_size) for x in Y_valid])\n",
    "\n",
    "foldername = 'results_vava_1'\n",
    "regression_callback = PlotRegressionValidation(foldername, X=x_valid, \n",
    "                                               Y=Y_valid, crop=128)\n",
    "storeweights_callback = StoreModelWeights(foldername, naming=\"val_loss\")\n",
    "tensorboard_callback = OurTensorBoard(foldername)\n",
    "loss_callback = LossHistory()\n",
    "\n",
    "callbacks = [loss_callback, regression_callback, storeweights_callback, tensorboard_callback]#loss_callback, regression_callback, storeweights_callback, tensorboard_callback]"
   ]
  },
  {
   "cell_type": "markdown",
   "metadata": {},
   "source": [
    "### 3.3 Training\n",
    "Finally, To feed our model with input data we will use a data generator, provided by method `data_generator_from_chunklist` from `pyphoon.app.utils`."
   ]
  },
  {
   "cell_type": "code",
   "execution_count": null,
   "metadata": {},
   "outputs": [],
   "source": [
    "# Number steps\n",
    "n_steps_train = sum([np.ceil(len(x)/batch_size) for x in Y_train])\n",
    "n_steps_valid = sum([np.ceil(len(x)/batch_size) for x in Y_valid])\n",
    "\n",
    "# Number of full epochs, i.e. #times algorithm sees all the data\n",
    "epochs = 10\n",
    "\n",
    "# Train\n",
    "model.fit_generator(\n",
    "    generator=generator.feed(X_train, Y_train),\n",
    "    steps_per_epoch=n_steps_train,\n",
    "    validation_data=generator.feed(X_valid, Y_valid),\n",
    "    validation_steps=n_steps_valid,\n",
    "    epochs=epochs,\n",
    "    callbacks=callbacks\n",
    ")"
   ]
  },
  {
   "cell_type": "markdown",
   "metadata": {},
   "source": [
    "### 3.4 Load pre-trained weights\n",
    "Here we load the weights that provided the best performance and evaluate the performance on the test data. l."
   ]
  },
  {
   "cell_type": "code",
   "execution_count": 80,
   "metadata": {},
   "outputs": [],
   "source": [
    "model.load_weights('../weights_0.hdf5')"
   ]
  },
  {
   "cell_type": "markdown",
   "metadata": {},
   "source": [
    "## 4. Results\n",
    "### 4.1 Mean error\n",
    "We evaluate the model that performed best on the validation set on the test set. This will be regarded as the final performance of our model."
   ]
  },
  {
   "cell_type": "code",
   "execution_count": 81,
   "metadata": {},
   "outputs": [
    {
     "name": "stdout",
     "output_type": "stream",
     "text": [
      "Mean error of: 8.56020220899 hPa\n"
     ]
    }
   ],
   "source": [
    "from pyphoon.app.utils import DataGeneratorFromChunklist\n",
    "\n",
    "# Generator\n",
    "batch_size = 32\n",
    "generator = DataGeneratorFromChunklist(batch_sz=batch_size, \n",
    "                                       preprocess_algorithm=preprocessor.apply, \n",
    "                                       crop=128)\n",
    "\n",
    "# Number steps\n",
    "n_steps = sum([np.ceil(len(x)/batch_size) for x in Y_test])\n",
    "\n",
    "# Get predictions\n",
    "y_pred = model.predict_generator(\n",
    "    generator=generator.feed(X_test, Y_test, shuffle_batches=False, shuffle_samples=False),\n",
    "    steps=n_steps\n",
    ")\n",
    "\n",
    "# Ground truth\n",
    "y_true = (np.concatenate(Y_test)).tolist()\n",
    "\n",
    "# Compute difference\n",
    "dif = y_pred[:,0] -np.array(y_true)\n",
    "mean_error = abs(dif).mean()\n",
    "\n",
    "print(\"Mean error of:\", mean_error, \"hPa\")"
   ]
  },
  {
   "cell_type": "markdown",
   "metadata": {},
   "source": [
    "The mean error is below 8 hPa, however, let us have a broader view of the prediction error by looking at its distirbution. Below, we observe that the estimation is biased towards positive difference, i.e prediction being higher than true value. We especulate that the explanation for this is the fact that the pressure distribution has a long tail towards lower values and a shorter one for high values."
   ]
  },
  {
   "cell_type": "code",
   "execution_count": 82,
   "metadata": {},
   "outputs": [
    {
     "data": {
      "image/png": "[encoded data removed]",
      "text/plain": [
       "<matplotlib.figure.Figure at 0x2bab9fad5b70>"
      ]
     },
     "metadata": {},
     "output_type": "display_data"
    }
   ],
   "source": [
    "import matplotlib.pyplot as plt\n",
    "plt.hist(dif, [-50, -20, -15, -10, -7, -5, -3, 0, 3, 7, 10, 15, 20, 50])\n",
    "plt.show()"
   ]
  },
  {
   "cell_type": "markdown",
   "metadata": {},
   "source": [
    "### 4.2. Error estimation vs true"
   ]
  },
  {
   "cell_type": "code",
   "execution_count": 85,
   "metadata": {},
   "outputs": [
    {
     "data": {
      "image/png": "[encoded data removed]",
      "text/plain": [
       "<matplotlib.figure.Figure at 0x2baee78e55f8>"
      ]
     },
     "metadata": {},
     "output_type": "display_data"
    }
   ],
   "source": [
    "plt.figure(figsize=(12,6))\n",
    "plt.scatter(y_true, y_pred)\n",
    "plt.grid()\n",
    "plt.plot(y_true, y_true, 'k--')\n",
    "plt.title(\"Pressure regression\", fontsize=20)\n",
    "plt.xlabel(\"Ground truth (hPa)\")\n",
    "plt.ylabel(\"Estimation (hPa)\")\n",
    "plt.legend([\"ground truth\", \"estimation\"])\n",
    "#plt.savefig('regression_results.png')\n",
    "plt.show()"
   ]
  },
  {
   "cell_type": "markdown",
   "metadata": {},
   "source": [
    "Furthermore, if we now take a look at the value distribution between estimation and ground truth we observe very similar distributions. However, the main difference appears in low pressure values. Reasons may be that some low-pressure value typhoons (high intensity typhoons) may not appear in the training set."
   ]
  },
  {
   "cell_type": "code",
   "execution_count": 84,
   "metadata": {},
   "outputs": [
    {
     "data": {
      "image/png": "[encoded data removed]",
      "text/plain": [
       "<matplotlib.figure.Figure at 0x2baee78a31d0>"
      ]
     },
     "metadata": {},
     "output_type": "display_data"
    },
    {
     "name": "stdout",
     "output_type": "stream",
     "text": [
      "loss: 1134.76901871\n"
     ]
    }
   ],
   "source": [
    "plt.figure(figsize=(12,7))\n",
    "\n",
    "plt.subplot(211)\n",
    "plt.title('prediction')\n",
    "plt.hist(y_pred, bins=20)\n",
    "plt.subplot(212)\n",
    "plt.title('ground truth')\n",
    "plt.hist(y_true, bins=20)\n",
    "plt.show()\n",
    "\n",
    "print(\"loss:\", np.mean((y_pred - y_true)**2))"
   ]
  }
 ],
 "metadata": {
  "kernelspec": {
   "display_name": "Python 3",
   "language": "python",
   "name": "python3"
  },
  "language_info": {
   "codemirror_mode": {
    "name": "ipython",
    "version": 3
   },
   "file_extension": ".py",
   "mimetype": "text/x-python",
   "name": "python",
   "nbconvert_exporter": "python",
   "pygments_lexer": "ipython3",
   "version": "3.6.3"
  }
 },
 "nbformat": 4,
 "nbformat_minor": 2
}
