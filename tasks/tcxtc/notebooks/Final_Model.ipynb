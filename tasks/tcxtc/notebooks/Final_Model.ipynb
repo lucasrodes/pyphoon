{
 "cells": [
  {
   "cell_type": "markdown",
   "metadata": {},
   "source": [
    "# *Tropical cyclone* vs *Extratropical cyclone* binary classifier\n",
    "In this notebook we will create our Deep Learning model for the TC-xTC binary classifier. We will be using the framework `keras` and the library `pyphoon`. For this task we assume previous generation of the dataset."
   ]
  },
  {
   "cell_type": "markdown",
   "metadata": {},
   "source": [
    "## 0. Load libraries\n",
    "Anything will work if there are no libraries imported. So lets import!"
   ]
  },
  {
   "cell_type": "code",
   "execution_count": 1,
   "metadata": {},
   "outputs": [],
   "source": [
    "%load_ext autoreload\n",
    "%autoreload 2"
   ]
  },
  {
   "cell_type": "code",
   "execution_count": 2,
   "metadata": {},
   "outputs": [
    {
     "name": "stderr",
     "output_type": "stream",
     "text": [
      "Using TensorFlow backend.\n",
      "/usr/lib/python3.6/importlib/_bootstrap.py:219: RuntimeWarning: compiletime version 3.5 of module 'tensorflow.python.framework.fast_tensor_util' does not match runtime version 3.6\n",
      "  return f(*args, **kwds)\n"
     ]
    }
   ],
   "source": [
    "import sys\n",
    "sys.path.insert(0, '../../..')\n",
    "\n",
    "from os.path import join\n",
    "from os import environ, listdir\n",
    "\n",
    "import h5py\n",
    "import numpy as np\n",
    "\n",
    "from pyphoon.app.utils import load_h5datachunks, parse_to_tcxtc_task\n",
    "from pyphoon.app.preprocess import MeanImagePreprocessor\n",
    "\n",
    "# Import keras libraries\n",
    "from keras.models import Sequential\n",
    "from keras.layers import Conv2D, MaxPooling2D, Flatten, Dense, Dropout, Activation\n",
    "from keras.layers.normalization import BatchNormalization\n",
    "from keras.optimizers import SGD"
   ]
  },
  {
   "cell_type": "markdown",
   "metadata": {},
   "source": [
    "We will use GPU with identifier \"1\", after agreeing with other users with access to the same machine. If you are not using GPU or don't have any restriction on GPU usage skip this step."
   ]
  },
  {
   "cell_type": "code",
   "execution_count": 17,
   "metadata": {},
   "outputs": [],
   "source": [
    "environ[\"CUDA_VISIBLE_DEVICES\"]=\"1\""
   ]
  },
  {
   "cell_type": "markdown",
   "metadata": {},
   "source": [
    "## 1. Load data\n",
    "Time to load the data. The data is stored in chunk HDF5 files, which have been previously been generated using script [generate_dataset.py](../../../scripts/generate_dataset.py). We will use the first 10 chunks for test, the next 10 for validation and the remaining for training (no matter what the filenames are). Note that loading will take a while."
   ]
  },
  {
   "cell_type": "code",
   "execution_count": 19,
   "metadata": {},
   "outputs": [],
   "source": [
    "# Paths where data is stored\n",
    "dataset_dir = '/root/fs9/lucas/data/datasets/year_256/'\n",
    "chunk_filenames = listdir(dataset_dir)\n",
    "test_chunk_filenames = chunk_filenames[:10]\n",
    "valid_chunk_filenames = chunk_filenames[10:20]\n",
    "train_chunk_filenames = chunk_filenames[20:]"
   ]
  },
  {
   "cell_type": "code",
   "execution_count": 5,
   "metadata": {},
   "outputs": [
    {
     "name": "stdout",
     "output_type": "stream",
     "text": [
      " file chunk_0.h5 read\n",
      " file chunk_1.h5 read\n",
      " file chunk_2.h5 read\n",
      " file chunk_3.h5 read\n",
      " file chunk_4.h5 read\n",
      " file chunk_5.h5 read\n",
      " file chunk_6.h5 read\n",
      " file chunk_7.h5 read\n",
      " file chunk_8.h5 read\n",
      " file chunk_9.h5 read\n",
      " file chunk_10.h5 read\n",
      " file chunk_11.h5 read\n",
      " file chunk_12.h5 read\n",
      " file chunk_13.h5 read\n",
      " file chunk_14.h5 read\n",
      " file chunk_15.h5 read\n",
      " file chunk_16.h5 read\n",
      " file chunk_17.h5 read\n",
      " file chunk_18.h5 read\n",
      " file chunk_19.h5 read\n",
      " file chunk_20.h5 read\n",
      " file chunk_21.h5 read\n",
      " file chunk_22.h5 read\n",
      " file chunk_23.h5 read\n",
      " file chunk_24.h5 read\n",
      " file chunk_25.h5 read\n",
      " file chunk_26.h5 read\n",
      " file chunk_27.h5 read\n",
      " file chunk_28.h5 read\n",
      " file chunk_29.h5 read\n",
      " file chunk_30.h5 read\n",
      " file chunk_31.h5 read\n",
      " file chunk_32.h5 read\n",
      " file chunk_33.h5 read\n",
      " file chunk_34.h5 read\n",
      " file chunk_35.h5 read\n",
      " file chunk_36.h5 read\n",
      " file chunk_37.h5 read\n",
      " file chunk_38.h5 read\n",
      " file chunk_39.h5 read\n",
      " file chunk_40.h5 read\n",
      " file chunk_41.h5 read\n",
      " file chunk_42.h5 read\n",
      " file chunk_43.h5 read\n",
      " file chunk_44.h5 read\n",
      " file chunk_45.h5 read\n",
      " file chunk_46.h5 read\n"
     ]
    }
   ],
   "source": [
    "X_test, Y_test, idx_test, seqno_test = load_h5datachunks(dataset_dir, \n",
    "                                                         test_chunk_filenames, \n",
    "                                                         features=['data', 'class', 'idx', 'seq_no'],\n",
    "                                                         ignore_classes=[7],\n",
    "                                                         display=True\n",
    "                                                         )\n",
    "\n",
    "X_valid, Y_valid, idx_valid, seqno_valid = load_h5datachunks(dataset_dir,\n",
    "                                                             valid_chunk_filenames, \n",
    "                                                             features=['data', 'class', 'idx', 'seq_no'],\n",
    "                                                             ignore_classes=[7],\n",
    "                                                             display=True\n",
    "                                                            )\n",
    "\n",
    "\n",
    "X_train, Y_train, idx_train, seqno_train = load_h5datachunks(dataset_dir,\n",
    "                                                             train_chunk_filenames, \n",
    "                                                             features=['data', 'class', 'idx', 'seq_no'],\n",
    "                                                             ignore_classes=[7],\n",
    "                                                             display=True\n",
    "                                                             )"
   ]
  },
  {
   "cell_type": "markdown",
   "metadata": {},
   "source": [
    "Since our task is focused on the binary distinction between *Tropical Cyclones* and *Extratropical Cyclones* we use the method `parse_to_tcxtc_task` prior tu training. This makes sure that we have two labels: 0 for *Tropical Cyclones* and 1 for *Extratropical Cyclones*. Furthermore, we make sure that we have a balanced category distribution, which basically means two things:\n",
    "\n",
    "1. The amount of xTC and TC samples is roughly of 50% each.\n",
    "2. Considering only TC samples, there is a nearly uniform distribution of samples from categories 2, 3, 4 and 5. "
   ]
  },
  {
   "cell_type": "code",
   "execution_count": null,
   "metadata": {},
   "outputs": [],
   "source": [
    "# test\n",
    "print(\"test...\")\n",
    "for i in range(len(Y_test)):\n",
    "    print(\"\", i)\n",
    "    # Get labels and valid positions\n",
    "    Y_test[i], pos = parse_to_tcxtc_task(Y_test[i])\n",
    "    # Retrieve corresponding samples\n",
    "    X_test[i] = convert_float_to_uint(X_test[i][pos])\n",
    "    idx_test[i] = idx_test[i][pos]\n",
    "    seqno_test[i][pos] = seqno_test[i][pos]\n",
    "    \n",
    "# valid\n",
    "print(\"valid...\")\n",
    "for i in range(len(Y_valid)):\n",
    "    print(\"\", i)\n",
    "    # Get labels and valid positions\n",
    "    Y_valid[i], pos = parse_to_tcxtc_task(Y_valid[i])\n",
    "    # Retrieve corresponding samples\n",
    "    X_valid[i] = convert_float_to_uint(X_valid[i][pos])\n",
    "    idx_valid[i] = idx_valid[i][pos]\n",
    "    seqno_valid[i][pos] = seqno_valid[i][pos]\n",
    "    \n",
    "# train\n",
    "print(\"train...\")\n",
    "for i in range(len(Y_train)):\n",
    "    print(\"\", i)\n",
    "    # Get labels and valid positions\n",
    "    Y_train[i], pos = parse_to_tcxtc_task(Y_train[i])\n",
    "    # Retrieve corresponding samples\n",
    "    X_train[i] = convert_float_to_uint((X_train[i][pos]))\n",
    "    idx_train[i] = idx_train[i][pos]\n",
    "    seqno_train[i][pos] = seqno_train[i][pos]"
   ]
  },
  {
   "cell_type": "markdown",
   "metadata": {},
   "source": [
    "## 2. Data Preprocessing\n",
    "\n",
    "First of all, let us gain some knowledge of our data by printing the amount of samples in training, validation and test sets."
   ]
  },
  {
   "cell_type": "code",
   "execution_count": 27,
   "metadata": {},
   "outputs": [
    {
     "name": "stdout",
     "output_type": "stream",
     "text": [
      "train: 19201\n",
      "valid: 9886\n",
      "test: 8020\n",
      "total: 37107\n"
     ]
    }
   ],
   "source": [
    "# Number of samples in dataset\n",
    "n1 = sum([len(x) for x in X_train])\n",
    "n2 = sum([len(x) for x in X_valid])\n",
    "n3 = sum([len(x) for x in X_test])\n",
    "print(\"train:\", n1)\n",
    "print(\"valid:\", n2)\n",
    "print(\"test:\", n3)\n",
    "print(\"total:\", n1+n2+n3)"
   ]
  },
  {
   "cell_type": "markdown",
   "metadata": {},
   "source": [
    "Note that to preprocess the images (centre and normalise) we require the preprocessing parameters. Hence, these parameters will depend on the dataset being used. Currently, there are two dataset versions:\n",
    "\n",
    "- **year sequence**: The trainig, validation and test datasets have been generated at sequence level. That is, images belonging to the same typhoon sequence find themselves only in one set. In addition, sequences from old typhoons have been used for training, while newer are used for testing. These parameters are found under `'../preprocessing_year.h5'`. \n",
    "- **random**: The training, validation and test datasets have been generated at image level. That is, totally random, meaning that images from same sequences may be found in different sets. These parameters are found under `'../preprocessing_random.h5'`.\n",
    "\n",
    "These files, contain (for shapes 256x256 and 128x128) the following preprocessing parameters:\n",
    "\n",
    "- Mean image: Image containing the mean for each pixel location.\n",
    "- Pixel mean: Overal pixel intensity mean (scalar value).\n",
    "- Pixel standard deviation: Overall pixel standard deviation (scalar value).\n",
    "- Pixel maximum value: Overall maximum pixel intensity value (scalar value).\n",
    "- Pixel minimum value: Overall minimum pixel intensity value (scalar value).\n",
    "\n",
    "Depending on your needs, you may use `MeanImagePreprocessor` or`DefaultImagePreprocessor` to preprocess your data. Generation of these files is easy, and is done by `pyphoon.app.preprocess.generate_preprocess_params`. Set variable `generate_params` below to True to do so, however, the repository already provides precomputed preprocessing parameters."
   ]
  },
  {
   "cell_type": "code",
   "execution_count": 106,
   "metadata": {},
   "outputs": [],
   "source": [
    "generate_params = False\n",
    "if generate_params:\n",
    "    from pyphoon.app.preprocess import generate_preprocess_params\n",
    "    generate_preprocess_params(X_train, \"../preprocessing_year.h5\")\n",
    "    #generate_preprocess_params([resize(x, (128, 128)) for x in X_train], \"../preprocessing_year_128.h5\")"
   ]
  },
  {
   "cell_type": "markdown",
   "metadata": {},
   "source": [
    "Let us actually load the repository preprocessing parameters and preprocess the data. Also, we reshape the arrays such that they can be used by Keras."
   ]
  },
  {
   "cell_type": "code",
   "execution_count": 119,
   "metadata": {},
   "outputs": [],
   "source": [
    "# Define preprocessor\n",
    "with h5py.File('../preprocessing_year.h5') as f:\n",
    "    mean = f.get('image_mean').value\n",
    "    scale_factor = f.get('max_value').value - f.get('min_value').value\n",
    "preprocessor = MeanImagePreprocessor(mean, scale_factor, add_axis=3)"
   ]
  },
  {
   "cell_type": "code",
   "execution_count": 128,
   "metadata": {},
   "outputs": [],
   "source": [
    "# Expand dimensions to be suitable for friend keras\n",
    "X_train = [preprocessor.apply(x) for x in X_train]\n",
    "X_valid = [preprocessor.apply(x) for x in X_valid]\n",
    "X_test = [preprocessor.apply(x) for x in X_test]"
   ]
  },
  {
   "cell_type": "code",
   "execution_count": 129,
   "metadata": {},
   "outputs": [],
   "source": [
    "# Resize if you want to operate with smaller sized images\n",
    "x_train128 = [np.expand_dims(resize(x, (128, 128)), axis=3) for x in X_train]\n",
    "x_valid128 = [np.expand_dims(resize(x, (128, 128)), axis=3) for x in X_valid]\n",
    "x_test128 = [np.expand_dims(resize(x, (128, 128)), axis=3) for x in X_test]"
   ]
  },
  {
   "cell_type": "markdown",
   "metadata": {},
   "source": [
    "## 3. Model architecture\n",
    "Now, time to define our model. We directly implement the final architecture, with the hyper-parameters that provided best result during the grid search."
   ]
  },
  {
   "cell_type": "code",
   "execution_count": 5,
   "metadata": {},
   "outputs": [],
   "source": [
    "# Hyperparameters\n",
    "lr = 0.01\n",
    "decay_rate = 0.01\n",
    "momentum = 0.9\n",
    "p_drop = 0.2\n",
    "batch_size = 32"
   ]
  },
  {
   "cell_type": "code",
   "execution_count": 6,
   "metadata": {},
   "outputs": [],
   "source": [
    "model = Sequential()\n",
    "############################################################################\n",
    "# Convolutional Layers\n",
    "############################################################################\n",
    "model.add(Conv2D(filters=8, kernel_size=(3, 3), input_shape=(256, 256, 1), use_bias=False))\n",
    "model.add(Activation('relu'))\n",
    "model.add(BatchNormalization())\n",
    "model.add(MaxPooling2D(pool_size=(2, 2)))\n",
    "\n",
    "model.add(Conv2D(filters=16, kernel_size=(3, 3), use_bias=False))\n",
    "model.add(Activation('relu'))\n",
    "model.add(BatchNormalization())\n",
    "model.add(MaxPooling2D(pool_size=(2, 2)))\n",
    "\n",
    "model.add(Conv2D(filters=32, kernel_size=(3, 3), use_bias=False))\n",
    "model.add(Activation('relu'))\n",
    "model.add(BatchNormalization())\n",
    "model.add(MaxPooling2D(pool_size=(2, 2)))\n",
    "############################################################################\n",
    "# Dense Layers\n",
    "############################################################################\n",
    "model.add(Flatten())\n",
    "\n",
    "model.add(Dense(100, use_bias=False))\n",
    "model.add(Activation('relu'))\n",
    "model.add(BatchNormalization())\n",
    "model.add(Dropout(p_drop))\n",
    "\n",
    "model.add(Dense(50, use_bias=False))\n",
    "model.add(Activation('relu'))\n",
    "model.add(BatchNormalization())\n",
    "\n",
    "############################################################################\n",
    "# Output Layer\n",
    "############################################################################\n",
    "model.add(Dense(units=1, activation='sigmoid'))"
   ]
  },
  {
   "cell_type": "code",
   "execution_count": 132,
   "metadata": {},
   "outputs": [],
   "source": [
    "# Define optimizer\n",
    "optimizer = SGD(lr=lr, momentum=momentum, nesterov=False, decay=decay_rate)\n",
    "# Load and compile model architecture\n",
    "model.compile(optimizer=optimizer, loss='binary_crossentropy', metrics=['accuracy'])"
   ]
  },
  {
   "cell_type": "markdown",
   "metadata": {},
   "source": [
    "## 4. Train\n",
    "\n",
    "In this section we train the model from scratch. Alternatively, you may refer to section 5 to load pretrained weights.\n",
    "\n",
    "## 4.1 Callbacks\n",
    "Before training, we will define some usefull callbacks to supervise the training process. One of the most usefull callbacks is [Tensorboard](https://www.tensorflow.org/programmers_guide/summaries_and_tensorboard), which enables easy visualisation of loss and accuracy curves.\n",
    "\n",
    "Make sure to use the following command to run the tensorboard client.\n",
    "\n",
    "```\n",
    "$ tensorboard --logdir=<path/to/log-directory> --port <port>\n",
    "```\n",
    "\n",
    "Once the model is training you may check its performance by navigating to `localhost:<port>`."
   ]
  },
  {
   "cell_type": "code",
   "execution_count": 133,
   "metadata": {},
   "outputs": [],
   "source": [
    "from pyphoon.app.callbacks import StoreModelWeights, OurTensorBoard, LossHistory\n",
    "\n",
    "foldername = 'results'\n",
    "storeweights_callback = StoreModelWeights(foldername, naming=\"val_acc\")\n",
    "tensorboard_callback = OurTensorBoard(foldername)\n",
    "loss_callback = LossHistory()\n",
    "\n",
    "callbacks = [loss_callback, storeweights_callback, tensorboard_callback]"
   ]
  },
  {
   "cell_type": "markdown",
   "metadata": {},
   "source": [
    "Finally, To feed our model with input data we will use a data generator, provided by method `data_generator` from `pyphoon.app.utils`."
   ]
  },
  {
   "cell_type": "code",
   "execution_count": 136,
   "metadata": {},
   "outputs": [
    {
     "name": "stdout",
     "output_type": "stream",
     "text": [
      "Epoch 1/10\n",
      "600/600 [==============================] - 32s 54ms/step - loss: 0.1292 - acc: 0.9518 - val_loss: 0.2001 - val_acc: 0.9257\n",
      "Epoch 2/10\n",
      "600/600 [==============================] - 31s 51ms/step - loss: 0.0958 - acc: 0.9630 - val_loss: 0.1513 - val_acc: 0.9429\n",
      "Epoch 3/10\n",
      "600/600 [==============================] - 31s 51ms/step - loss: 0.0830 - acc: 0.9705 - val_loss: 0.1571 - val_acc: 0.9375\n",
      "Epoch 4/10\n",
      "600/600 [==============================] - 30s 50ms/step - loss: 0.0730 - acc: 0.9743 - val_loss: 0.1239 - val_acc: 0.9508\n",
      "Epoch 5/10\n",
      "600/600 [==============================] - 31s 52ms/step - loss: 0.0625 - acc: 0.9777 - val_loss: 0.1541 - val_acc: 0.9411\n",
      "Epoch 6/10\n",
      "600/600 [==============================] - 32s 53ms/step - loss: 0.0622 - acc: 0.9795 - val_loss: 0.1742 - val_acc: 0.9317\n",
      "Epoch 7/10\n",
      "600/600 [==============================] - 31s 52ms/step - loss: 0.0547 - acc: 0.9818 - val_loss: 0.1600 - val_acc: 0.9418\n",
      "Epoch 8/10\n",
      "600/600 [==============================] - 32s 53ms/step - loss: 0.0540 - acc: 0.9822 - val_loss: 0.1700 - val_acc: 0.9366\n",
      "Epoch 9/10\n",
      "600/600 [==============================] - 31s 52ms/step - loss: 0.0470 - acc: 0.9849 - val_loss: 0.2402 - val_acc: 0.9120\n",
      "Epoch 10/10\n",
      "600/600 [==============================] - 31s 51ms/step - loss: 0.0433 - acc: 0.9865 - val_loss: 0.1511 - val_acc: 0.9475\n"
     ]
    },
    {
     "data": {
      "text/plain": [
       "<keras.callbacks.History at 0x2b394c1ae710>"
      ]
     },
     "execution_count": 136,
     "metadata": {},
     "output_type": "execute_result"
    }
   ],
   "source": [
    "from pyphoon.app.utils import data_generator_from_chunklist\n",
    "\n",
    "# Number train samples\n",
    "n_train = sum([len(x) for x in Y_train])\n",
    "n_valid = sum([len(x) for x in Y_valid])\n",
    "\n",
    "# Number of full epochs, i.e. #times algorithm sees all the data\n",
    "epochs = 10\n",
    "batch_size = 32\n",
    "\n",
    "# Train\n",
    "model.fit_generator(\n",
    "    generator=data_generator_from_chunklist(X_train, Y_train, batch_sz=batch_size),\n",
    "    steps_per_epoch=n_train // batch_size,\n",
    "    validation_data=data_generator_from_chunklist(X_valid, Y_valid, batch_sz=batch_size),\n",
    "    validation_steps=n_valid // batch_size,\n",
    "    epochs=epochs,\n",
    "    callbacks=callbacks\n",
    ")"
   ]
  },
  {
   "cell_type": "markdown",
   "metadata": {},
   "source": [
    "### 5. Load pre-trained weights\n",
    "Here we load the weights that provided the best performance and evaluate the performance on the test data. l."
   ]
  },
  {
   "cell_type": "code",
   "execution_count": 7,
   "metadata": {},
   "outputs": [],
   "source": [
    "model.load_weights('../weights.hdf5')"
   ]
  },
  {
   "cell_type": "markdown",
   "metadata": {},
   "source": [
    "## 5. Results"
   ]
  },
  {
   "cell_type": "markdown",
   "metadata": {},
   "source": [
    "### 5.1 Test accuracy\n",
    "We evaluate the model that performed best on the validation set on the test set. This is the final performance of our model."
   ]
  },
  {
   "cell_type": "code",
   "execution_count": null,
   "metadata": {},
   "outputs": [],
   "source": [
    "n_test = sum([len(x) for x in Y_test])  # 50000\n",
    "\n",
    "# Evaluate\n",
    "acc_val = m.evaluate_generator(\n",
    "        generator=data_generator_from_chunklist(X_test, Y_test, batch_sz=batch_size),\n",
    "        steps=n_test // batch_size\n",
    ")[1]\n",
    "print(\"Accuracy on validation set:\", acc_val)"
   ]
  },
  {
   "cell_type": "markdown",
   "metadata": {},
   "source": [
    "### 5.2 Accuracy/Loss curves\n",
    "We now obtain the loss and accuracy curves on the training and validation sets. Note that this only works if you run the training with Tensorboard, since it uses the log history to retrieve the validation and accuracy curves. "
   ]
  },
  {
   "cell_type": "code",
   "execution_count": 13,
   "metadata": {
    "scrolled": true
   },
   "outputs": [
    {
     "data": {
      "text/plain": [
       "['events.out.tfevents.1523456628.97c10ae7d2cf']"
      ]
     },
     "execution_count": 13,
     "metadata": {},
     "output_type": "execute_result"
    }
   ],
   "source": [
    "# Make surefrom os import listdir\n",
    "listdir(join(foldername, 'tensorboard_log'))"
   ]
  },
  {
   "cell_type": "markdown",
   "metadata": {},
   "source": [
    "Next, we retrieve the training information from the log generated by Tensorboard, hence, make sure that you have used Tensorboard!"
   ]
  },
  {
   "cell_type": "code",
   "execution_count": 14,
   "metadata": {},
   "outputs": [
    {
     "name": "stdout",
     "output_type": "stream",
     "text": [
      "{'images': [], 'audio': [], 'histograms': [], 'scalars': ['val_loss', 'val_acc', 'loss', 'acc'], 'distributions': [], 'tensors': [], 'graph': True, 'meta_graph': True, 'run_metadata': []}\n"
     ]
    }
   ],
   "source": [
    "from tensorboard.backend.event_processing.event_accumulator import EventAccumulator\n",
    "event_acc = EventAccumulator('results/tensorboard_log/events.out.tfevents.1523456628.97c10ae7d2cf')\n",
    "event_acc.Reload()\n",
    "# Show all tags in the log file\n",
    "print(event_acc.Tags())\n",
    "\n",
    "# loss\n",
    "_, subepochs, val_loss = zip(*event_acc.Scalars('val_loss'))\n",
    "_, subepochs, train_loss = zip(*event_acc.Scalars('loss'))\n",
    "# accuracy\n",
    "_, subepochs, val_acc = zip(*event_acc.Scalars('val_acc'))\n",
    "_, subepochs, train_acc = zip(*event_acc.Scalars('acc'))"
   ]
  },
  {
   "cell_type": "code",
   "execution_count": 16,
   "metadata": {},
   "outputs": [
    {
     "data": {
      "image/png": "[encoded data removed]",
      "text/plain": [
       "<matplotlib.figure.Figure at 0x2af56ff6a9e8>"
      ]
     },
     "metadata": {},
     "output_type": "display_data"
    },
    {
     "data": {
      "image/png": "[encoded data removed]",
      "text/plain": [
       "<matplotlib.figure.Figure at 0x2af577e458d0>"
      ]
     },
     "metadata": {},
     "output_type": "display_data"
    }
   ],
   "source": [
    "import matplotlib.pyplot as plt\n",
    "\n",
    "# Loss\n",
    "plt.plot(subepochs, train_loss, 'k')\n",
    "plt.plot(subepochs, val_loss, 'k--')\n",
    "plt.legend(['Train loss', 'Validation loss'])\n",
    "plt.title('Loss')\n",
    "plt.xlabel('epoch')\n",
    "plt.show()\n",
    "# plt.savefig('../_assets/loss_tcxtc.eps', format='eps', dpi=1000)\n",
    "\n",
    "# Accuracy\n",
    "plt.plot(subepochs, train_acc, 'k')\n",
    "plt.plot(subepochs, val_acc, 'k--')\n",
    "plt.legend(['Train accuracy', 'Validation accuracy'])\n",
    "plt.title('Accuracy curve')\n",
    "plt.xlabel('epoch')\n",
    "plt.show()\n",
    "# plt.savefig('../_assets/accuracy_tcxtc.eps', format='eps', dpi=1000)"
   ]
  },
  {
   "cell_type": "markdown",
   "metadata": {},
   "source": [
    "From the results above, we clearly can see that the curve behaviour is quite unstable. This is mainly to the fact that the network rapidly converged and after 2 epochs is already satisfied so it tries to improve but just does some weird things. "
   ]
  }
 ],
 "metadata": {
  "kernelspec": {
   "display_name": "Python 3",
   "language": "python",
   "name": "python3"
  },
  "language_info": {
   "codemirror_mode": {
    "name": "ipython",
    "version": 3
   },
   "file_extension": ".py",
   "mimetype": "text/x-python",
   "name": "python",
   "nbconvert_exporter": "python",
   "pygments_lexer": "ipython3",
   "version": "3.6.3"
  }
 },
 "nbformat": 4,
 "nbformat_minor": 2
}
