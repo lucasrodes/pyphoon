{
 "cells": [
  {
   "cell_type": "markdown",
   "metadata": {},
   "source": [
    "# *Tropical cyclone* vs *Extratropical cyclone* binary classifier\n",
    "In this notebook we will create our Deep Learning model for the TC-xTC binary classifier. We will be using the framework `keras` and the library `pyphoon`. For this task we assume previous generation of the dataset."
   ]
  },
  {
   "cell_type": "markdown",
   "metadata": {},
   "source": [
    "## 0. Load libraries\n",
    "Anything will work if there are no libraries imported. So lets import!"
   ]
  },
  {
   "cell_type": "code",
   "execution_count": 1,
   "metadata": {},
   "outputs": [],
   "source": [
    "%load_ext autoreload\n",
    "%autoreload 2"
   ]
  },
  {
   "cell_type": "code",
   "execution_count": 2,
   "metadata": {},
   "outputs": [
    {
     "name": "stderr",
     "output_type": "stream",
     "text": [
      "Using TensorFlow backend.\n",
      "/usr/lib/python3.6/importlib/_bootstrap.py:219: RuntimeWarning: compiletime version 3.5 of module 'tensorflow.python.framework.fast_tensor_util' does not match runtime version 3.6\n",
      "  return f(*args, **kwds)\n"
     ]
    }
   ],
   "source": [
    "import sys\n",
    "sys.path.insert(0, '../../..')\n",
    "\n",
    "from os.path import join\n",
    "from os import environ, listdir\n",
    "\n",
    "import h5py\n",
    "import numpy as np\n",
    "\n",
    "from pyphoon.app.utils import load_h5datachunks, parse_to_tcxtc_task\n",
    "from pyphoon.app.preprocess import MeanImagePreprocessor\n",
    "\n",
    "# Import keras libraries\n",
    "from keras.models import Sequential\n",
    "from keras.layers import Conv2D, MaxPooling2D, Flatten, Dense, Dropout, Activation\n",
    "from keras.layers.normalization import BatchNormalization\n",
    "from keras.optimizers import SGD"
   ]
  },
  {
   "cell_type": "markdown",
   "metadata": {},
   "source": [
    "We will use GPU with identifier \"1\", after agreeing with other users with access to the same machine. If you are not using GPU or don't have any restriction on GPU usage skip this step."
   ]
  },
  {
   "cell_type": "code",
   "execution_count": 3,
   "metadata": {},
   "outputs": [],
   "source": [
    "environ[\"CUDA_VISIBLE_DEVICES\"]=\"1\""
   ]
  },
  {
   "cell_type": "markdown",
   "metadata": {},
   "source": [
    "## 1. Load data\n",
    "Time to load the data. The data is stored in chunk HDF5 files, which have been previously been generated using script [generate_dataset.py](../../../scripts/generate_dataset.py). We will use chunks 0-26 for training, 27-24 for validation and 35-47 for testing. Note that loading the chunks might take a while. Grab yourself a tee."
   ]
  },
  {
   "cell_type": "code",
   "execution_count": 4,
   "metadata": {},
   "outputs": [],
   "source": [
    "# Paths where data is stored\n",
    "dataset_dir = '/root/fs9/lucas/data/datasets/year_512/'\n",
    "chunk_filenames = listdir(dataset_dir)\n",
    "train_chunk_filenames = chunk_filenames[:27]\n",
    "valid_chunk_filenames = chunk_filenames[27:35]\n",
    "test_chunk_filenames = chunk_filenames[35:]"
   ]
  },
  {
   "cell_type": "code",
   "execution_count": 5,
   "metadata": {},
   "outputs": [
    {
     "name": "stdout",
     "output_type": "stream",
     "text": [
      " file chunk_0.h5 read\n",
      " file chunk_1.h5 read\n",
      " file chunk_2.h5 read\n",
      " file chunk_3.h5 read\n",
      " file chunk_4.h5 read\n",
      " file chunk_5.h5 read\n",
      " file chunk_6.h5 read\n",
      " file chunk_7.h5 read\n",
      " file chunk_8.h5 read\n",
      " file chunk_9.h5 read\n",
      " file chunk_10.h5 read\n",
      " file chunk_11.h5 read\n",
      " file chunk_12.h5 read\n",
      " file chunk_13.h5 read\n",
      " file chunk_14.h5 read\n",
      " file chunk_15.h5 read\n",
      " file chunk_16.h5 read\n",
      " file chunk_17.h5 read\n",
      " file chunk_18.h5 read\n",
      " file chunk_19.h5 read\n",
      " file chunk_20.h5 read\n",
      " file chunk_21.h5 read\n",
      " file chunk_22.h5 read\n",
      " file chunk_23.h5 read\n",
      " file chunk_24.h5 read\n",
      " file chunk_25.h5 read\n",
      " file chunk_26.h5 read\n",
      " file chunk_27.h5 read\n",
      " file chunk_28.h5 read\n",
      " file chunk_29.h5 read\n",
      " file chunk_30.h5 read\n",
      " file chunk_31.h5 read\n",
      " file chunk_32.h5 read\n",
      " file chunk_33.h5 read\n",
      " file chunk_34.h5 read\n",
      " file chunk_35.h5 read\n",
      " file chunk_36.h5 read\n",
      " file chunk_37.h5 read\n",
      " file chunk_38.h5 read\n",
      " file chunk_39.h5 read\n",
      " file chunk_40.h5 read\n",
      " file chunk_41.h5 read\n",
      " file chunk_42.h5 read\n",
      " file chunk_43.h5 read\n",
      " file chunk_44.h5 read\n",
      " file chunk_45.h5 read\n",
      " file chunk_46.h5 read\n"
     ]
    }
   ],
   "source": [
    "X_train, Y_train, idx_train, seqno_train = load_h5datachunks(dataset_dir,\n",
    "                                                             train_chunk_filenames, \n",
    "                                                             features=['data', 'class', 'idx', 'seq_no'],\n",
    "                                                             ignore_classes=[7],\n",
    "                                                             display=True\n",
    "                                                             )\n",
    "\n",
    "X_valid, Y_valid, idx_valid, seqno_valid = load_h5datachunks(dataset_dir,\n",
    "                                                             valid_chunk_filenames, \n",
    "                                                             features=['data', 'class', 'idx', 'seq_no'],\n",
    "                                                             ignore_classes=[7],\n",
    "                                                             display=True\n",
    "                                                            )\n",
    "\n",
    "X_test, Y_test, idx_test, seqno_test = load_h5datachunks(dataset_dir, \n",
    "                                                         test_chunk_filenames, \n",
    "                                                         features=['data', 'class', 'idx', 'seq_no'],\n",
    "                                                         ignore_classes=[7],\n",
    "                                                         display=True\n",
    "                                                         )"
   ]
  },
  {
   "cell_type": "markdown",
   "metadata": {},
   "source": [
    "Since our task is focused on the binary distinction between *Tropical Cyclones* and *Extratropical Cyclones* we use the method `parse_to_tcxtc_task` prior tu training. This makes sure that we have two labels: 0 for *Tropical Cyclones* and 1 for *Extratropical Cyclones*. Furthermore, we make sure that we have a balanced category distribution, which basically means two things:\n",
    "\n",
    "1. The amount of xTC and TC samples is roughly of 50% each.\n",
    "2. Considering only TC samples, there is a nearly uniform distribution of samples from categories 2, 3, 4 and 5. "
   ]
  },
  {
   "cell_type": "code",
   "execution_count": 6,
   "metadata": {},
   "outputs": [
    {
     "name": "stdout",
     "output_type": "stream",
     "text": [
      "test...\n",
      "valid...\n",
      "train...\n"
     ]
    }
   ],
   "source": [
    "# test\n",
    "print(\"test...\")\n",
    "for i in range(len(Y_test)):\n",
    "    # Get labels and valid positions\n",
    "    Y_test[i], pos = parse_to_tcxtc_task(Y_test[i])\n",
    "    # Retrieve corresponding samples\n",
    "    X_test[i] = X_test[i][pos]\n",
    "    idx_test[i] = idx_test[i][pos]\n",
    "    seqno_test[i][pos] = seqno_test[i][pos]\n",
    "    \n",
    "# valid\n",
    "print(\"valid...\")\n",
    "for i in range(len(Y_valid)):\n",
    "    # Get labels and valid positions\n",
    "    Y_valid[i], pos = parse_to_tcxtc_task(Y_valid[i])\n",
    "    # Retrieve corresponding samples\n",
    "    X_valid[i] = X_valid[i][pos]\n",
    "    idx_valid[i] = idx_valid[i][pos]\n",
    "    seqno_valid[i][pos] = seqno_valid[i][pos]\n",
    "    \n",
    "# train\n",
    "print(\"train...\")\n",
    "for i in range(len(Y_train)):\n",
    "    # Get labels and valid positions\n",
    "    Y_train[i], pos = parse_to_tcxtc_task(Y_train[i])\n",
    "    # Retrieve corresponding samples\n",
    "    X_train[i] = (X_train[i][pos])\n",
    "    idx_train[i] = idx_train[i][pos]\n",
    "    seqno_train[i][pos] = seqno_train[i][pos]"
   ]
  },
  {
   "cell_type": "markdown",
   "metadata": {},
   "source": [
    "## 2. Data Preprocessing\n",
    "\n",
    "First of all, let us gain some knowledge of our data by printing the amount of samples in training, validation and test sets."
   ]
  },
  {
   "cell_type": "code",
   "execution_count": 7,
   "metadata": {},
   "outputs": [
    {
     "name": "stdout",
     "output_type": "stream",
     "text": [
      "train: 24569\n",
      "valid: 5625\n",
      "test: 6913\n",
      "total: 37107\n"
     ]
    }
   ],
   "source": [
    "# Number of samples in dataset\n",
    "n1 = sum([len(x) for x in X_train])\n",
    "n2 = sum([len(x) for x in X_valid])\n",
    "n3 = sum([len(x) for x in X_test])\n",
    "print(\"train:\", n1)\n",
    "print(\"valid:\", n2)\n",
    "print(\"test:\", n3)\n",
    "print(\"total:\", n1+n2+n3)"
   ]
  },
  {
   "cell_type": "markdown",
   "metadata": {},
   "source": [
    "Note that to preprocess the images (centre and normalise) we require the preprocessing parameters. Hence, these parameters will depend on the dataset being used. Currently, there are two dataset versions:\n",
    "\n",
    "- **year sequence**: The trainig, validation and test datasets have been generated at sequence level. That is, images belonging to the same typhoon sequence find themselves only in one set. In addition, sequences from old typhoons have been used for training, while newer are used for testing. These parameters are found under `'../preprocessing_year.h5'`. \n",
    "- **random**: The training, validation and test datasets have been generated at image level. That is, totally random, meaning that images from same sequences may be found in different sets. These parameters are found under `'../preprocessing_random.h5'`.\n",
    "\n",
    "These files, contain (for shapes 256x256 and 128x128) the following preprocessing parameters:\n",
    "\n",
    "- Mean image: Image containing the mean for each pixel location.\n",
    "- Pixel mean: Overal pixel intensity mean (scalar value).\n",
    "- Pixel standard deviation: Overall pixel standard deviation (scalar value).\n",
    "- Pixel maximum value: Overall maximum pixel intensity value (scalar value).\n",
    "- Pixel minimum value: Overall minimum pixel intensity value (scalar value).\n",
    "\n",
    "Depending on your needs, you may use `MeanImagePreprocessor` or`DefaultImagePreprocessor` to preprocess your data. Generation of these files is easy, and is done by `pyphoon.app.preprocess.generate_preprocess_params`. Set variable `generate_params` below to True to do so, however, the repository already provides precomputed preprocessing parameters."
   ]
  },
  {
   "cell_type": "code",
   "execution_count": 10,
   "metadata": {},
   "outputs": [],
   "source": [
    "generate_params = False\n",
    "if generate_params:\n",
    "    from pyphoon.app.preprocess import generate_preprocess_params\n",
    "    generate_preprocess_params(X_train, \"../preprocessing_year.h5\")"
   ]
  },
  {
   "cell_type": "markdown",
   "metadata": {},
   "source": [
    "Let us actually load the repository preprocessing parameters and preprocess the data. We resize the images, so as to work with 256 x 256 images instead of 512x512. Finally, we reshape the arrays such that they can be used by Keras."
   ]
  },
  {
   "cell_type": "code",
   "execution_count": 18,
   "metadata": {},
   "outputs": [],
   "source": [
    "# Define preprocessor\n",
    "from pyphoon.app.preprocess import MeanImagePreprocessor\n",
    "import cv2\n",
    "with h5py.File('../preprocessing_year.h5') as f:\n",
    "    mean = cv2.resize(f.get('image_mean').value, (256, 256))\n",
    "    scale_factor = f.get('max_value').value - f.get('min_value').value\n",
    "\n",
    "preprocessor = MeanImagePreprocessor(mean, scale_factor, add_axis=[3], resize_factor=(256, 256))"
   ]
  },
  {
   "cell_type": "code",
   "execution_count": 29,
   "metadata": {},
   "outputs": [],
   "source": [
    "# Expand dimensions to be suitable for friend keras\n",
    "X_train = [preprocessor.apply(x) for x in X_train]\n",
    "X_valid = [preprocessor.apply(x) for x in X_valid]\n",
    "X_test = [preprocessor.apply(x) for x in X_test]"
   ]
  },
  {
   "cell_type": "markdown",
   "metadata": {},
   "source": [
    "## 3. Model architecture\n",
    "Now, time to define our model. We directly implement the final architecture, with the hyper-parameters that provided best result during the grid search."
   ]
  },
  {
   "cell_type": "code",
   "execution_count": 30,
   "metadata": {},
   "outputs": [],
   "source": [
    "# Hyperparameters\n",
    "lr = 0.01\n",
    "decay_rate = 0.01\n",
    "momentum = 0.9\n",
    "p_drop = 0.2\n",
    "batch_size = 32"
   ]
  },
  {
   "cell_type": "code",
   "execution_count": 38,
   "metadata": {},
   "outputs": [],
   "source": [
    "model = Sequential()\n",
    "############################################################################\n",
    "# Convolutional Layers\n",
    "############################################################################\n",
    "model.add(Conv2D(filters=8, kernel_size=(3, 3), input_shape=(256, 256, 1), use_bias=False))\n",
    "model.add(Activation('relu'))\n",
    "model.add(BatchNormalization())\n",
    "model.add(MaxPooling2D(pool_size=(2, 2)))\n",
    "\n",
    "model.add(Conv2D(filters=16, kernel_size=(3, 3), use_bias=False))\n",
    "model.add(Activation('relu'))\n",
    "model.add(BatchNormalization())\n",
    "model.add(MaxPooling2D(pool_size=(2, 2)))\n",
    "\n",
    "model.add(Conv2D(filters=32, kernel_size=(3, 3), use_bias=False))\n",
    "model.add(Activation('relu'))\n",
    "model.add(BatchNormalization())\n",
    "model.add(MaxPooling2D(pool_size=(2, 2)))\n",
    "############################################################################\n",
    "# Dense Layers\n",
    "############################################################################\n",
    "model.add(Flatten())\n",
    "\n",
    "model.add(Dense(100, use_bias=False))\n",
    "model.add(Activation('relu'))\n",
    "model.add(BatchNormalization())\n",
    "model.add(Dropout(p_drop))\n",
    "\n",
    "model.add(Dense(50, use_bias=False))\n",
    "model.add(Activation('relu'))\n",
    "model.add(BatchNormalization())\n",
    "\n",
    "############################################################################\n",
    "# Output Layer\n",
    "############################################################################\n",
    "model.add(Dense(units=1, activation='sigmoid'))"
   ]
  },
  {
   "cell_type": "code",
   "execution_count": 39,
   "metadata": {},
   "outputs": [],
   "source": [
    "# Define optimizer\n",
    "optimizer = SGD(lr=lr, momentum=momentum, nesterov=False, decay=decay_rate)\n",
    "# Load and compile model architecture\n",
    "model.compile(optimizer=optimizer, loss='binary_crossentropy', metrics=['accuracy'])"
   ]
  },
  {
   "cell_type": "markdown",
   "metadata": {},
   "source": [
    "## 4. Train\n",
    "\n",
    "In this section we train the model from scratch. Alternatively, you may refer to section 5 to load pretrained weights.\n",
    "\n",
    "## 4.1 Callbacks\n",
    "Before training, we will define some usefull callbacks to supervise the training process. One of the most usefull callbacks is [Tensorboard](https://www.tensorflow.org/programmers_guide/summaries_and_tensorboard), which enables easy visualisation of loss and accuracy curves.\n",
    "\n",
    "Make sure to use the following command to run the tensorboard client.\n",
    "\n",
    "```\n",
    "$ tensorboard --logdir=<path/to/log-directory> --port <port>\n",
    "```\n",
    "\n",
    "Once the model is training you may check its performance by navigating to `localhost:<port>`."
   ]
  },
  {
   "cell_type": "code",
   "execution_count": 95,
   "metadata": {},
   "outputs": [],
   "source": [
    "from pyphoon.app.callbacks import StoreModelWeights, OurTensorBoard, LossHistory\n",
    "\n",
    "foldername = 'results'\n",
    "storeweights_callback = StoreModelWeights(foldername, naming=\"val_acc\")\n",
    "tensorboard_callback = OurTensorBoard(foldername)\n",
    "loss_callback = LossHistory()\n",
    "\n",
    "callbacks = [loss_callback, storeweights_callback, tensorboard_callback]"
   ]
  },
  {
   "cell_type": "markdown",
   "metadata": {},
   "source": [
    "Finally, To feed our model with input data we will use a data generator, provided by method `data_generator` from `pyphoon.app.utils`."
   ]
  },
  {
   "cell_type": "code",
   "execution_count": 41,
   "metadata": {},
   "outputs": [
    {
     "name": "stdout",
     "output_type": "stream",
     "text": [
      "Epoch 1/10\n",
      "767/767 [==============================] - 37s 49ms/step - loss: 0.1505 - acc: 0.9429 - val_loss: 0.1305 - val_acc: 0.9536\n",
      "Epoch 2/10\n",
      "767/767 [==============================] - 35s 45ms/step - loss: 0.1130 - acc: 0.9584 - val_loss: 0.1144 - val_acc: 0.9563\n",
      "Epoch 3/10\n",
      "767/767 [==============================] - 35s 46ms/step - loss: 0.1035 - acc: 0.9615 - val_loss: 0.1257 - val_acc: 0.9541\n",
      "Epoch 4/10\n",
      "767/767 [==============================] - 38s 49ms/step - loss: 0.0947 - acc: 0.9668 - val_loss: 0.1365 - val_acc: 0.9382\n",
      "Epoch 5/10\n",
      "767/767 [==============================] - 35s 46ms/step - loss: 0.0865 - acc: 0.9704 - val_loss: 0.1231 - val_acc: 0.9518\n",
      "Epoch 6/10\n",
      "767/767 [==============================] - 33s 43ms/step - loss: 0.0802 - acc: 0.9716 - val_loss: 0.1364 - val_acc: 0.9448\n",
      "Epoch 7/10\n",
      "767/767 [==============================] - 36s 47ms/step - loss: 0.0760 - acc: 0.9729 - val_loss: 0.1150 - val_acc: 0.9527\n",
      "Epoch 8/10\n",
      "767/767 [==============================] - 35s 45ms/step - loss: 0.0749 - acc: 0.9738 - val_loss: 0.0942 - val_acc: 0.9627\n",
      "Epoch 9/10\n",
      "767/767 [==============================] - 36s 46ms/step - loss: 0.0703 - acc: 0.9766 - val_loss: 0.1782 - val_acc: 0.9321\n",
      "Epoch 10/10\n",
      "767/767 [==============================] - 35s 46ms/step - loss: 0.0728 - acc: 0.9748 - val_loss: 0.1115 - val_acc: 0.9543\n"
     ]
    },
    {
     "data": {
      "text/plain": [
       "<keras.callbacks.History at 0x2b8c63a037f0>"
      ]
     },
     "execution_count": 41,
     "metadata": {},
     "output_type": "execute_result"
    }
   ],
   "source": [
    "from pyphoon.app.utils import data_generator_from_chunklist\n",
    "\n",
    "# Number train samples\n",
    "n_train = sum([len(x) for x in Y_train])\n",
    "n_valid = sum([len(x) for x in Y_valid])\n",
    "\n",
    "# Number of full epochs, i.e. #times algorithm sees all the data\n",
    "epochs = 10\n",
    "batch_size = 32\n",
    "\n",
    "# Train\n",
    "model.fit_generator(\n",
    "    generator=data_generator_from_chunklist(X_train, Y_train, batch_sz=batch_size),\n",
    "    steps_per_epoch=n_train // batch_size,\n",
    "    validation_data=data_generator_from_chunklist(X_valid, Y_valid, batch_sz=batch_size),\n",
    "    validation_steps=n_valid // batch_size,\n",
    "    epochs=epochs,\n",
    "    callbacks=callbacks\n",
    ")"
   ]
  },
  {
   "cell_type": "markdown",
   "metadata": {},
   "source": [
    "### 5. Load pre-trained weights\n",
    "Here we load the weights that provided the best performance and evaluate the performance on the test data. l."
   ]
  },
  {
   "cell_type": "code",
   "execution_count": 45,
   "metadata": {},
   "outputs": [],
   "source": [
    "model.load_weights('../weights.hdf5')"
   ]
  },
  {
   "cell_type": "markdown",
   "metadata": {},
   "source": [
    "## 5. Results"
   ]
  },
  {
   "cell_type": "markdown",
   "metadata": {},
   "source": [
    "### 5.1 Test accuracy\n",
    "We evaluate the model that performed best on the validation set on the test set. This is the final performance of our model."
   ]
  },
  {
   "cell_type": "code",
   "execution_count": 84,
   "metadata": {},
   "outputs": [
    {
     "name": "stdout",
     "output_type": "stream",
     "text": [
      "Accuracy on validation set: 0.949081440764\n"
     ]
    }
   ],
   "source": [
    "# Prediction\n",
    "y_pred = []\n",
    "for x in X_test:\n",
    "    y_pred.extend(np.round(model.predict(x)).astype(int)[:, 0])\n",
    "# Ground truth\n",
    "y_true = np.concatenate(Y_test).tolist()\n",
    "\n",
    "acc_test = (np.array(y_true) == np.array(y_pred)).mean()\n",
    "\n",
    "print(\"Accuracy on validation set:\", acc_test)"
   ]
  },
  {
   "cell_type": "markdown",
   "metadata": {},
   "source": [
    "### 5.2 Confusion matrix, precision, recall"
   ]
  },
  {
   "cell_type": "markdown",
   "metadata": {},
   "source": [
    "Next, we obtain the confusion matrix using module `sklearn`."
   ]
  },
  {
   "cell_type": "code",
   "execution_count": 91,
   "metadata": {},
   "outputs": [
    {
     "data": {
      "text/html": [
       "<div>\n",
       "<style scoped>\n",
       "    .dataframe tbody tr th:only-of-type {\n",
       "        vertical-align: middle;\n",
       "    }\n",
       "\n",
       "    .dataframe tbody tr th {\n",
       "        vertical-align: top;\n",
       "    }\n",
       "\n",
       "    .dataframe thead th {\n",
       "        text-align: right;\n",
       "    }\n",
       "</style>\n",
       "<table border=\"1\" class=\"dataframe\">\n",
       "  <thead>\n",
       "    <tr style=\"text-align: right;\">\n",
       "      <th></th>\n",
       "      <th>predicted TC</th>\n",
       "      <th>predicted xTC</th>\n",
       "    </tr>\n",
       "  </thead>\n",
       "  <tbody>\n",
       "    <tr>\n",
       "      <th>TC</th>\n",
       "      <td>3375</td>\n",
       "      <td>89</td>\n",
       "    </tr>\n",
       "    <tr>\n",
       "      <th>xTC</th>\n",
       "      <td>263</td>\n",
       "      <td>3186</td>\n",
       "    </tr>\n",
       "  </tbody>\n",
       "</table>\n",
       "</div>"
      ],
      "text/plain": [
       "     predicted TC  predicted xTC\n",
       "TC           3375             89\n",
       "xTC           263           3186"
      ]
     },
     "execution_count": 91,
     "metadata": {},
     "output_type": "execute_result"
    }
   ],
   "source": [
    "from sklearn.metrics import confusion_matrix\n",
    "import pandas as pd\n",
    "pd.DataFrame(confusion_matrix(y_true, y_pred), \n",
    "             columns=['predicted TC','predicted xTC'], \n",
    "             index=['TC','xTC']\n",
    "            )"
   ]
  },
  {
   "cell_type": "code",
   "execution_count": 90,
   "metadata": {},
   "outputs": [
    {
     "data": {
      "text/plain": [
       "0.972824427480916"
      ]
     },
     "execution_count": 90,
     "metadata": {},
     "output_type": "execute_result"
    }
   ],
   "source": [
    "3186/(3186+89)"
   ]
  },
  {
   "cell_type": "markdown",
   "metadata": {},
   "source": [
    "As expected, we have most of the samples in the diagonal, meaning that most samples sare correctly classified. Now, let us obtain the precision and recall values. Find below a brief intuition of what this parameters convey.\n",
    "\n",
    "- Precision: Out of the samples positively predicted, how many are actually positive? Gives the accuracy on the samples of class 1. \n",
    "\n",
    "$$precision = \\frac{T_p}{T_p+F_p},$$\n",
    "    where $T_p$ and $F_p$ denote true positives and false positives, respectively.\n",
    "\n",
    "- Recall: Out of the actual positive samples, how many are predicted as positives?\n",
    "\n",
    "$$recall = \\frac{T_p}{T_p+F_n},$$ \n",
    "    where $F_n$ denotes false negatives."
   ]
  },
  {
   "cell_type": "code",
   "execution_count": 87,
   "metadata": {},
   "outputs": [
    {
     "name": "stdout",
     "output_type": "stream",
     "text": [
      "Precision: 0.972824427481\n",
      "Recall: 0.923746013337\n"
     ]
    }
   ],
   "source": [
    "from sklearn.metrics import precision_score\n",
    "from sklearn.metrics import recall_score\n",
    "\n",
    "p = precision_score(y_true, y_pred)\n",
    "r = recall_score(y_true, y_pred)\n",
    "\n",
    "print(\"Precision:\", p)\n",
    "print(\"Recall:\", r)"
   ]
  },
  {
   "cell_type": "markdown",
   "metadata": {},
   "source": [
    "So we see that 97.3% samples predicted as xTC are actual xTC and that from all xTC, 92.3% of them are predicted to be xTC."
   ]
  },
  {
   "cell_type": "markdown",
   "metadata": {},
   "source": [
    "### 5.3 Accuracy/Loss curves\n",
    "We now obtain the loss and accuracy curves on the training and validation sets. Note that this only works if you run the training with Tensorboard, since it uses the log history to retrieve the validation and accuracy curves. "
   ]
  },
  {
   "cell_type": "code",
   "execution_count": 97,
   "metadata": {
    "scrolled": true
   },
   "outputs": [
    {
     "data": {
      "text/plain": [
       "['events.out.tfevents.1523545504.97c10ae7d2cf']"
      ]
     },
     "execution_count": 97,
     "metadata": {},
     "output_type": "execute_result"
    }
   ],
   "source": [
    "# Make surefrom os import listdir\n",
    "listdir(join(foldername, 'tensorboard_log'))"
   ]
  },
  {
   "cell_type": "markdown",
   "metadata": {},
   "source": [
    "Next, we retrieve the training information from the log generated by Tensorboard, hence, make sure that you have used Tensorboard! Also, replace the path to the event log file."
   ]
  },
  {
   "cell_type": "code",
   "execution_count": 100,
   "metadata": {},
   "outputs": [
    {
     "name": "stdout",
     "output_type": "stream",
     "text": [
      "{'images': [], 'audio': [], 'histograms': [], 'scalars': ['val_loss', 'val_acc', 'loss', 'acc'], 'distributions': [], 'tensors': [], 'graph': True, 'meta_graph': True, 'run_metadata': []}\n"
     ]
    }
   ],
   "source": [
    "from tensorboard.backend.event_processing.event_accumulator import EventAccumulator\n",
    "path_log_file = 'results_2/tensorboard_log/events.out.tfevents.1523545504.97c10ae7d2cf'\n",
    "event_acc = EventAccumulator(path_log_file)\n",
    "event_acc.Reload()\n",
    "# Show all tags in the log file\n",
    "print(event_acc.Tags())\n",
    "\n",
    "# loss\n",
    "_, subepochs, val_loss = zip(*event_acc.Scalars('val_loss'))\n",
    "_, subepochs, train_loss = zip(*event_acc.Scalars('loss'))\n",
    "# accuracy\n",
    "_, subepochs, val_acc = zip(*event_acc.Scalars('val_acc'))\n",
    "_, subepochs, train_acc = zip(*event_acc.Scalars('acc'))"
   ]
  },
  {
   "cell_type": "code",
   "execution_count": 101,
   "metadata": {},
   "outputs": [
    {
     "data": {
      "image/png": "[encoded data removed]",
      "text/plain": [
       "<matplotlib.figure.Figure at 0x2b8c64ad77b8>"
      ]
     },
     "metadata": {},
     "output_type": "display_data"
    },
    {
     "data": {
      "image/png": "[encoded data removed]",
      "text/plain": [
       "<matplotlib.figure.Figure at 0x2b8c697cc4e0>"
      ]
     },
     "metadata": {},
     "output_type": "display_data"
    }
   ],
   "source": [
    "import matplotlib.pyplot as plt\n",
    "\n",
    "# Loss\n",
    "plt.plot(subepochs, train_loss, 'k')\n",
    "plt.plot(subepochs, val_loss, 'k--')\n",
    "plt.legend(['Train loss', 'Validation loss'])\n",
    "plt.title('Loss')\n",
    "plt.xlabel('epoch')\n",
    "plt.show()\n",
    "# plt.savefig('../_assets/loss_tcxtc.eps', format='eps', dpi=1000)\n",
    "\n",
    "# Accuracy\n",
    "plt.plot(subepochs, train_acc, 'k')\n",
    "plt.plot(subepochs, val_acc, 'k--')\n",
    "plt.legend(['Train accuracy', 'Validation accuracy'])\n",
    "plt.title('Accuracy curve')\n",
    "plt.xlabel('epoch')\n",
    "plt.show()\n",
    "# plt.savefig('../_assets/accuracy_tcxtc.eps', format='eps', dpi=1000)"
   ]
  },
  {
   "cell_type": "markdown",
   "metadata": {},
   "source": [
    "From the results above, we clearly can see that the curve behaviour is quite unstable. This is mainly to the fact that the network rapidly converged and after 2 epochs is already satisfied so it tries to improve but just does some weird things. "
   ]
  }
 ],
 "metadata": {
  "kernelspec": {
   "display_name": "Python 3",
   "language": "python",
   "name": "python3"
  },
  "language_info": {
   "codemirror_mode": {
    "name": "ipython",
    "version": 3
   },
   "file_extension": ".py",
   "mimetype": "text/x-python",
   "name": "python",
   "nbconvert_exporter": "python",
   "pygments_lexer": "ipython3",
   "version": "3.6.3"
  }
 },
 "nbformat": 4,
 "nbformat_minor": 2
}
